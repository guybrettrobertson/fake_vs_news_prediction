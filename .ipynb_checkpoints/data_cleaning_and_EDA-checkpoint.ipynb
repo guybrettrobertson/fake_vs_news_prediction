{
 "cells": [
  {
   "cell_type": "markdown",
   "metadata": {},
   "source": [
    "# Data processing"
   ]
  },
  {
   "cell_type": "markdown",
   "metadata": {},
   "source": [
    "## Background\n",
    "\n",
    "The fake vs real news dataset has been downloaded from [Kaggle](https://www.kaggle.com/clmentbisaillon/fake-and-real-news-dataset). This data set includes data for 21,417 articles considered to be 'real' news and 23,481 articles considered to be fake news.\n",
    "\n",
    "The stated task is: can you use this data set to make an algorithm able to determine if an article is fake news or not ?"
   ]
  },
  {
   "cell_type": "markdown",
   "metadata": {},
   "source": [
    "## Import packages"
   ]
  },
  {
   "cell_type": "code",
   "execution_count": 1,
   "metadata": {},
   "outputs": [],
   "source": [
    "import pandas as pd\n",
    "import numpy as np\n",
    "import matplotlib.pyplot as plt\n",
    "import seaborn as sns\n",
    "from scipy import stats\n",
    "from statsmodels.stats import weightstats as stests\n",
    "from collections import Counter"
   ]
  },
  {
   "cell_type": "markdown",
   "metadata": {},
   "source": [
    "## Read in datasets"
   ]
  },
  {
   "cell_type": "code",
   "execution_count": 2,
   "metadata": {},
   "outputs": [],
   "source": [
    "real_df = pd.read_csv('~/documents/Data/Fake vs Real News/true_raw.csv')\n",
    "fake_df = pd.read_csv('~/documents/Data/Fake vs Real News/fake_raw.csv')"
   ]
  },
  {
   "cell_type": "markdown",
   "metadata": {},
   "source": [
    "## Exploratory data analysis"
   ]
  },
  {
   "cell_type": "markdown",
   "metadata": {},
   "source": [
    "### Shape"
   ]
  },
  {
   "cell_type": "code",
   "execution_count": 3,
   "metadata": {},
   "outputs": [
    {
     "name": "stdout",
     "output_type": "stream",
     "text": [
      "(21417, 4)\n",
      "(23481, 4)\n"
     ]
    }
   ],
   "source": [
    "print(real_df.shape)\n",
    "print(fake_df.shape)"
   ]
  },
  {
   "cell_type": "markdown",
   "metadata": {},
   "source": [
    "### Column names"
   ]
  },
  {
   "cell_type": "code",
   "execution_count": 4,
   "metadata": {},
   "outputs": [
    {
     "name": "stdout",
     "output_type": "stream",
     "text": [
      "Index(['title', 'text', 'subject', 'date'], dtype='object') \n",
      "\n",
      "Index(['title', 'text', 'subject', 'date'], dtype='object')\n"
     ]
    }
   ],
   "source": [
    "print(real_df.columns, '\\n')\n",
    "print(fake_df.columns)"
   ]
  },
  {
   "cell_type": "markdown",
   "metadata": {},
   "source": [
    "### Data types"
   ]
  },
  {
   "cell_type": "code",
   "execution_count": 5,
   "metadata": {},
   "outputs": [
    {
     "name": "stdout",
     "output_type": "stream",
     "text": [
      "title      object\n",
      "text       object\n",
      "subject    object\n",
      "date       object\n",
      "dtype: object \n",
      "\n",
      "title      object\n",
      "text       object\n",
      "subject    object\n",
      "date       object\n",
      "dtype: object\n"
     ]
    }
   ],
   "source": [
    "print(real_df.dtypes, '\\n')\n",
    "print(fake_df.dtypes)"
   ]
  },
  {
   "cell_type": "markdown",
   "metadata": {},
   "source": [
    "### Drop irrelevant columns"
   ]
  },
  {
   "cell_type": "code",
   "execution_count": 6,
   "metadata": {},
   "outputs": [
    {
     "name": "stdout",
     "output_type": "stream",
     "text": [
      "['politicsNews' 'worldnews']\n",
      "['News' 'politics' 'Government News' 'left-news' 'US_News' 'Middle-east']\n"
     ]
    }
   ],
   "source": [
    "print(pd.unique(real_df['subject']))\n",
    "print(pd.unique(fake_df['subject']))"
   ]
  },
  {
   "cell_type": "markdown",
   "metadata": {},
   "source": [
    "There is no overlap of the subjects in the real dataset and those in the fake dataset. This means that you could create a model that correctly predicts real vs fake news in this data set with 100% accuracy. However, this is not a meaningful distinction, and the model would not generalise well to other datasets. Therefore, I choose to discard this column to reduce the dimensionality of the problem."
   ]
  },
  {
   "cell_type": "code",
   "execution_count": 7,
   "metadata": {},
   "outputs": [],
   "source": [
    "real_df = real_df.drop('subject', axis = 1)\n",
    "fake_df = fake_df.drop('subject', axis = 1)"
   ]
  },
  {
   "cell_type": "code",
   "execution_count": 8,
   "metadata": {},
   "outputs": [
    {
     "name": "stdout",
     "output_type": "stream",
     "text": [
      "Index(['title', 'text', 'date'], dtype='object') \n",
      "\n",
      "Index(['title', 'text', 'date'], dtype='object')\n"
     ]
    }
   ],
   "source": [
    "print(real_df.columns, '\\n')\n",
    "print(fake_df.columns)"
   ]
  },
  {
   "cell_type": "markdown",
   "metadata": {},
   "source": [
    "### Rename columns\n",
    "\n",
    "No need to rename columns in this case. Their meaning is clear."
   ]
  },
  {
   "cell_type": "markdown",
   "metadata": {},
   "source": [
    "### Check for duplicate rows"
   ]
  },
  {
   "cell_type": "code",
   "execution_count": 9,
   "metadata": {},
   "outputs": [
    {
     "name": "stdout",
     "output_type": "stream",
     "text": [
      "217\n",
      "5571\n"
     ]
    }
   ],
   "source": [
    "print(real_df.duplicated().sum())\n",
    "print(fake_df.duplicated().sum())"
   ]
  },
  {
   "cell_type": "markdown",
   "metadata": {},
   "source": [
    "### Drop duplicate rows"
   ]
  },
  {
   "cell_type": "code",
   "execution_count": 10,
   "metadata": {},
   "outputs": [],
   "source": [
    "real_df = real_df.drop_duplicates()\n",
    "fake_df = fake_df.drop_duplicates()"
   ]
  },
  {
   "cell_type": "code",
   "execution_count": 11,
   "metadata": {},
   "outputs": [
    {
     "name": "stdout",
     "output_type": "stream",
     "text": [
      "(21200, 3)\n",
      "(17910, 3)\n"
     ]
    }
   ],
   "source": [
    "print(real_df.shape)\n",
    "print(fake_df.shape)"
   ]
  },
  {
   "cell_type": "markdown",
   "metadata": {},
   "source": [
    "### Check for null or NA values"
   ]
  },
  {
   "cell_type": "code",
   "execution_count": 12,
   "metadata": {},
   "outputs": [
    {
     "name": "stdout",
     "output_type": "stream",
     "text": [
      "title    0\n",
      "text     0\n",
      "date     0\n",
      "dtype: int64 \n",
      "\n",
      "title    0\n",
      "text     0\n",
      "date     0\n",
      "dtype: int64 \n",
      "\n"
     ]
    }
   ],
   "source": [
    "print(real_df.isna().sum(), '\\n')\n",
    "print(fake_df.isna().sum(), '\\n')"
   ]
  },
  {
   "cell_type": "markdown",
   "metadata": {},
   "source": [
    "### Date column"
   ]
  },
  {
   "cell_type": "markdown",
   "metadata": {},
   "source": [
    "Convert date column to datetime object."
   ]
  },
  {
   "cell_type": "code",
   "execution_count": 13,
   "metadata": {},
   "outputs": [],
   "source": [
    "real_df['date'] = pd.to_datetime(real_df['date'], errors = 'coerce')\n",
    "fake_df['date'] = pd.to_datetime(fake_df['date'], errors = 'coerce')"
   ]
  },
  {
   "cell_type": "markdown",
   "metadata": {},
   "source": [
    "Number of rows for which the conversion failed, i.e. with invalid datetime objects in the date column."
   ]
  },
  {
   "cell_type": "code",
   "execution_count": 14,
   "metadata": {},
   "outputs": [
    {
     "name": "stdout",
     "output_type": "stream",
     "text": [
      "0\n",
      "6\n"
     ]
    }
   ],
   "source": [
    "print(sum(real_df['date'].isnull()))\n",
    "print(sum(fake_df['date'].isnull()))"
   ]
  },
  {
   "cell_type": "markdown",
   "metadata": {},
   "source": [
    "This is a trivial number compared to the total number of rows, so it is OK to drop these rows."
   ]
  },
  {
   "cell_type": "code",
   "execution_count": 15,
   "metadata": {},
   "outputs": [],
   "source": [
    "fake_df = fake_df[fake_df['date'].notnull()]"
   ]
  },
  {
   "cell_type": "code",
   "execution_count": 16,
   "metadata": {
    "scrolled": true
   },
   "outputs": [
    {
     "name": "stdout",
     "output_type": "stream",
     "text": [
      "title            object\n",
      "text             object\n",
      "date     datetime64[ns]\n",
      "dtype: object \n",
      "\n",
      "title            object\n",
      "text             object\n",
      "date     datetime64[ns]\n",
      "dtype: object\n"
     ]
    }
   ],
   "source": [
    "print(real_df.dtypes, '\\n')\n",
    "print(fake_df.dtypes)"
   ]
  },
  {
   "cell_type": "markdown",
   "metadata": {},
   "source": [
    "Earliest and latest dates."
   ]
  },
  {
   "cell_type": "code",
   "execution_count": 17,
   "metadata": {},
   "outputs": [
    {
     "name": "stdout",
     "output_type": "stream",
     "text": [
      "2016-01-13 00:00:00\n",
      "2017-12-31 00:00:00 \n",
      "\n",
      "2015-03-31 00:00:00\n",
      "2018-02-19 00:00:00\n"
     ]
    }
   ],
   "source": [
    "print(real_df['date'].min())\n",
    "print(real_df['date'].max(), '\\n')\n",
    "print(fake_df['date'].min())\n",
    "print(fake_df['date'].max())"
   ]
  },
  {
   "cell_type": "code",
   "execution_count": 18,
   "metadata": {},
   "outputs": [],
   "source": [
    "def plot_comparison_histogram(real_df, fake_df, variable_to_plot, title, xlabel, bins = None, xlim = None):\n",
    "    fig, ax = plt.subplots()\n",
    "    sns.distplot(real_df[variable_to_plot], bins = bins, kde = False)\n",
    "    sns.distplot(fake_df[variable_to_plot], bins = bins, kde = False)\n",
    "    plt.title(title)\n",
    "    plt.xlabel(xlabel)\n",
    "    plt.ylabel('Count')\n",
    "    ax.legend(['Real news', 'Fake news'])\n",
    "    plt.xlim(left = None, right = xlim)\n",
    "    plt.show()"
   ]
  },
  {
   "cell_type": "code",
   "execution_count": 19,
   "metadata": {},
   "outputs": [
    {
     "data": {
      "image/png": "[encoded data removed]",
      "text/plain": [
       "<Figure size 432x288 with 1 Axes>"
      ]
     },
     "metadata": {
      "needs_background": "light"
     },
     "output_type": "display_data"
    }
   ],
   "source": [
    "plot_comparison_histogram(real_df, fake_df, 'date',\n",
    "                          title = 'Histogram of publication dates of news articles',\n",
    "                         xlabel = 'Date')"
   ]
  },
  {
   "cell_type": "markdown",
   "metadata": {},
   "source": [
    "It appears there are structural differences between the real news data and the fake news data that do not appear to be meaningfully linked to the verisimilitude of the news articles, and would likely just obscure any genuine features. Therefore, I believe it would make sense to remove this column to reduce the dimensionality of the problem and avoid overfitting."
   ]
  },
  {
   "cell_type": "code",
   "execution_count": 20,
   "metadata": {},
   "outputs": [],
   "source": [
    "real_df = real_df.drop('date', axis = 1)\n",
    "fake_df = fake_df.drop('date', axis = 1)"
   ]
  },
  {
   "cell_type": "code",
   "execution_count": 21,
   "metadata": {},
   "outputs": [
    {
     "name": "stdout",
     "output_type": "stream",
     "text": [
      "Index(['title', 'text'], dtype='object') \n",
      "\n",
      "Index(['title', 'text'], dtype='object')\n"
     ]
    }
   ],
   "source": [
    "print(real_df.columns, '\\n')\n",
    "print(fake_df.columns)"
   ]
  },
  {
   "cell_type": "markdown",
   "metadata": {},
   "source": [
    "### Length of title"
   ]
  },
  {
   "cell_type": "markdown",
   "metadata": {},
   "source": [
    "I hypothesise that there is likely to be a relationship between the number of characters in the title of an article and the article's verisimilitude."
   ]
  },
  {
   "cell_type": "code",
   "execution_count": 22,
   "metadata": {},
   "outputs": [],
   "source": [
    "real_df['length_title'] = [len(x) for x in real_df['title']]\n",
    "fake_df['length_title'] = [len(x) for x in fake_df['title']]"
   ]
  },
  {
   "cell_type": "markdown",
   "metadata": {},
   "source": [
    "#### Histogram"
   ]
  },
  {
   "cell_type": "code",
   "execution_count": 23,
   "metadata": {},
   "outputs": [
    {
     "data": {
      "image/png": "[encoded data removed]",
      "text/plain": [
       "<Figure size 432x288 with 1 Axes>"
      ]
     },
     "metadata": {
      "needs_background": "light"
     },
     "output_type": "display_data"
    }
   ],
   "source": [
    "plot_comparison_histogram(real_df, fake_df, 'length_title',\n",
    "                          title = 'Histogram of number of characters in the title of a news article',\n",
    "                          xlabel = 'Number of characters')"
   ]
  },
  {
   "cell_type": "markdown",
   "metadata": {},
   "source": [
    "By visual inspection, the histogram shows there is likely to be a relationship between the number of characters in the title of the article and the article's verisimilitude, i.e. that an article with a longer title is more likely to be fake news."
   ]
  },
  {
   "cell_type": "markdown",
   "metadata": {},
   "source": [
    "#### Independent sample t-test"
   ]
  },
  {
   "cell_type": "code",
   "execution_count": 24,
   "metadata": {},
   "outputs": [
    {
     "name": "stdout",
     "output_type": "stream",
     "text": [
      "t = -146.33552656627356\n",
      "p = 0.0\n"
     ]
    }
   ],
   "source": [
    "t, p = stats.ttest_ind(real_df['length_title'], fake_df['length_title'])\n",
    "print(\"t = \" + str(t))\n",
    "print(\"p = \" + str(p))"
   ]
  },
  {
   "cell_type": "markdown",
   "metadata": {},
   "source": [
    "The p value approximates to zero, suggesting there is strong evidence that the means of these two samples are different, which supports the hypothesis."
   ]
  },
  {
   "cell_type": "markdown",
   "metadata": {},
   "source": [
    "### Length of body of article\n",
    "\n",
    "I hypothesise that there is likely to be a relationship between the number of characters in the body of an article and the article's verisimilitude."
   ]
  },
  {
   "cell_type": "code",
   "execution_count": 25,
   "metadata": {},
   "outputs": [],
   "source": [
    "real_df['length_text'] = [len(x) for x in real_df['text']]\n",
    "fake_df['length_text'] = [len(x) for x in fake_df['text']]"
   ]
  },
  {
   "cell_type": "markdown",
   "metadata": {},
   "source": [
    "#### Histogram"
   ]
  },
  {
   "cell_type": "code",
   "execution_count": 26,
   "metadata": {},
   "outputs": [
    {
     "data": {
      "image/png": "[encoded data removed]",
      "text/plain": [
       "<Figure size 432x288 with 1 Axes>"
      ]
     },
     "metadata": {
      "needs_background": "light"
     },
     "output_type": "display_data"
    }
   ],
   "source": [
    "plot_comparison_histogram(real_df, fake_df, 'length_text',\n",
    "                          title = 'Histogram of number of characters in the body of a news article',\n",
    "                          xlabel = 'Number of characters',\n",
    "                         bins = 200, xlim = 7500)"
   ]
  },
  {
   "cell_type": "markdown",
   "metadata": {},
   "source": [
    "By visual inspection, the histogram shows there may be a relationship between the number of characters in the body of an article and the article's verisimilitude, but this is a complex non-linear relationship that may be a result of structural differences in the data. I will therefore remove this column to reduce the dimensionality of the problem and avoid overfitting to the data."
   ]
  },
  {
   "cell_type": "code",
   "execution_count": 27,
   "metadata": {},
   "outputs": [],
   "source": [
    "real_df = real_df.drop('length_text', axis = 1)\n",
    "fake_df = fake_df.drop('length_text', axis = 1)"
   ]
  },
  {
   "cell_type": "markdown",
   "metadata": {},
   "source": [
    "### Number of capital letters in title\n",
    "\n",
    "I hypothesise that there is a relationship between the number or proportion of capital letters in an article's title and the article's verisimilitude."
   ]
  },
  {
   "cell_type": "code",
   "execution_count": 28,
   "metadata": {},
   "outputs": [],
   "source": [
    "def get_number_capitals(input_array, num_or_prop):\n",
    "    'Takes a list of string objects and returns a list of the number or proportion of capital letters in each string.'\n",
    "    output_array = []\n",
    "    \n",
    "    for i in range(len(input_array)):\n",
    "        number_capitals = sum([x.isupper() for x in input_array.iloc[i]])\n",
    "        \n",
    "        if num_or_prop == 'num':\n",
    "            output_array.append(number_capitals)\n",
    "        elif num_or_prop == 'prop':\n",
    "            proportion_capitals = number_capitals / len(input_array.iloc[i])\n",
    "            output_array.append(proportion_capitals)\n",
    "    \n",
    "    return output_array"
   ]
  },
  {
   "cell_type": "code",
   "execution_count": 29,
   "metadata": {},
   "outputs": [],
   "source": [
    "real_df['number_capitals_title'] = get_number_capitals(real_df['title'], num_or_prop = 'num')\n",
    "fake_df['number_capitals_title'] = get_number_capitals(fake_df['title'], num_or_prop = 'num')"
   ]
  },
  {
   "cell_type": "code",
   "execution_count": 30,
   "metadata": {},
   "outputs": [
    {
     "data": {
      "image/png": "[encoded data removed]",
      "text/plain": [
       "<Figure size 432x288 with 1 Axes>"
      ]
     },
     "metadata": {
      "needs_background": "light"
     },
     "output_type": "display_data"
    }
   ],
   "source": [
    "plot_comparison_histogram(real_df, fake_df, 'number_capitals_title',\n",
    "                          title = 'Histogram of number of capital letters in the title of a news article',\n",
    "                          xlabel = 'Number of capitals',\n",
    "                         xlim = 80)"
   ]
  },
  {
   "cell_type": "markdown",
   "metadata": {},
   "source": [
    "#### Independent sample t-test"
   ]
  },
  {
   "cell_type": "code",
   "execution_count": 31,
   "metadata": {},
   "outputs": [
    {
     "name": "stdout",
     "output_type": "stream",
     "text": [
      "t = -229.5815654283654\n",
      "p = 0.0\n"
     ]
    }
   ],
   "source": [
    "t, p = stats.ttest_ind(real_df['number_capitals_title'], fake_df['number_capitals_title'])\n",
    "print(\"t = \" + str(t))\n",
    "print(\"p = \" + str(p))"
   ]
  },
  {
   "cell_type": "markdown",
   "metadata": {},
   "source": [
    "The p value approximates to zero, suggesting there is strong evidence that the means of these two samples are different, which supports the hypothesis."
   ]
  },
  {
   "cell_type": "code",
   "execution_count": 32,
   "metadata": {},
   "outputs": [],
   "source": [
    "real_df['proportion_capitals_title'] = get_number_capitals(real_df['title'], num_or_prop = 'prop')\n",
    "fake_df['proportion_capitals_title'] = get_number_capitals(fake_df['title'], num_or_prop = 'prop')"
   ]
  },
  {
   "cell_type": "markdown",
   "metadata": {},
   "source": [
    "#### Histogram"
   ]
  },
  {
   "cell_type": "code",
   "execution_count": 33,
   "metadata": {},
   "outputs": [
    {
     "data": {
      "image/png": "[encoded data removed]",
      "text/plain": [
       "<Figure size 432x288 with 1 Axes>"
      ]
     },
     "metadata": {
      "needs_background": "light"
     },
     "output_type": "display_data"
    }
   ],
   "source": [
    "plot_comparison_histogram(real_df, fake_df, 'proportion_capitals_title',\n",
    "                          title = 'Histogram of proportion of capital letters in the title of a news article',\n",
    "                          xlabel = 'Number of capitals',\n",
    "                         xlim = 1)"
   ]
  },
  {
   "cell_type": "code",
   "execution_count": 34,
   "metadata": {},
   "outputs": [
    {
     "name": "stdout",
     "output_type": "stream",
     "text": [
      "t = -237.10860715086307\n",
      "p = 0.0\n"
     ]
    }
   ],
   "source": [
    "t, p = stats.ttest_ind(real_df['proportion_capitals_title'], fake_df['proportion_capitals_title'])\n",
    "print(\"t = \" + str(t))\n",
    "print(\"p = \" + str(p))"
   ]
  },
  {
   "cell_type": "markdown",
   "metadata": {},
   "source": [
    "The p value approximates to zero, suggesting there is strong evidence that the means of these two samples are different, which supports the hypothesis.\n",
    "\n",
    "The proportion_capitals_title and number_capitals_title variables appear to have a high degree of colinearity. The t statistic for proportion_capitals_title is slightly lower, so I will remove number_capitals_title in order to reduce the dimensionality of the problem."
   ]
  },
  {
   "cell_type": "code",
   "execution_count": 35,
   "metadata": {},
   "outputs": [],
   "source": [
    "real_df = real_df.drop('number_capitals_title', axis = 1)\n",
    "fake_df = fake_df.drop('number_capitals_title', axis = 1)"
   ]
  },
  {
   "cell_type": "markdown",
   "metadata": {},
   "source": [
    "### Average word length"
   ]
  },
  {
   "cell_type": "markdown",
   "metadata": {},
   "source": [
    "\n",
    "I hypothesise that there is a relationship between the number or proportion of capital letters in an article's title and the article's verisimilitude."
   ]
  },
  {
   "cell_type": "code",
   "execution_count": 36,
   "metadata": {},
   "outputs": [],
   "source": [
    "def get_avg_word_length(input_array):\n",
    "    output_array = []\n",
    "    \n",
    "    number_of_words = [1 if len(x.split()) == 0 else len(x.split()) for x in input_array]\n",
    "    number_of_characters = [len(x) for x in input_array]\n",
    "    avg_word_length = [x / y for x, y in zip(number_of_characters, number_of_words)]\n",
    "        \n",
    "    return avg_word_length"
   ]
  },
  {
   "cell_type": "code",
   "execution_count": 37,
   "metadata": {},
   "outputs": [],
   "source": [
    "real_df['avg_word_length_title'] = get_avg_word_length(real_df['title'])\n",
    "fake_df['avg_word_length_title'] = get_avg_word_length(fake_df['title'])"
   ]
  },
  {
   "cell_type": "code",
   "execution_count": 38,
   "metadata": {},
   "outputs": [
    {
     "data": {
      "image/png": "[encoded data removed]",
      "text/plain": [
       "<Figure size 432x288 with 1 Axes>"
      ]
     },
     "metadata": {
      "needs_background": "light"
     },
     "output_type": "display_data"
    }
   ],
   "source": [
    "plot_comparison_histogram(real_df, fake_df, 'avg_word_length_title',\n",
    "                          title = 'Histogram of average word length the title of a news article',\n",
    "                          xlabel = 'Average word length')"
   ]
  },
  {
   "cell_type": "code",
   "execution_count": 39,
   "metadata": {},
   "outputs": [],
   "source": [
    "real_df['avg_word_length_text'] = get_avg_word_length(real_df['text'])\n",
    "fake_df['avg_word_length_text'] = get_avg_word_length(fake_df['text'])"
   ]
  },
  {
   "cell_type": "code",
   "execution_count": 40,
   "metadata": {},
   "outputs": [
    {
     "data": {
      "image/png": "[encoded data removed]",
      "text/plain": [
       "<Figure size 432x288 with 1 Axes>"
      ]
     },
     "metadata": {
      "needs_background": "light"
     },
     "output_type": "display_data"
    }
   ],
   "source": [
    "plot_comparison_histogram(real_df, fake_df, 'avg_word_length_text',\n",
    "                          title = 'Histogram of average word length the body of a news article',\n",
    "                          xlabel = 'Average word length', bins = 500, xlim = 10)"
   ]
  },
  {
   "cell_type": "markdown",
   "metadata": {},
   "source": [
    "It does not appear that there is a relationship between the average word length of either the title or body of an article and its verisimilitude."
   ]
  },
  {
   "cell_type": "markdown",
   "metadata": {},
   "source": [
    "## Most common words"
   ]
  },
  {
   "cell_type": "code",
   "execution_count": null,
   "metadata": {},
   "outputs": [],
   "source": []
  },
  {
   "cell_type": "code",
   "execution_count": 46,
   "metadata": {},
   "outputs": [
    {
     "ename": "TypeError",
     "evalue": "'Counter' object is not callable",
     "output_type": "error",
     "traceback": [
      "\u001b[0;31m---------------------------------------------------------------------------\u001b[0m",
      "\u001b[0;31mTypeError\u001b[0m                                 Traceback (most recent call last)",
      "\u001b[0;32m<ipython-input-46-01b060e50fb6>\u001b[0m in \u001b[0;36m<module>\u001b[0;34m\u001b[0m\n\u001b[1;32m      5\u001b[0m     \u001b[0;32mreturn\u001b[0m\u001b[0;34m(\u001b[0m\u001b[0;34m[\u001b[0m\u001b[0mx\u001b[0m\u001b[0;34m[\u001b[0m\u001b[0;36m0\u001b[0m\u001b[0;34m]\u001b[0m \u001b[0;32mfor\u001b[0m \u001b[0mx\u001b[0m \u001b[0;32min\u001b[0m \u001b[0mmost_common_words\u001b[0m\u001b[0;34m]\u001b[0m\u001b[0;34m)\u001b[0m\u001b[0;34m\u001b[0m\u001b[0;34m\u001b[0m\u001b[0m\n\u001b[1;32m      6\u001b[0m \u001b[0;34m\u001b[0m\u001b[0m\n\u001b[0;32m----> 7\u001b[0;31m \u001b[0mget_most_common_words\u001b[0m\u001b[0;34m(\u001b[0m\u001b[0mreal_df\u001b[0m\u001b[0;34m[\u001b[0m\u001b[0;34m'title'\u001b[0m\u001b[0;34m]\u001b[0m\u001b[0;34m,\u001b[0m \u001b[0;36m10\u001b[0m\u001b[0;34m)\u001b[0m\u001b[0;34m\u001b[0m\u001b[0;34m\u001b[0m\u001b[0m\n\u001b[0m",
      "\u001b[0;32m<ipython-input-46-01b060e50fb6>\u001b[0m in \u001b[0;36mget_most_common_words\u001b[0;34m(input_array, n)\u001b[0m\n\u001b[1;32m      2\u001b[0m     \u001b[0mtitles\u001b[0m \u001b[0;34m=\u001b[0m \u001b[0mnp\u001b[0m\u001b[0;34m.\u001b[0m\u001b[0marray\u001b[0m\u001b[0;34m(\u001b[0m\u001b[0;34m[\u001b[0m\u001b[0mx\u001b[0m\u001b[0;34m.\u001b[0m\u001b[0msplit\u001b[0m\u001b[0;34m(\u001b[0m\u001b[0;34m)\u001b[0m \u001b[0;32mfor\u001b[0m \u001b[0mx\u001b[0m \u001b[0;32min\u001b[0m \u001b[0minput_array\u001b[0m\u001b[0;34m]\u001b[0m\u001b[0;34m)\u001b[0m\u001b[0;34m\u001b[0m\u001b[0;34m\u001b[0m\u001b[0m\n\u001b[1;32m      3\u001b[0m     \u001b[0mwords\u001b[0m \u001b[0;34m=\u001b[0m \u001b[0;34m[\u001b[0m\u001b[0mword\u001b[0m\u001b[0;34m.\u001b[0m\u001b[0mupper\u001b[0m\u001b[0;34m(\u001b[0m\u001b[0;34m)\u001b[0m \u001b[0;32mfor\u001b[0m \u001b[0msublist\u001b[0m \u001b[0;32min\u001b[0m \u001b[0mtitles\u001b[0m \u001b[0;32mfor\u001b[0m \u001b[0mword\u001b[0m \u001b[0;32min\u001b[0m \u001b[0msublist\u001b[0m\u001b[0;34m]\u001b[0m\u001b[0;34m\u001b[0m\u001b[0;34m\u001b[0m\u001b[0m\n\u001b[0;32m----> 4\u001b[0;31m     \u001b[0mmost_common_words\u001b[0m \u001b[0;34m=\u001b[0m \u001b[0mCounter\u001b[0m\u001b[0;34m(\u001b[0m\u001b[0mwords\u001b[0m\u001b[0;34m)\u001b[0m\u001b[0;34m.\u001b[0m\u001b[0mmost_common\u001b[0m\u001b[0;34m(\u001b[0m\u001b[0mn\u001b[0m\u001b[0;34m)\u001b[0m\u001b[0;34m\u001b[0m\u001b[0;34m\u001b[0m\u001b[0m\n\u001b[0m\u001b[1;32m      5\u001b[0m     \u001b[0;32mreturn\u001b[0m\u001b[0;34m(\u001b[0m\u001b[0;34m[\u001b[0m\u001b[0mx\u001b[0m\u001b[0;34m[\u001b[0m\u001b[0;36m0\u001b[0m\u001b[0;34m]\u001b[0m \u001b[0;32mfor\u001b[0m \u001b[0mx\u001b[0m \u001b[0;32min\u001b[0m \u001b[0mmost_common_words\u001b[0m\u001b[0;34m]\u001b[0m\u001b[0;34m)\u001b[0m\u001b[0;34m\u001b[0m\u001b[0;34m\u001b[0m\u001b[0m\n\u001b[1;32m      6\u001b[0m \u001b[0;34m\u001b[0m\u001b[0m\n",
      "\u001b[0;31mTypeError\u001b[0m: 'Counter' object is not callable"
     ]
    }
   ],
   "source": [
    "def get_most_common_words(input_array, n):\n",
    "    titles = np.array([x.split() for x in input_array])\n",
    "    words = [word.upper() for sublist in titles for word in sublist]\n",
    "    most_common_words = Counter(words).most_common(n)\n",
    "    return([x[0] for x in most_common_words])\n",
    "\n",
    "get_most_common_words(real_df['title'], 10)"
   ]
  },
  {
   "cell_type": "code",
   "execution_count": 44,
   "metadata": {},
   "outputs": [
    {
     "ename": "TypeError",
     "evalue": "'Counter' object is not callable",
     "output_type": "error",
     "traceback": [
      "\u001b[0;31m---------------------------------------------------------------------------\u001b[0m",
      "\u001b[0;31mTypeError\u001b[0m                                 Traceback (most recent call last)",
      "\u001b[0;32m<ipython-input-44-1ff33a0106cb>\u001b[0m in \u001b[0;36m<module>\u001b[0;34m\u001b[0m\n\u001b[0;32m----> 1\u001b[0;31m \u001b[0mget_most_common_words\u001b[0m\u001b[0;34m(\u001b[0m\u001b[0mreal_df\u001b[0m\u001b[0;34m[\u001b[0m\u001b[0;34m'title'\u001b[0m\u001b[0;34m]\u001b[0m\u001b[0;34m,\u001b[0m \u001b[0;36m100\u001b[0m\u001b[0;34m)\u001b[0m\u001b[0;34m\u001b[0m\u001b[0;34m\u001b[0m\u001b[0m\n\u001b[0m",
      "\u001b[0;32m<ipython-input-41-01b060e50fb6>\u001b[0m in \u001b[0;36mget_most_common_words\u001b[0;34m(input_array, n)\u001b[0m\n\u001b[1;32m      2\u001b[0m     \u001b[0mtitles\u001b[0m \u001b[0;34m=\u001b[0m \u001b[0mnp\u001b[0m\u001b[0;34m.\u001b[0m\u001b[0marray\u001b[0m\u001b[0;34m(\u001b[0m\u001b[0;34m[\u001b[0m\u001b[0mx\u001b[0m\u001b[0;34m.\u001b[0m\u001b[0msplit\u001b[0m\u001b[0;34m(\u001b[0m\u001b[0;34m)\u001b[0m \u001b[0;32mfor\u001b[0m \u001b[0mx\u001b[0m \u001b[0;32min\u001b[0m \u001b[0minput_array\u001b[0m\u001b[0;34m]\u001b[0m\u001b[0;34m)\u001b[0m\u001b[0;34m\u001b[0m\u001b[0;34m\u001b[0m\u001b[0m\n\u001b[1;32m      3\u001b[0m     \u001b[0mwords\u001b[0m \u001b[0;34m=\u001b[0m \u001b[0;34m[\u001b[0m\u001b[0mword\u001b[0m\u001b[0;34m.\u001b[0m\u001b[0mupper\u001b[0m\u001b[0;34m(\u001b[0m\u001b[0;34m)\u001b[0m \u001b[0;32mfor\u001b[0m \u001b[0msublist\u001b[0m \u001b[0;32min\u001b[0m \u001b[0mtitles\u001b[0m \u001b[0;32mfor\u001b[0m \u001b[0mword\u001b[0m \u001b[0;32min\u001b[0m \u001b[0msublist\u001b[0m\u001b[0;34m]\u001b[0m\u001b[0;34m\u001b[0m\u001b[0;34m\u001b[0m\u001b[0m\n\u001b[0;32m----> 4\u001b[0;31m     \u001b[0mmost_common_words\u001b[0m \u001b[0;34m=\u001b[0m \u001b[0mCounter\u001b[0m\u001b[0;34m(\u001b[0m\u001b[0mwords\u001b[0m\u001b[0;34m)\u001b[0m\u001b[0;34m.\u001b[0m\u001b[0mmost_common\u001b[0m\u001b[0;34m(\u001b[0m\u001b[0mn\u001b[0m\u001b[0;34m)\u001b[0m\u001b[0;34m\u001b[0m\u001b[0;34m\u001b[0m\u001b[0m\n\u001b[0m\u001b[1;32m      5\u001b[0m     \u001b[0;32mreturn\u001b[0m\u001b[0;34m(\u001b[0m\u001b[0;34m[\u001b[0m\u001b[0mx\u001b[0m\u001b[0;34m[\u001b[0m\u001b[0;36m0\u001b[0m\u001b[0;34m]\u001b[0m \u001b[0;32mfor\u001b[0m \u001b[0mx\u001b[0m \u001b[0;32min\u001b[0m \u001b[0mmost_common_words\u001b[0m\u001b[0;34m]\u001b[0m\u001b[0;34m)\u001b[0m\u001b[0;34m\u001b[0m\u001b[0;34m\u001b[0m\u001b[0m\n\u001b[1;32m      6\u001b[0m \u001b[0;34m\u001b[0m\u001b[0m\n",
      "\u001b[0;31mTypeError\u001b[0m: 'Counter' object is not callable"
     ]
    }
   ],
   "source": [
    "get_most_common_words(real_df['title'], 100)"
   ]
  },
  {
   "cell_type": "code",
   "execution_count": null,
   "metadata": {},
   "outputs": [],
   "source": [
    "[x[0] for x in most_occur]"
   ]
  },
  {
   "cell_type": "code",
   "execution_count": null,
   "metadata": {},
   "outputs": [],
   "source": []
  }
 ],
 "metadata": {
  "kernelspec": {
   "display_name": "Python 3",
   "language": "python",
   "name": "python3"
  },
  "language_info": {
   "codemirror_mode": {
    "name": "ipython",
    "version": 3
   },
   "file_extension": ".py",
   "mimetype": "text/x-python",
   "name": "python",
   "nbconvert_exporter": "python",
   "pygments_lexer": "ipython3",
   "version": "3.7.6"
  }
 },
 "nbformat": 4,
 "nbformat_minor": 4
}
