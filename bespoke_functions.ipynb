{
 "cells": [
  {
   "cell_type": "markdown",
   "metadata": {},
   "source": [
    "# Bespoke functions"
   ]
  },
  {
   "cell_type": "markdown",
   "metadata": {},
   "source": [
    "## Import packages"
   ]
  },
  {
   "cell_type": "code",
   "execution_count": 3,
   "metadata": {},
   "outputs": [],
   "source": [
    "import pandas as pd\n",
    "import numpy as np\n",
    "import matplotlib.pyplot as plt\n",
    "import seaborn as sns\n",
    "from scipy import stats\n",
    "from statsmodels.stats import weightstats as stests\n",
    "from collections import Counter"
   ]
  },
  {
   "cell_type": "code",
   "execution_count": 1,
   "metadata": {},
   "outputs": [],
   "source": [
    "def plot_comparison_histogram(real_df, fake_df, variable_to_plot, title, xlabel, bins = None, xlim = None):\n",
    "    fig, ax = plt.subplots()\n",
    "    sns.distplot(real_df[variable_to_plot], bins = bins, kde = False)\n",
    "    sns.distplot(fake_df[variable_to_plot], bins = bins, kde = False)\n",
    "    plt.title(title)\n",
    "    plt.xlabel(xlabel)\n",
    "    plt.ylabel('Count')\n",
    "    ax.legend(['Real news', 'Fake news'])\n",
    "    plt.xlim(left = None, right = xlim)\n",
    "    plt.show()"
   ]
  },
  {
   "cell_type": "code",
   "execution_count": 2,
   "metadata": {},
   "outputs": [],
   "source": [
    "def get_number_capitals(input_array, num_or_prop):\n",
    "    'Takes a list of string objects and returns a list of the number or proportion of capital letters in each string.'\n",
    "    output_array = []\n",
    "    \n",
    "    for i in range(len(input_array)):\n",
    "        number_capitals = sum([x.isupper() for x in input_array.iloc[i]])\n",
    "        \n",
    "        if num_or_prop == 'num':\n",
    "            output_array.append(number_capitals)\n",
    "        elif num_or_prop == 'prop':\n",
    "            proportion_capitals = number_capitals / len(input_array.iloc[i])\n",
    "            output_array.append(proportion_capitals)\n",
    "    \n",
    "    return output_array"
   ]
  },
  {
   "cell_type": "code",
   "execution_count": 4,
   "metadata": {},
   "outputs": [],
   "source": [
    "def adder(a, b):\n",
    "    return a + b"
   ]
  },
  {
   "cell_type": "code",
   "execution_count": null,
   "metadata": {},
   "outputs": [],
   "source": []
  }
 ],
 "metadata": {
  "kernelspec": {
   "display_name": "Python 3",
   "language": "python",
   "name": "python3"
  },
  "language_info": {
   "codemirror_mode": {
    "name": "ipython",
    "version": 3
   },
   "file_extension": ".py",
   "mimetype": "text/x-python",
   "name": "python",
   "nbconvert_exporter": "python",
   "pygments_lexer": "ipython3",
   "version": "3.7.6"
  }
 },
 "nbformat": 4,
 "nbformat_minor": 4
}
