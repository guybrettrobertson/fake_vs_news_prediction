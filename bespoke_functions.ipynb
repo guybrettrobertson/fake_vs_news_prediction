{
 "cells": [
  {
   "cell_type": "markdown",
   "metadata": {},
   "source": [
    "# Bespoke functions"
   ]
  },
  {
   "cell_type": "markdown",
   "metadata": {},
   "source": [
    "## Import packages"
   ]
  },
  {
   "cell_type": "code",
   "execution_count": 3,
   "metadata": {},
   "outputs": [],
   "source": [
    "import pandas as pd\n",
    "import numpy as np\n",
    "import matplotlib.pyplot as plt\n",
    "import seaborn as sns\n",
    "from scipy import stats\n",
    "from statsmodels.stats import weightstats as stests\n",
    "from collections import Counter"
   ]
  },
  {
   "cell_type": "code",
   "execution_count": 1,
   "metadata": {},
   "outputs": [],
   "source": [
    "def plot_comparison_histogram(real_df, fake_df, variable_to_plot, title, xlabel, bins = None, xlim = None):\n",
    "    fig, ax = plt.subplots()\n",
    "    sns.distplot(real_df[variable_to_plot], bins = bins, kde = False)\n",
    "    sns.distplot(fake_df[variable_to_plot], bins = bins, kde = False)\n",
    "    plt.title(title)\n",
    "    plt.xlabel(xlabel)\n",
    "    plt.ylabel('Count')\n",
    "    ax.legend(['Real news', 'Fake news'])\n",
    "    plt.xlim(left = None, right = xlim)\n",
    "    plt.show()"
   ]
  },
  {
   "cell_type": "code",
   "execution_count": 5,
   "metadata": {},
   "outputs": [],
   "source": [
    "def get_number_capitals(input_array, num_or_prop):\n",
    "    'Takes a list of string objects and returns a list of the number or proportion of capital letters in each string.'\n",
    "    output_array = []\n",
    "    \n",
    "    for i in range(len(input_array)):\n",
    "        number_capitals = sum([x.isupper() for x in input_array.iloc[i]])\n",
    "        \n",
    "        if num_or_prop == 'num':\n",
    "            output_array.append(number_capitals)\n",
    "        elif num_or_prop == 'prop':\n",
    "            proportion_capitals = number_capitals / len(input_array.iloc[i])\n",
    "            output_array.append(proportion_capitals)\n",
    "    \n",
    "    return output_array"
   ]
  },
  {
   "cell_type": "code",
   "execution_count": 6,
   "metadata": {},
   "outputs": [],
   "source": [
    "def get_most_common_words(input_array, n):\n",
    "    titles = np.array([x.split() for x in input_array])\n",
    "    words = [word.upper() for sublist in titles for word in sublist]\n",
    "    most_common_words = Counter(words).most_common(n)\n",
    "    return([x[0] for x in most_common_words])"
   ]
  },
  {
   "cell_type": "code",
   "execution_count": 7,
   "metadata": {},
   "outputs": [],
   "source": [
    "def get_avg_word_length(input_array):\n",
    "    output_array = []\n",
    "    \n",
    "    number_of_words = [1 if len(x.split()) == 0 else len(x.split()) for x in input_array]\n",
    "    number_of_characters = [len(x) for x in input_array]\n",
    "    avg_word_length = [x / y for x, y in zip(number_of_characters, number_of_words)]\n",
    "        \n",
    "    return avg_word_length"
   ]
  }
 ],
 "metadata": {
  "kernelspec": {
   "display_name": "Python 3",
   "language": "python",
   "name": "python3"
  },
  "language_info": {
   "codemirror_mode": {
    "name": "ipython",
    "version": 3
   },
   "file_extension": ".py",
   "mimetype": "text/x-python",
   "name": "python",
   "nbconvert_exporter": "python",
   "pygments_lexer": "ipython3",
   "version": "3.7.6"
  }
 },
 "nbformat": 4,
 "nbformat_minor": 4
}
