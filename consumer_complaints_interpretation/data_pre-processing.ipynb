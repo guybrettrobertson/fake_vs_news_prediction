{
 "cells": [
  {
   "cell_type": "markdown",
   "metadata": {},
   "source": [
    "# Data preprocessing"
   ]
  },
  {
   "cell_type": "markdown",
   "metadata": {},
   "source": [
    "## Import packages"
   ]
  },
  {
   "cell_type": "code",
   "execution_count": 1,
   "metadata": {},
   "outputs": [],
   "source": [
    "import numpy as np\n",
    "import pandas as pd\n",
    "import nltk\n",
    "from nltk.tokenize import word_tokenize\n",
    "from nltk.tokenize import regexp_tokenize\n",
    "from nltk.corpus import stopwords, wordnet\n",
    "from nltk.stem import PorterStemmer\n",
    "from nltk.stem import WordNetLemmatizer\n",
    "from collections import Counter"
   ]
  },
  {
   "cell_type": "markdown",
   "metadata": {},
   "source": [
    "## Read in data"
   ]
  },
  {
   "cell_type": "markdown",
   "metadata": {},
   "source": [
    "If just using a subset of all the available rows:"
   ]
  },
  {
   "cell_type": "code",
   "execution_count": null,
   "metadata": {},
   "outputs": [],
   "source": [
    "n_rows = 100\n",
    "complaints_df = pd.read_csv('~/documents/data/consumer_complaints/consumer_complaints_clean.csv', \\\n",
    "                            index_col = 0, nrows = n_rows)"
   ]
  },
  {
   "cell_type": "markdown",
   "metadata": {},
   "source": [
    "If using all rows:"
   ]
  },
  {
   "cell_type": "code",
   "execution_count": 2,
   "metadata": {},
   "outputs": [],
   "source": [
    "complaints_df = pd.read_csv('~/documents/data/consumer_complaints/consumer_complaints_clean.csv', \\\n",
    "                            index_col = 0)\n",
    "n_rows = complaints_df.shape[0]"
   ]
  },
  {
   "cell_type": "markdown",
   "metadata": {},
   "source": [
    "First complaint before pre-processing:"
   ]
  },
  {
   "cell_type": "code",
   "execution_count": 3,
   "metadata": {},
   "outputs": [
    {
     "name": "stdout",
     "output_type": "stream",
     "text": [
      "received capital one charge card offer xxxx. applied, was accepted ( {$500.00} limit ), activated card and used for xxxx presents. charge card # xxxx. right after activating card ... capital one sent me another card with same {$500.00} limit ... never activated ... never used that card. first bill from above card # came due xxxx and minimum payment due was {$15.00}. i sent in {$20.00} via uspmo and sent in before due date. with the xxxx non-activated, non used credit card ... ..they also sent me bill for some yearly fees when never even activated the card. so called them up ... ... .told them did not want the card and sent back to them. well ... .get my next bill from the card # above ( xxxx ) ... .they did not credit me for the {$20.00} payment and charged me outrageous over the limit fees, late fees, etc ... and now {$70.00} payment due. so, i called up, their rep stated they accidentally applied my {$20.00} payment to wrong account number and would be corrected. so, i sent in a {$70.00} payment via uspmo along with note to make sure account corrected and both payments applied to correct account number ( minimum due and wanted to keep that card and also repair my credit from bankruptcy in xxxx or xxxx. ) so ... xxxx bill came in the mail ... .and once again ... ..they did not apply my payment of {$70.00}, nor the previous payment of {$20.00} ... .which they stated they would correct. they charged me more outrageous over the limit fees, late fees, etc, along with some stupid note about \" spreading yourself too thin. '' i thought wow ... .this is total bs ... ..so i called numerous times, wrote numerous times ... with no success of them correcting my account, when they acknowledged their mistake ( s ) ... ... then they wanted {$120.00} for minimum payment ... .i thought this is totally illegal. sent my payments in on time and sent in more than minimum to even begin with. kept calling and writing, with no resolution like they stated. i totally quit paying at that point ... did not know what else to do at that time. sometime around end of xxxx started getting threatening phone calls from some collection agency ... ... i mean really threatening. like about every other day. well, i ended up extremely ill, in and out of hospitals around that time, doctors, more hospitals, xxxx, xxxx, xxxx ... ..etc ... ..ended up in xxxx and xxxx entire summer, due to xxxx, xxxx ( xxxx at time ) xxxx ... xxxx, xxxx, and more ( have all the records. ) anyway ... come xxxx or xxxx, xxxx, xxxx, xxxx put a freeze on my bank account. ( currently xxxx xxxx ... never knew took me to court & did an illegal judgement. called capital one ... they new nothing ... called xxxx etc..asked for verification xxxx xxxx ), etc..of my account, payments, court order, etc. did receive back some info of my account. it clearly shows that they put my more than minimum payments onto a totally different account ... ..i now have the proof, of their illegal practices regarding capital one and xxxx, xxxx and xxxx. i also have my stubs from my payments sent to them via uspmo for further proof. now, just recently i have been calls at my home from unknown number stating to call xxxx stating something to the effect of ( my name ) and \" property at ( my home ) address '' being sent from the clerks office. my mother, who is owner of this home, has also been getting such calls and days in row ... regarding me and the \" property at ( my home address. ) and clerk of court. now she is the owner of this home which we rent ... and her property has nothing to do with my capital one account which they totally illegally screwed me on..along with xxxx, xxxx xxxx xxxx illegal collection practices. so, i did look on website, and the attorney for xxxx, xxxx, xxxx did do a judgement renewal previous to us getting these harassing, threatening, illegal calls. need help here. \n",
      "\n"
     ]
    }
   ],
   "source": [
    "print(complaints_df.iloc[0, 2])"
   ]
  },
  {
   "cell_type": "markdown",
   "metadata": {},
   "source": [
    "## Make lower case\n",
    "\n",
    "Words with and without capital letters are considered to be different words by the nltk package. I can simplify the problem by making all letters lower case."
   ]
  },
  {
   "cell_type": "code",
   "execution_count": 4,
   "metadata": {},
   "outputs": [],
   "source": [
    "for col in complaints_df.columns:\n",
    "    complaints_df[col] = [element.lower() for element in complaints_df[col]]"
   ]
  },
  {
   "cell_type": "markdown",
   "metadata": {},
   "source": [
    "## Tokenize, lemmatize and remove stop words"
   ]
  },
  {
   "cell_type": "markdown",
   "metadata": {},
   "source": [
    "Here I tokenize each of the complaints by splitting them into a list of separate words, i.e. a 'bag of words'. I also discard away punctuation and numerics at this point. This will make the remaining steps easier.\n",
    "\n",
    "I use lemmatization on each word to its root to save space, speed up the following analysis, and minimise any kind of overfitting to non-meaningful words. There is also an option for stemming if lemmatization ends up being too slow.\n",
    "\n",
    "Stop words are commonly occuring words that take up space and add little meaning. Here I remove the stop words to reduce the size of the problem even further. \"xxxx\" is a a string used to replace words used in the consumer complaints with confidentiality issues. This string occurs frequently but as its meaning is obscured it adds no value. So here I add it to the list of stop words.\n",
    "\n",
    "Actually, seeing as I will do tokenization using scikit-learn's CountVectorizer and TfidfVectorizer methods, I will make the output here a string rather than separate tokens."
   ]
  },
  {
   "cell_type": "code",
   "execution_count": 5,
   "metadata": {},
   "outputs": [],
   "source": [
    "stop_words = stopwords.words('english')\n",
    "stop_words.append(\"xxxx\")"
   ]
  },
  {
   "cell_type": "code",
   "execution_count": 6,
   "metadata": {},
   "outputs": [],
   "source": [
    "# Function borrowed from https://www.kaggle.com/alvations/basic-nlp-with-nltk\n",
    "def penn2morphy(penntag):\n",
    "    \"\"\" Converts Penn Treebank tags to WordNet. \"\"\"\n",
    "    morphy_tag = {'NN':'n', 'JJ':'a',\n",
    "                  'VB':'v', 'RB':'r'}\n",
    "    try:\n",
    "        return morphy_tag[penntag[:2]]\n",
    "    except:\n",
    "        return 'n' # if mapping isn't found, fall back to Noun."
   ]
  },
  {
   "cell_type": "code",
   "execution_count": 23,
   "metadata": {},
   "outputs": [
    {
     "name": "stdout",
     "output_type": "stream",
     "text": [
      "Complaint: 0 complete\n",
      "Complaint: 1000 complete\n",
      "Complaint: 2000 complete\n",
      "Complaint: 3000 complete\n",
      "Complaint: 4000 complete\n",
      "Complaint: 5000 complete\n",
      "Complaint: 6000 complete\n",
      "Complaint: 7000 complete\n",
      "Complaint: 8000 complete\n",
      "Complaint: 9000 complete\n",
      "Complaint: 10000 complete\n",
      "Complaint: 11000 complete\n",
      "Complaint: 12000 complete\n",
      "Complaint: 13000 complete\n",
      "Complaint: 14000 complete\n",
      "Complaint: 15000 complete\n",
      "Complaint: 16000 complete\n",
      "Complaint: 17000 complete\n",
      "Complaint: 18000 complete\n",
      "Complaint: 19000 complete\n",
      "Complaint: 20000 complete\n",
      "Complaint: 21000 complete\n",
      "Complaint: 22000 complete\n",
      "Complaint: 23000 complete\n",
      "Complaint: 24000 complete\n",
      "Complaint: 25000 complete\n",
      "Complaint: 26000 complete\n",
      "Complaint: 27000 complete\n",
      "Complaint: 28000 complete\n",
      "Complaint: 29000 complete\n",
      "Complaint: 30000 complete\n",
      "Complaint: 31000 complete\n",
      "Complaint: 32000 complete\n",
      "Complaint: 33000 complete\n",
      "Complaint: 34000 complete\n",
      "Complaint: 35000 complete\n",
      "Complaint: 36000 complete\n",
      "Complaint: 37000 complete\n",
      "Complaint: 38000 complete\n",
      "Complaint: 39000 complete\n",
      "Complaint: 40000 complete\n",
      "Complaint: 41000 complete\n",
      "Complaint: 42000 complete\n",
      "Complaint: 43000 complete\n",
      "Complaint: 44000 complete\n",
      "Complaint: 45000 complete\n",
      "Complaint: 46000 complete\n",
      "Complaint: 47000 complete\n",
      "Complaint: 48000 complete\n",
      "Complaint: 49000 complete\n",
      "Complaint: 50000 complete\n",
      "Complaint: 51000 complete\n",
      "Complaint: 52000 complete\n",
      "Complaint: 53000 complete\n",
      "Complaint: 54000 complete\n",
      "Complaint: 55000 complete\n",
      "Complaint: 56000 complete\n",
      "Complaint: 57000 complete\n",
      "Complaint: 58000 complete\n",
      "Complaint: 59000 complete\n",
      "Complaint: 60000 complete\n",
      "Complaint: 61000 complete\n",
      "Complaint: 62000 complete\n",
      "Complaint: 63000 complete\n",
      "Complaint: 64000 complete\n",
      "Complaint: 65000 complete\n",
      "Complaint: 66000 complete\n",
      "Complaint: 67000 complete\n",
      "Complaint: 68000 complete\n",
      "Complaint: 69000 complete\n",
      "Complaint: 70000 complete\n",
      "Complaint: 71000 complete\n",
      "Complaint: 72000 complete\n",
      "Complaint: 73000 complete\n",
      "Complaint: 74000 complete\n",
      "Complaint: 75000 complete\n",
      "Complaint: 76000 complete\n",
      "Complaint: 77000 complete\n",
      "Complaint: 78000 complete\n",
      "Complaint: 79000 complete\n",
      "Complaint: 80000 complete\n",
      "Complaint: 81000 complete\n",
      "Complaint: 82000 complete\n",
      "Complaint: 83000 complete\n",
      "Complaint: 84000 complete\n",
      "Complaint: 85000 complete\n",
      "Complaint: 86000 complete\n",
      "Complaint: 87000 complete\n",
      "Complaint: 88000 complete\n",
      "Complaint: 89000 complete\n",
      "Complaint: 90000 complete\n",
      "Complaint: 91000 complete\n",
      "Complaint: 92000 complete\n",
      "Complaint: 93000 complete\n",
      "Complaint: 94000 complete\n",
      "Complaint: 95000 complete\n",
      "Complaint: 96000 complete\n",
      "Complaint: 97000 complete\n",
      "Complaint: 98000 complete\n",
      "Complaint: 99000 complete\n",
      "Complaint: 100000 complete\n",
      "Complaint: 101000 complete\n",
      "Complaint: 102000 complete\n",
      "Complaint: 103000 complete\n",
      "Complaint: 104000 complete\n",
      "Complaint: 105000 complete\n",
      "Complaint: 106000 complete\n",
      "Complaint: 107000 complete\n",
      "Complaint: 108000 complete\n",
      "Complaint: 109000 complete\n",
      "Complaint: 110000 complete\n",
      "Complaint: 111000 complete\n",
      "Complaint: 112000 complete\n",
      "Complaint: 113000 complete\n"
     ]
    }
   ],
   "source": [
    "pattern = r\"\\w+\"\n",
    "complaints = []\n",
    "\n",
    "# For stemming\n",
    "# ps = PorterStemmer()\n",
    "\n",
    "# For lemmatization\n",
    "lem = WordNetLemmatizer()\n",
    "\n",
    "for i in range(n_rows):\n",
    "    complaint = regexp_tokenize(complaints_df.iloc[i, 2], pattern)\n",
    "    tags = nltk.pos_tag(complaint)\n",
    "    # For stemming\n",
    "    # complaint_list = [ps.stem(word) for word in complaint if word not in stop_words and word.isalpha()]\n",
    "    \n",
    "    # For lemmatisation\n",
    "    complaint_list = [lem.lemmatize(word, pos = penn2morphy(tag)) for word, tag in tags\\\n",
    "                                          if word not in stop_words and word.isalpha()]\n",
    "    \n",
    "    complaints.append(' '.join(complaint_list))\n",
    "    \n",
    "    if i % 1000 == 0: print('Complaint:', i, 'complete')\n",
    "\n",
    "complaints_df['Consumer complaint narrative'] = complaints\n",
    "\n",
    "del complaint_list"
   ]
  },
  {
   "cell_type": "markdown",
   "metadata": {},
   "source": [
    "First complaint after pre-processing:"
   ]
  },
  {
   "cell_type": "code",
   "execution_count": 28,
   "metadata": {},
   "outputs": [
    {
     "name": "stdout",
     "output_type": "stream",
     "text": [
      "receive capital one charge card offer apply accept limit activate card use present charge card right activate card capital one sent another card limit never activate never use card first bill card come due minimum payment due send via uspmo send due date non activate non use credit card also send bill yearly fee never even activate card call tell want card send back well get next bill card credit payment charge outrageous limit fee late fee etc payment due call rep state accidentally apply payment wrong account number would correct sent payment via uspmo along note make sure account correct payment apply correct account number minimum due want keep card also repair credit bankruptcy bill come mail apply payment previous payment state would correct charge outrageous limit fee late fee etc along stupid note spread thin think wow total b call numerous time write numerous time success correct account acknowledge mistake want minimum payment think totally illegal send payment time send minimum even begin kept call write resolution like state totally quit pay point know else time sometime around end start get threaten phone call collection agency mean really threaten like every day well end extremely ill hospital around time doctor hospital etc end entire summer due time record anyway come put freeze bank account currently never know take court illegal judgement call capital one new nothing call etc ask verification etc account payment court order etc receive back info account clearly show put minimum payment onto totally different account proof illegal practice regard capital one also stub payment send via uspmo proof recently call home unknown number state call state something effect name property home address send clerk office mother owner home also get call day row regard property home address clerk court owner home rent property nothing capital one account totally illegally screw along illegal collection practice look website attorney judgement renewal previous u get harass threaten illegal call need help\n"
     ]
    }
   ],
   "source": [
    "print(complaints_df.iloc[0, 2])"
   ]
  },
  {
   "cell_type": "markdown",
   "metadata": {},
   "source": [
    "## Save pre-processed data to file"
   ]
  },
  {
   "cell_type": "markdown",
   "metadata": {},
   "source": [
    "to_pickle() is needed to preserve the list structure of the complaints column."
   ]
  },
  {
   "cell_type": "code",
   "execution_count": 25,
   "metadata": {},
   "outputs": [],
   "source": [
    "complaints_df.to_csv('~/documents/data/consumer_complaints/consumer_complaints_pre-processed.csv')"
   ]
  }
 ],
 "metadata": {
  "kernelspec": {
   "display_name": "Python 3",
   "language": "python",
   "name": "python3"
  },
  "language_info": {
   "codemirror_mode": {
    "name": "ipython",
    "version": 3
   },
   "file_extension": ".py",
   "mimetype": "text/x-python",
   "name": "python",
   "nbconvert_exporter": "python",
   "pygments_lexer": "ipython3",
   "version": "3.7.6"
  }
 },
 "nbformat": 4,
 "nbformat_minor": 4
}
