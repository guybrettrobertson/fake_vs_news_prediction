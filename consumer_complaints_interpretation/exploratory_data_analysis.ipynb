{
 "cells": [
  {
   "cell_type": "markdown",
   "metadata": {},
   "source": [
    "# Exploratory data analysis"
   ]
  },
  {
   "cell_type": "markdown",
   "metadata": {},
   "source": [
    "## Import packages"
   ]
  },
  {
   "cell_type": "code",
   "execution_count": 1,
   "metadata": {},
   "outputs": [],
   "source": [
    "import pandas as pd\n",
    "import numpy as np\n",
    "import matplotlib.pyplot as plt\n",
    "import seaborn as sns"
   ]
  },
  {
   "cell_type": "markdown",
   "metadata": {},
   "source": [
    "## Read in clean data"
   ]
  },
  {
   "cell_type": "code",
   "execution_count": 2,
   "metadata": {},
   "outputs": [],
   "source": [
    "complaints_df = pd.read_csv('~/documents/data/consumer_complaints/consumer_complaints_clean.csv', index_col = 0)"
   ]
  },
  {
   "cell_type": "markdown",
   "metadata": {},
   "source": [
    "## Investigate data"
   ]
  },
  {
   "cell_type": "code",
   "execution_count": 3,
   "metadata": {},
   "outputs": [
    {
     "data": {
      "text/plain": [
       "(113958, 6)"
      ]
     },
     "execution_count": 3,
     "metadata": {},
     "output_type": "execute_result"
    }
   ],
   "source": [
    "complaints_df.shape"
   ]
  },
  {
   "cell_type": "code",
   "execution_count": 4,
   "metadata": {},
   "outputs": [
    {
     "data": {
      "text/html": [
       "<div>\n",
       "<style scoped>\n",
       "    .dataframe tbody tr th:only-of-type {\n",
       "        vertical-align: middle;\n",
       "    }\n",
       "\n",
       "    .dataframe tbody tr th {\n",
       "        vertical-align: top;\n",
       "    }\n",
       "\n",
       "    .dataframe thead th {\n",
       "        text-align: right;\n",
       "    }\n",
       "</style>\n",
       "<table border=\"1\" class=\"dataframe\">\n",
       "  <thead>\n",
       "    <tr style=\"text-align: right;\">\n",
       "      <th></th>\n",
       "      <th>Product</th>\n",
       "      <th>Sub-product</th>\n",
       "      <th>Issue</th>\n",
       "      <th>Sub-issue</th>\n",
       "      <th>Consumer complaint narrative</th>\n",
       "      <th>Company</th>\n",
       "    </tr>\n",
       "  </thead>\n",
       "  <tbody>\n",
       "    <tr>\n",
       "      <th>57729</th>\n",
       "      <td>Credit card</td>\n",
       "      <td>NaN</td>\n",
       "      <td>Other</td>\n",
       "      <td>NaN</td>\n",
       "      <td>Received Capital One charge card offer XXXX. A...</td>\n",
       "      <td>Capital One</td>\n",
       "    </tr>\n",
       "    <tr>\n",
       "      <th>57787</th>\n",
       "      <td>Debt collection</td>\n",
       "      <td>Other (i.e. phone, health club, etc.)</td>\n",
       "      <td>Improper contact or sharing of info</td>\n",
       "      <td>Contacted me after I asked not to</td>\n",
       "      <td>I do n't know how they got my cell number. I t...</td>\n",
       "      <td>CCS Financial Services, Inc.</td>\n",
       "    </tr>\n",
       "    <tr>\n",
       "      <th>57838</th>\n",
       "      <td>Credit card</td>\n",
       "      <td>NaN</td>\n",
       "      <td>Rewards</td>\n",
       "      <td>NaN</td>\n",
       "      <td>I 'm a longtime member of Charter One Bank/RBS...</td>\n",
       "      <td>Citizens Financial Group, Inc.</td>\n",
       "    </tr>\n",
       "    <tr>\n",
       "      <th>57848</th>\n",
       "      <td>Credit reporting</td>\n",
       "      <td>NaN</td>\n",
       "      <td>Incorrect information on credit report</td>\n",
       "      <td>Information is not mine</td>\n",
       "      <td>After looking at my credit report, I saw a col...</td>\n",
       "      <td>Experian</td>\n",
       "    </tr>\n",
       "    <tr>\n",
       "      <th>57852</th>\n",
       "      <td>Debt collection</td>\n",
       "      <td>Payday loan</td>\n",
       "      <td>Improper contact or sharing of info</td>\n",
       "      <td>Talked to a third party about my debt</td>\n",
       "      <td>I received a call from a XXXX XXXX from XXXX @...</td>\n",
       "      <td>Big Picture Loans, LLC</td>\n",
       "    </tr>\n",
       "  </tbody>\n",
       "</table>\n",
       "</div>"
      ],
      "text/plain": [
       "                Product                            Sub-product  \\\n",
       "57729       Credit card                                    NaN   \n",
       "57787   Debt collection  Other (i.e. phone, health club, etc.)   \n",
       "57838       Credit card                                    NaN   \n",
       "57848  Credit reporting                                    NaN   \n",
       "57852   Debt collection                            Payday loan   \n",
       "\n",
       "                                        Issue  \\\n",
       "57729                                   Other   \n",
       "57787     Improper contact or sharing of info   \n",
       "57838                                 Rewards   \n",
       "57848  Incorrect information on credit report   \n",
       "57852     Improper contact or sharing of info   \n",
       "\n",
       "                                   Sub-issue  \\\n",
       "57729                                    NaN   \n",
       "57787      Contacted me after I asked not to   \n",
       "57838                                    NaN   \n",
       "57848                Information is not mine   \n",
       "57852  Talked to a third party about my debt   \n",
       "\n",
       "                            Consumer complaint narrative  \\\n",
       "57729  Received Capital One charge card offer XXXX. A...   \n",
       "57787  I do n't know how they got my cell number. I t...   \n",
       "57838  I 'm a longtime member of Charter One Bank/RBS...   \n",
       "57848  After looking at my credit report, I saw a col...   \n",
       "57852  I received a call from a XXXX XXXX from XXXX @...   \n",
       "\n",
       "                              Company  \n",
       "57729                     Capital One  \n",
       "57787    CCS Financial Services, Inc.  \n",
       "57838  Citizens Financial Group, Inc.  \n",
       "57848                        Experian  \n",
       "57852          Big Picture Loans, LLC  "
      ]
     },
     "execution_count": 4,
     "metadata": {},
     "output_type": "execute_result"
    }
   ],
   "source": [
    "complaints_df.head()"
   ]
  },
  {
   "cell_type": "markdown",
   "metadata": {},
   "source": [
    "### Product"
   ]
  },
  {
   "cell_type": "code",
   "execution_count": 5,
   "metadata": {},
   "outputs": [
    {
     "data": {
      "text/plain": [
       "12"
      ]
     },
     "execution_count": 5,
     "metadata": {},
     "output_type": "execute_result"
    }
   ],
   "source": [
    "complaints_df['Product'].nunique()"
   ]
  },
  {
   "cell_type": "code",
   "execution_count": 6,
   "metadata": {},
   "outputs": [
    {
     "data": {
      "text/plain": [
       "array(['Credit card', 'Debt collection', 'Credit reporting',\n",
       "       'Student loan', 'Mortgage', 'Payday loan',\n",
       "       'Bank account or service', 'Consumer Loan', 'Money transfers',\n",
       "       'Prepaid card', 'Other financial service', 'Virtual currency'],\n",
       "      dtype=object)"
      ]
     },
     "execution_count": 6,
     "metadata": {},
     "output_type": "execute_result"
    }
   ],
   "source": [
    "complaints_df['Product'].unique()"
   ]
  },
  {
   "cell_type": "code",
   "execution_count": 7,
   "metadata": {},
   "outputs": [
    {
     "data": {
      "text/plain": [
       "Debt collection            28731\n",
       "Mortgage                   24631\n",
       "Credit reporting           21626\n",
       "Credit card                13567\n",
       "Bank account or service    10419\n",
       "Consumer Loan               6392\n",
       "Student loan                4946\n",
       "Payday loan                 1244\n",
       "Prepaid card                1143\n",
       "Money transfers             1073\n",
       "Other financial service      175\n",
       "Virtual currency              11\n",
       "Name: Product, dtype: int64"
      ]
     },
     "execution_count": 7,
     "metadata": {},
     "output_type": "execute_result"
    }
   ],
   "source": [
    "complaints_df['Product'].value_counts()"
   ]
  },
  {
   "cell_type": "markdown",
   "metadata": {},
   "source": [
    "### Sub-product"
   ]
  },
  {
   "cell_type": "code",
   "execution_count": 8,
   "metadata": {},
   "outputs": [
    {
     "data": {
      "text/plain": [
       "46"
      ]
     },
     "execution_count": 8,
     "metadata": {},
     "output_type": "execute_result"
    }
   ],
   "source": [
    "complaints_df['Sub-product'].nunique()"
   ]
  },
  {
   "cell_type": "code",
   "execution_count": 9,
   "metadata": {},
   "outputs": [
    {
     "data": {
      "text/plain": [
       "array([nan, 'Other (i.e. phone, health club, etc.)', 'Payday loan',\n",
       "       'Non-federal student loan', 'Medical', 'Mortgage', 'FHA mortgage',\n",
       "       'Other mortgage', 'I do not know', 'Credit card'], dtype=object)"
      ]
     },
     "execution_count": 9,
     "metadata": {},
     "output_type": "execute_result"
    }
   ],
   "source": [
    "complaints_df['Sub-product'].unique()[0:10]"
   ]
  },
  {
   "cell_type": "code",
   "execution_count": 10,
   "metadata": {},
   "outputs": [
    {
     "data": {
      "text/plain": [
       "Conventional fixed mortgage               10893\n",
       "Other (i.e. phone, health club, etc.)      8746\n",
       "Checking account                           7147\n",
       "I do not know                              6005\n",
       "Credit card                                5526\n",
       "Medical                                    4669\n",
       "FHA mortgage                               4537\n",
       "Non-federal student loan                   3892\n",
       "Conventional adjustable mortgage (ARM)     3876\n",
       "Vehicle loan                               3489\n",
       "Name: Sub-product, dtype: int64"
      ]
     },
     "execution_count": 10,
     "metadata": {},
     "output_type": "execute_result"
    }
   ],
   "source": [
    "complaints_df['Sub-product'].value_counts()[0:10]"
   ]
  },
  {
   "cell_type": "markdown",
   "metadata": {},
   "source": [
    "### Issue"
   ]
  },
  {
   "cell_type": "code",
   "execution_count": 11,
   "metadata": {},
   "outputs": [
    {
     "data": {
      "text/plain": [
       "90"
      ]
     },
     "execution_count": 11,
     "metadata": {},
     "output_type": "execute_result"
    }
   ],
   "source": [
    "complaints_df['Issue'].nunique()"
   ]
  },
  {
   "cell_type": "code",
   "execution_count": 12,
   "metadata": {},
   "outputs": [
    {
     "data": {
      "text/plain": [
       "array(['Other', 'Improper contact or sharing of info', 'Rewards',\n",
       "       'Incorrect information on credit report',\n",
       "       'Dealing with my lender or servicer',\n",
       "       \"Cont'd attempts collect debt not owed\", \"Can't repay my loan\",\n",
       "       'Communication tactics',\n",
       "       'Loan servicing, payments, escrow account',\n",
       "       'Disclosure verification of debt'], dtype=object)"
      ]
     },
     "execution_count": 12,
     "metadata": {},
     "output_type": "execute_result"
    }
   ],
   "source": [
    "complaints_df['Issue'].unique()[0:10]"
   ]
  },
  {
   "cell_type": "code",
   "execution_count": 13,
   "metadata": {},
   "outputs": [
    {
     "data": {
      "text/plain": [
       "Incorrect information on credit report      14578\n",
       "Cont'd attempts collect debt not owed       12227\n",
       "Loan servicing, payments, escrow account    10940\n",
       "Loan modification,collection,foreclosure     8348\n",
       "Disclosure verification of debt              5119\n",
       "Account opening, closing, or management      4483\n",
       "Communication tactics                        4363\n",
       "Credit reporting company's investigation     3601\n",
       "Dealing with my lender or servicer           3538\n",
       "Managing the loan or lease                   2950\n",
       "Name: Issue, dtype: int64"
      ]
     },
     "execution_count": 13,
     "metadata": {},
     "output_type": "execute_result"
    }
   ],
   "source": [
    "complaints_df['Issue'].value_counts()[0:10]"
   ]
  },
  {
   "cell_type": "markdown",
   "metadata": {},
   "source": [
    "### Sub-issue"
   ]
  },
  {
   "cell_type": "code",
   "execution_count": 14,
   "metadata": {},
   "outputs": [
    {
     "data": {
      "text/plain": [
       "64"
      ]
     },
     "execution_count": 14,
     "metadata": {},
     "output_type": "execute_result"
    }
   ],
   "source": [
    "complaints_df['Sub-issue'].nunique()"
   ]
  },
  {
   "cell_type": "code",
   "execution_count": 15,
   "metadata": {},
   "outputs": [
    {
     "data": {
      "text/plain": [
       "array([nan, 'Contacted me after I asked not to',\n",
       "       'Information is not mine', 'Talked to a third party about my debt',\n",
       "       'Having problems with customer service', 'Debt was paid',\n",
       "       'Debt resulted from identity theft',\n",
       "       \"Can't decrease my monthly payments\",\n",
       "       'Threatened to take legal action',\n",
       "       'Not given enough info to verify debt'], dtype=object)"
      ]
     },
     "execution_count": 15,
     "metadata": {},
     "output_type": "execute_result"
    }
   ],
   "source": [
    "complaints_df['Sub-issue'].unique()[0:10]"
   ]
  },
  {
   "cell_type": "code",
   "execution_count": 16,
   "metadata": {},
   "outputs": [
    {
     "data": {
      "text/plain": [
       "Debt is not mine                        7138\n",
       "Information is not mine                 4675\n",
       "Account status                          3810\n",
       "Debt was paid                           3332\n",
       "Not given enough info to verify debt    2912\n",
       "Frequent or repeated calls              2470\n",
       "Account terms                           1963\n",
       "Attempted to collect wrong amount       1942\n",
       "Right to dispute notice not received    1770\n",
       "Public record                           1750\n",
       "Name: Sub-issue, dtype: int64"
      ]
     },
     "execution_count": 16,
     "metadata": {},
     "output_type": "execute_result"
    }
   ],
   "source": [
    "complaints_df['Sub-issue'].value_counts()[0:10]"
   ]
  },
  {
   "cell_type": "markdown",
   "metadata": {},
   "source": [
    "### Company"
   ]
  },
  {
   "cell_type": "code",
   "execution_count": 17,
   "metadata": {},
   "outputs": [
    {
     "data": {
      "text/plain": [
       "2748"
      ]
     },
     "execution_count": 17,
     "metadata": {},
     "output_type": "execute_result"
    }
   ],
   "source": [
    "complaints_df['Company'].nunique()"
   ]
  },
  {
   "cell_type": "code",
   "execution_count": 18,
   "metadata": {},
   "outputs": [
    {
     "data": {
      "text/plain": [
       "array(['Capital One', 'CCS Financial Services, Inc.',\n",
       "       'Citizens Financial Group, Inc.', 'Experian',\n",
       "       'Big Picture Loans, LLC', 'Oliphant Financial Corporation',\n",
       "       'Collection Consultants of California', 'Discover',\n",
       "       'Stellar Recovery Inc.', 'Citibank'], dtype=object)"
      ]
     },
     "execution_count": 18,
     "metadata": {},
     "output_type": "execute_result"
    }
   ],
   "source": [
    "complaints_df['Company'].unique()[0:10]"
   ]
  },
  {
   "cell_type": "code",
   "execution_count": 19,
   "metadata": {},
   "outputs": [
    {
     "data": {
      "text/plain": [
       "Debt is not mine                        7138\n",
       "Information is not mine                 4675\n",
       "Account status                          3810\n",
       "Debt was paid                           3332\n",
       "Not given enough info to verify debt    2912\n",
       "Frequent or repeated calls              2470\n",
       "Account terms                           1963\n",
       "Attempted to collect wrong amount       1942\n",
       "Right to dispute notice not received    1770\n",
       "Public record                           1750\n",
       "Name: Sub-issue, dtype: int64"
      ]
     },
     "execution_count": 19,
     "metadata": {},
     "output_type": "execute_result"
    }
   ],
   "source": [
    "complaints_df['Sub-issue'].value_counts()[0:10]"
   ]
  },
  {
   "cell_type": "markdown",
   "metadata": {},
   "source": [
    "### Consumer complaints narrative"
   ]
  },
  {
   "cell_type": "markdown",
   "metadata": {},
   "source": [
    "The 'Consumer complaints narrative' column is the key feature column. It is on this column that I will implement natural language processing techniques to make predictions regarding the complaint issue."
   ]
  },
  {
   "cell_type": "code",
   "execution_count": 20,
   "metadata": {},
   "outputs": [
    {
     "data": {
      "text/plain": [
       "112690"
      ]
     },
     "execution_count": 20,
     "metadata": {},
     "output_type": "execute_result"
    }
   ],
   "source": [
    "complaints_df['Consumer complaint narrative'].nunique()"
   ]
  },
  {
   "cell_type": "markdown",
   "metadata": {},
   "source": [
    "#### Length of complaint"
   ]
  },
  {
   "cell_type": "code",
   "execution_count": 21,
   "metadata": {},
   "outputs": [],
   "source": [
    "complaints_df['complaint_length'] = [len(complaint) for complaint in complaints_df['Consumer complaint narrative']]"
   ]
  },
  {
   "cell_type": "code",
   "execution_count": 22,
   "metadata": {},
   "outputs": [
    {
     "data": {
      "image/png": "[encoded data removed]",
      "text/plain": [
       "<Figure size 432x288 with 1 Axes>"
      ]
     },
     "metadata": {
      "needs_background": "light"
     },
     "output_type": "display_data"
    }
   ],
   "source": [
    "sns.distplot(complaints_df['complaint_length'], norm_hist = True, kde = False)\n",
    "plt.xlim([0, 4500])\n",
    "plt.title('Histogram of length of complaints')\n",
    "plt.ylabel('Normalised histogram')\n",
    "plt.xlabel('Length of complaint')\n",
    "plt.show()"
   ]
  },
  {
   "cell_type": "code",
   "execution_count": 23,
   "metadata": {},
   "outputs": [
    {
     "data": {
      "text/plain": [
       "count    113958.000000\n",
       "mean       1054.984714\n",
       "std         920.048902\n",
       "min          10.000000\n",
       "25%         396.000000\n",
       "50%         749.000000\n",
       "75%        1408.000000\n",
       "max        5153.000000\n",
       "Name: complaint_length, dtype: float64"
      ]
     },
     "execution_count": 23,
     "metadata": {},
     "output_type": "execute_result"
    }
   ],
   "source": [
    "complaints_df['complaint_length'].describe()"
   ]
  },
  {
   "cell_type": "markdown",
   "metadata": {},
   "source": [
    "### Number of words in complaint"
   ]
  },
  {
   "cell_type": "code",
   "execution_count": 24,
   "metadata": {},
   "outputs": [],
   "source": [
    "complaints_df['num_words_in_complaint'] = [len(complaint.split(' ')) + 1 for complaint \\\n",
    "                                     in complaints_df['Consumer complaint narrative']]"
   ]
  },
  {
   "cell_type": "code",
   "execution_count": 28,
   "metadata": {},
   "outputs": [
    {
     "data": {
      "image/png": "[encoded data removed]",
      "text/plain": [
       "<Figure size 432x288 with 1 Axes>"
      ]
     },
     "metadata": {
      "needs_background": "light"
     },
     "output_type": "display_data"
    }
   ],
   "source": [
    "sns.distplot(complaints_df['num_words_in_complaint'], norm_hist = True, kde = False)\n",
    "plt.xlim([0, 900])\n",
    "plt.title('Histogram of number of words in complaints')\n",
    "plt.ylabel('Normalised histogram')\n",
    "plt.xlabel('Number of words in complaint complaint')\n",
    "plt.show()"
   ]
  },
  {
   "cell_type": "code",
   "execution_count": 26,
   "metadata": {},
   "outputs": [
    {
     "data": {
      "text/plain": [
       "count    113958.000000\n",
       "mean        195.083285\n",
       "std         168.549647\n",
       "min           3.000000\n",
       "25%          74.000000\n",
       "50%         139.000000\n",
       "75%         260.000000\n",
       "max        1286.000000\n",
       "Name: num_words_in_complaint, dtype: float64"
      ]
     },
     "execution_count": 26,
     "metadata": {},
     "output_type": "execute_result"
    }
   ],
   "source": [
    "complaints_df['num_words_in_complaint'].describe()"
   ]
  }
 ],
 "metadata": {
  "kernelspec": {
   "display_name": "Python 3",
   "language": "python",
   "name": "python3"
  },
  "language_info": {
   "codemirror_mode": {
    "name": "ipython",
    "version": 3
   },
   "file_extension": ".py",
   "mimetype": "text/x-python",
   "name": "python",
   "nbconvert_exporter": "python",
   "pygments_lexer": "ipython3",
   "version": "3.7.6"
  }
 },
 "nbformat": 4,
 "nbformat_minor": 4
}
