{
 "cells": [
  {
   "cell_type": "markdown",
   "metadata": {},
   "source": [
    "# Data preparation\n",
    "\n",
    "## Background\n",
    "\n",
    "The dataset of consumer complaints on financial products was obtained from [Kaggle](https://www.kaggle.com/ashwinik/consumer-complaints-financial-products?select=Consumer_Complaints.csv). \n",
    "\n",
    "This data is a collection of complaints about consumer financial products and services that we sent to companies for response. Complaints are published after the company responds, confirming a commercial relationship with the consumer, or after 15 days, whichever comes first."
   ]
  },
  {
   "cell_type": "markdown",
   "metadata": {},
   "source": [
    "## Import packages"
   ]
  },
  {
   "cell_type": "code",
   "execution_count": 1,
   "metadata": {},
   "outputs": [],
   "source": [
    "import pandas as pd\n",
    "import numpy as np\n",
    "import matplotlib.pyplot as plt\n",
    "import seaborn as sns\n",
    "import datetime"
   ]
  },
  {
   "cell_type": "markdown",
   "metadata": {},
   "source": [
    "## Read in dataset"
   ]
  },
  {
   "cell_type": "markdown",
   "metadata": {},
   "source": [
    "Column datatypes (taken from the descriptions on the Kaggle website.)\n",
    "\n",
    "The 'ZIP code' column contains NAN entries so read in as a string for now, and convert to int type later. (Actually not a relevant column so will end up deleting it anyway.)"
   ]
  },
  {
   "cell_type": "code",
   "execution_count": 2,
   "metadata": {},
   "outputs": [],
   "source": [
    "data_types = {'Date received': str, 'Product': str, 'Sub-product': str, 'Issue': str, 'Sub-issue': str,\n",
    "       'Consumer complaint narrative': str, 'Company public response': str, 'Company': str,\n",
    "       'State': str, 'ZIP code': str, 'Tags': str, 'Consumer consent provided?': str,\n",
    "       'Submitted via': str, 'Date sent to company': str, 'Company response to consumer': str,\n",
    "       'Timely response?': str, 'Consumer disputed?': str, 'Complaint ID': int}"
   ]
  },
  {
   "cell_type": "markdown",
   "metadata": {},
   "source": [
    "Date columns to be parsed."
   ]
  },
  {
   "cell_type": "code",
   "execution_count": 3,
   "metadata": {},
   "outputs": [],
   "source": [
    "parse_dates = ['Date received', 'Date sent to company']"
   ]
  },
  {
   "cell_type": "markdown",
   "metadata": {},
   "source": [
    "Read in data."
   ]
  },
  {
   "cell_type": "code",
   "execution_count": 4,
   "metadata": {},
   "outputs": [],
   "source": [
    "complaints_df = pd.read_csv('~/documents/data/consumer_complaints/consumer_complaints_raw.csv', \\\n",
    "                            dtype = data_types, parse_dates = parse_dates)"
   ]
  },
  {
   "cell_type": "markdown",
   "metadata": {},
   "source": [
    "## Shape"
   ]
  },
  {
   "cell_type": "code",
   "execution_count": 5,
   "metadata": {},
   "outputs": [
    {
     "name": "stdout",
     "output_type": "stream",
     "text": [
      "(670598, 18)\n"
     ]
    }
   ],
   "source": [
    "print(complaints_df.shape)"
   ]
  },
  {
   "cell_type": "markdown",
   "metadata": {},
   "source": [
    "## Check for duplicate rows"
   ]
  },
  {
   "cell_type": "code",
   "execution_count": 6,
   "metadata": {},
   "outputs": [
    {
     "name": "stdout",
     "output_type": "stream",
     "text": [
      "0\n"
     ]
    }
   ],
   "source": [
    "print(complaints_df.duplicated().sum())"
   ]
  },
  {
   "cell_type": "markdown",
   "metadata": {},
   "source": [
    "## Check for null or NA values"
   ]
  },
  {
   "cell_type": "code",
   "execution_count": 7,
   "metadata": {},
   "outputs": [
    {
     "name": "stdout",
     "output_type": "stream",
     "text": [
      "Date received                        0\n",
      "Product                              0\n",
      "Sub-product                     198202\n",
      "Issue                                0\n",
      "Sub-issue                       400730\n",
      "Consumer complaint narrative    555894\n",
      "Company public response         525401\n",
      "Company                              0\n",
      "State                             5305\n",
      "ZIP code                          5324\n",
      "Tags                            575868\n",
      "Consumer consent provided?      462447\n",
      "Submitted via                        0\n",
      "Date sent to company                 0\n",
      "Company response to consumer         0\n",
      "Timely response?                     0\n",
      "Consumer disputed?               41419\n",
      "Complaint ID                         0\n",
      "dtype: int64 \n",
      "\n"
     ]
    }
   ],
   "source": [
    "print(complaints_df.isna().sum(), '\\n')"
   ]
  },
  {
   "cell_type": "markdown",
   "metadata": {},
   "source": [
    "Keep only rows with 'Consumer complaint narrative' provided."
   ]
  },
  {
   "cell_type": "code",
   "execution_count": 8,
   "metadata": {},
   "outputs": [],
   "source": [
    "complaints_df = complaints_df[complaints_df['Consumer complaint narrative'].notnull()]"
   ]
  },
  {
   "cell_type": "code",
   "execution_count": 9,
   "metadata": {},
   "outputs": [
    {
     "name": "stdout",
     "output_type": "stream",
     "text": [
      "(114704, 18)\n"
     ]
    }
   ],
   "source": [
    "print(complaints_df.shape)"
   ]
  },
  {
   "cell_type": "code",
   "execution_count": 10,
   "metadata": {},
   "outputs": [
    {
     "name": "stdout",
     "output_type": "stream",
     "text": [
      "Date received                       0\n",
      "Product                             0\n",
      "Sub-product                     35784\n",
      "Issue                               0\n",
      "Sub-issue                       57448\n",
      "Consumer complaint narrative        0\n",
      "Company public response         57417\n",
      "Company                             0\n",
      "State                             348\n",
      "ZIP code                          353\n",
      "Tags                            95333\n",
      "Consumer consent provided?          0\n",
      "Submitted via                       0\n",
      "Date sent to company                0\n",
      "Company response to consumer        0\n",
      "Timely response?                    0\n",
      "Consumer disputed?               8421\n",
      "Complaint ID                        0\n",
      "dtype: int64 \n",
      "\n"
     ]
    }
   ],
   "source": [
    "print(complaints_df.isna().sum(), '\\n')"
   ]
  },
  {
   "cell_type": "markdown",
   "metadata": {},
   "source": [
    "## Drop irrelevant columns"
   ]
  },
  {
   "cell_type": "code",
   "execution_count": 11,
   "metadata": {},
   "outputs": [],
   "source": [
    "complaints_df = complaints_df.drop(['Date received', 'Company public response', 'State', 'ZIP code', 'Tags',\\\n",
    "                                   'Consumer consent provided?', 'Submitted via', 'Date sent to company',\\\n",
    "                                   'Company public response', 'Timely response?', 'Consumer disputed?', \\\n",
    "                                    'Complaint ID', 'Company response to consumer', 'Sub-product', 'Sub-issue'], axis = 1)"
   ]
  },
  {
   "cell_type": "code",
   "execution_count": 12,
   "metadata": {},
   "outputs": [
    {
     "name": "stdout",
     "output_type": "stream",
     "text": [
      "(114704, 4)\n"
     ]
    }
   ],
   "source": [
    "print(complaints_df.shape)"
   ]
  },
  {
   "cell_type": "code",
   "execution_count": 13,
   "metadata": {},
   "outputs": [
    {
     "name": "stdout",
     "output_type": "stream",
     "text": [
      "Product                         0\n",
      "Issue                           0\n",
      "Consumer complaint narrative    0\n",
      "Company                         0\n",
      "dtype: int64 \n",
      "\n"
     ]
    }
   ],
   "source": [
    "print(complaints_df.isna().sum(), '\\n')"
   ]
  },
  {
   "cell_type": "markdown",
   "metadata": {},
   "source": [
    "## Check for duplicate rows"
   ]
  },
  {
   "cell_type": "code",
   "execution_count": 14,
   "metadata": {},
   "outputs": [
    {
     "name": "stdout",
     "output_type": "stream",
     "text": [
      "771\n"
     ]
    }
   ],
   "source": [
    "print(complaints_df.duplicated().sum())"
   ]
  },
  {
   "cell_type": "markdown",
   "metadata": {},
   "source": [
    "746 is a very small proportion of the 114,704 rows, so OK to drop duplicates."
   ]
  },
  {
   "cell_type": "code",
   "execution_count": 15,
   "metadata": {},
   "outputs": [],
   "source": [
    "complaints_df = complaints_df.drop_duplicates()"
   ]
  },
  {
   "cell_type": "markdown",
   "metadata": {},
   "source": [
    "## Make lower case"
   ]
  },
  {
   "cell_type": "code",
   "execution_count": 16,
   "metadata": {},
   "outputs": [],
   "source": [
    "for col in complaints_df.columns:\n",
    "    complaints_df[col] = [element.lower() for element in complaints_df[col]]"
   ]
  },
  {
   "cell_type": "code",
   "execution_count": 17,
   "metadata": {},
   "outputs": [
    {
     "data": {
      "text/html": [
       "<div>\n",
       "<style scoped>\n",
       "    .dataframe tbody tr th:only-of-type {\n",
       "        vertical-align: middle;\n",
       "    }\n",
       "\n",
       "    .dataframe tbody tr th {\n",
       "        vertical-align: top;\n",
       "    }\n",
       "\n",
       "    .dataframe thead th {\n",
       "        text-align: right;\n",
       "    }\n",
       "</style>\n",
       "<table border=\"1\" class=\"dataframe\">\n",
       "  <thead>\n",
       "    <tr style=\"text-align: right;\">\n",
       "      <th></th>\n",
       "      <th>Product</th>\n",
       "      <th>Issue</th>\n",
       "      <th>Consumer complaint narrative</th>\n",
       "      <th>Company</th>\n",
       "    </tr>\n",
       "  </thead>\n",
       "  <tbody>\n",
       "    <tr>\n",
       "      <th>57729</th>\n",
       "      <td>credit card</td>\n",
       "      <td>other</td>\n",
       "      <td>received capital one charge card offer xxxx. a...</td>\n",
       "      <td>capital one</td>\n",
       "    </tr>\n",
       "    <tr>\n",
       "      <th>57787</th>\n",
       "      <td>debt collection</td>\n",
       "      <td>improper contact or sharing of info</td>\n",
       "      <td>i do n't know how they got my cell number. i t...</td>\n",
       "      <td>ccs financial services, inc.</td>\n",
       "    </tr>\n",
       "    <tr>\n",
       "      <th>57838</th>\n",
       "      <td>credit card</td>\n",
       "      <td>rewards</td>\n",
       "      <td>i 'm a longtime member of charter one bank/rbs...</td>\n",
       "      <td>citizens financial group, inc.</td>\n",
       "    </tr>\n",
       "    <tr>\n",
       "      <th>57848</th>\n",
       "      <td>credit reporting</td>\n",
       "      <td>incorrect information on credit report</td>\n",
       "      <td>after looking at my credit report, i saw a col...</td>\n",
       "      <td>experian</td>\n",
       "    </tr>\n",
       "    <tr>\n",
       "      <th>57852</th>\n",
       "      <td>debt collection</td>\n",
       "      <td>improper contact or sharing of info</td>\n",
       "      <td>i received a call from a xxxx xxxx from xxxx @...</td>\n",
       "      <td>big picture loans, llc</td>\n",
       "    </tr>\n",
       "  </tbody>\n",
       "</table>\n",
       "</div>"
      ],
      "text/plain": [
       "                Product                                   Issue  \\\n",
       "57729       credit card                                   other   \n",
       "57787   debt collection     improper contact or sharing of info   \n",
       "57838       credit card                                 rewards   \n",
       "57848  credit reporting  incorrect information on credit report   \n",
       "57852   debt collection     improper contact or sharing of info   \n",
       "\n",
       "                            Consumer complaint narrative  \\\n",
       "57729  received capital one charge card offer xxxx. a...   \n",
       "57787  i do n't know how they got my cell number. i t...   \n",
       "57838  i 'm a longtime member of charter one bank/rbs...   \n",
       "57848  after looking at my credit report, i saw a col...   \n",
       "57852  i received a call from a xxxx xxxx from xxxx @...   \n",
       "\n",
       "                              Company  \n",
       "57729                     capital one  \n",
       "57787    ccs financial services, inc.  \n",
       "57838  citizens financial group, inc.  \n",
       "57848                        experian  \n",
       "57852          big picture loans, llc  "
      ]
     },
     "execution_count": 17,
     "metadata": {},
     "output_type": "execute_result"
    }
   ],
   "source": [
    "complaints_df.head()"
   ]
  },
  {
   "cell_type": "markdown",
   "metadata": {},
   "source": [
    "## Save clean data to file"
   ]
  },
  {
   "cell_type": "code",
   "execution_count": 18,
   "metadata": {},
   "outputs": [],
   "source": [
    "complaints_df.to_csv('~/documents/data/consumer_complaints/consumer_complaints_clean.csv')"
   ]
  }
 ],
 "metadata": {
  "kernelspec": {
   "display_name": "Python 3",
   "language": "python",
   "name": "python3"
  },
  "language_info": {
   "codemirror_mode": {
    "name": "ipython",
    "version": 3
   },
   "file_extension": ".py",
   "mimetype": "text/x-python",
   "name": "python",
   "nbconvert_exporter": "python",
   "pygments_lexer": "ipython3",
   "version": "3.7.6"
  }
 },
 "nbformat": 4,
 "nbformat_minor": 4
}
