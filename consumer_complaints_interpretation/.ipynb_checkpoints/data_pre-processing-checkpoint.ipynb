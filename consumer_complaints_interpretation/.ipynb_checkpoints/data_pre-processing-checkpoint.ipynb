{
 "cells": [
  {
   "cell_type": "markdown",
   "metadata": {},
   "source": [
    "# Data preprocessing"
   ]
  },
  {
   "cell_type": "markdown",
   "metadata": {},
   "source": [
    "## Import packages"
   ]
  },
  {
   "cell_type": "code",
   "execution_count": 1,
   "metadata": {},
   "outputs": [],
   "source": [
    "import numpy as np\n",
    "import pandas as pd\n",
    "import nltk\n",
    "from nltk.tokenize import word_tokenize\n",
    "from nltk.tokenize import regexp_tokenize\n",
    "from nltk.corpus import stopwords, wordnet\n",
    "from nltk.stem import PorterStemmer\n",
    "from nltk.stem import WordNetLemmatizer\n",
    "from collections import Counter"
   ]
  },
  {
   "cell_type": "markdown",
   "metadata": {},
   "source": [
    "## Read in data"
   ]
  },
  {
   "cell_type": "markdown",
   "metadata": {},
   "source": [
    "If just using a subset of all the available rows:"
   ]
  },
  {
   "cell_type": "code",
   "execution_count": 2,
   "metadata": {},
   "outputs": [],
   "source": [
    "#n_rows = 100\n",
    "#complaints_df = pd.read_csv('~/documents/data/consumer_complaints/consumer_complaints_clean.csv', \\\n",
    "#                            index_col = 0, nrows = n_rows)"
   ]
  },
  {
   "cell_type": "markdown",
   "metadata": {},
   "source": [
    "If using all rows:"
   ]
  },
  {
   "cell_type": "code",
   "execution_count": 3,
   "metadata": {},
   "outputs": [],
   "source": [
    "complaints_df = pd.read_csv('~/documents/data/consumer_complaints/consumer_complaints_clean.csv', \\\n",
    "                            index_col = 0)\n",
    "n_rows = complaints_df.shape[0]"
   ]
  },
  {
   "cell_type": "markdown",
   "metadata": {},
   "source": [
    "First complaint before pre-processing:"
   ]
  },
  {
   "cell_type": "code",
   "execution_count": 4,
   "metadata": {},
   "outputs": [
    {
     "name": "stdout",
     "output_type": "stream",
     "text": [
      "received capital one charge card offer xxxx. applied, was accepted ( {$500.00} limit ), activated card and used for xxxx presents. charge card # xxxx. right after activating card ... capital one sent me another card with same {$500.00} limit ... never activated ... never used that card. first bill from above card # came due xxxx and minimum payment due was {$15.00}. i sent in {$20.00} via uspmo and sent in before due date. with the xxxx non-activated, non used credit card ... ..they also sent me bill for some yearly fees when never even activated the card. so called them up ... ... .told them did not want the card and sent back to them. well ... .get my next bill from the card # above ( xxxx ) ... .they did not credit me for the {$20.00} payment and charged me outrageous over the limit fees, late fees, etc ... and now {$70.00} payment due. so, i called up, their rep stated they accidentally applied my {$20.00} payment to wrong account number and would be corrected. so, i sent in a {$70.00} payment via uspmo along with note to make sure account corrected and both payments applied to correct account number ( minimum due and wanted to keep that card and also repair my credit from bankruptcy in xxxx or xxxx. ) so ... xxxx bill came in the mail ... .and once again ... ..they did not apply my payment of {$70.00}, nor the previous payment of {$20.00} ... .which they stated they would correct. they charged me more outrageous over the limit fees, late fees, etc, along with some stupid note about \" spreading yourself too thin. '' i thought wow ... .this is total bs ... ..so i called numerous times, wrote numerous times ... with no success of them correcting my account, when they acknowledged their mistake ( s ) ... ... then they wanted {$120.00} for minimum payment ... .i thought this is totally illegal. sent my payments in on time and sent in more than minimum to even begin with. kept calling and writing, with no resolution like they stated. i totally quit paying at that point ... did not know what else to do at that time. sometime around end of xxxx started getting threatening phone calls from some collection agency ... ... i mean really threatening. like about every other day. well, i ended up extremely ill, in and out of hospitals around that time, doctors, more hospitals, xxxx, xxxx, xxxx ... ..etc ... ..ended up in xxxx and xxxx entire summer, due to xxxx, xxxx ( xxxx at time ) xxxx ... xxxx, xxxx, and more ( have all the records. ) anyway ... come xxxx or xxxx, xxxx, xxxx, xxxx put a freeze on my bank account. ( currently xxxx xxxx ... never knew took me to court & did an illegal judgement. called capital one ... they new nothing ... called xxxx etc..asked for verification xxxx xxxx ), etc..of my account, payments, court order, etc. did receive back some info of my account. it clearly shows that they put my more than minimum payments onto a totally different account ... ..i now have the proof, of their illegal practices regarding capital one and xxxx, xxxx and xxxx. i also have my stubs from my payments sent to them via uspmo for further proof. now, just recently i have been calls at my home from unknown number stating to call xxxx stating something to the effect of ( my name ) and \" property at ( my home ) address '' being sent from the clerks office. my mother, who is owner of this home, has also been getting such calls and days in row ... regarding me and the \" property at ( my home address. ) and clerk of court. now she is the owner of this home which we rent ... and her property has nothing to do with my capital one account which they totally illegally screwed me on..along with xxxx, xxxx xxxx xxxx illegal collection practices. so, i did look on website, and the attorney for xxxx, xxxx, xxxx did do a judgement renewal previous to us getting these harassing, threatening, illegal calls. need help here. \n",
      "\n"
     ]
    }
   ],
   "source": [
    "print(complaints_df.iloc[0, 2])"
   ]
  },
  {
   "cell_type": "markdown",
   "metadata": {},
   "source": [
    "## Make lower case\n",
    "\n",
    "Words with and without capital letters are considered to be different words by the nltk package. I can simplify the problem by making all letters lower case."
   ]
  },
  {
   "cell_type": "code",
   "execution_count": 5,
   "metadata": {},
   "outputs": [],
   "source": [
    "for col in complaints_df.columns:\n",
    "    complaints_df[col] = [element.lower() for element in complaints_df[col]]"
   ]
  },
  {
   "cell_type": "markdown",
   "metadata": {},
   "source": [
    "## Tokenize, lemmatize and remove stop words"
   ]
  },
  {
   "cell_type": "markdown",
   "metadata": {},
   "source": [
    "Here I tokenize each of the complaints by splitting them into a list of separate words, i.e. a 'bag of words'. I also discard away punctuation and numerics at this point. This will make the remaining steps easier.\n",
    "\n",
    "I use lemmatization on each word to its root to save space, speed up the following analysis, and minimise any kind of overfitting to non-meaningful words. There is also an option for stemming if lemmatization ends up being too slow.\n",
    "\n",
    "Stop words are commonly occuring words that take up space and add little meaning. Here I remove the stop words to reduce the size of the problem even further. \"xxxx\" is a a string used to replace words used in the consumer complaints with confidentiality issues. This string occurs frequently but as its meaning is obscured it adds no value. So here I add it to the list of stop words."
   ]
  },
  {
   "cell_type": "code",
   "execution_count": 6,
   "metadata": {},
   "outputs": [],
   "source": [
    "stop_words = stopwords.words('english')\n",
    "stop_words.append(\"xxxx\")"
   ]
  },
  {
   "cell_type": "code",
   "execution_count": 7,
   "metadata": {},
   "outputs": [],
   "source": [
    "# Function borrowed from https://www.kaggle.com/alvations/basic-nlp-with-nltk\n",
    "def penn2morphy(penntag):\n",
    "    \"\"\" Converts Penn Treebank tags to WordNet. \"\"\"\n",
    "    morphy_tag = {'NN':'n', 'JJ':'a',\n",
    "                  'VB':'v', 'RB':'r'}\n",
    "    try:\n",
    "        return morphy_tag[penntag[:2]]\n",
    "    except:\n",
    "        return 'n' # if mapping isn't found, fall back to Noun."
   ]
  },
  {
   "cell_type": "code",
   "execution_count": 8,
   "metadata": {},
   "outputs": [],
   "source": [
    "pattern = r\"\\w+\"\n",
    "complaints_list = []\n",
    "\n",
    "# For stemming\n",
    "# ps = PorterStemmer()\n",
    "\n",
    "# For lemmatization\n",
    "lem = WordNetLemmatizer()\n",
    "\n",
    "for i in range(n_rows):\n",
    "    complaint = regexp_tokenize(complaints_df.iloc[i, 2], pattern)\n",
    "    tags = nltk.pos_tag(complaint)\n",
    "    # For stemming\n",
    "    # complaints_list.append([ps.stem(word) for word in complaint if word not in stop_words and word.isalpha()])\n",
    "    \n",
    "    # For lemmatisation\n",
    "    complaints_list.append([lem.lemmatize(word, pos = penn2morphy(tag)) for word, tag in tags\\\n",
    "                                          if word not in stop_words and word.isalpha()])\n",
    "\n",
    "complaints_df['Consumer complaint narrative'] = complaints_list\n",
    "\n",
    "del complaints_list"
   ]
  },
  {
   "cell_type": "markdown",
   "metadata": {},
   "source": [
    "First complaint after pre-processing:"
   ]
  },
  {
   "cell_type": "code",
   "execution_count": 11,
   "metadata": {},
   "outputs": [
    {
     "name": "stdout",
     "output_type": "stream",
     "text": [
      "['receive', 'capital', 'one', 'charge', 'card', 'offer', 'apply', 'accept', 'limit', 'activate', 'card', 'use', 'present', 'charge', 'card', 'right', 'activate', 'card', 'capital', 'one', 'sent', 'another', 'card', 'limit', 'never', 'activate', 'never', 'use', 'card', 'first', 'bill', 'card', 'come', 'due', 'minimum', 'payment', 'due', 'send', 'via', 'uspmo', 'send', 'due', 'date', 'non', 'activate', 'non', 'use', 'credit', 'card', 'also', 'send', 'bill', 'yearly', 'fee', 'never', 'even', 'activate', 'card', 'call', 'tell', 'want', 'card', 'send', 'back', 'well', 'get', 'next', 'bill', 'card', 'credit', 'payment', 'charge', 'outrageous', 'limit', 'fee', 'late', 'fee', 'etc', 'payment', 'due', 'call', 'rep', 'state', 'accidentally', 'apply', 'payment', 'wrong', 'account', 'number', 'would', 'correct', 'sent', 'payment', 'via', 'uspmo', 'along', 'note', 'make', 'sure', 'account', 'correct', 'payment', 'apply', 'correct', 'account', 'number', 'minimum', 'due', 'want', 'keep', 'card', 'also', 'repair', 'credit', 'bankruptcy', 'bill', 'come', 'mail', 'apply', 'payment', 'previous', 'payment', 'state', 'would', 'correct', 'charge', 'outrageous', 'limit', 'fee', 'late', 'fee', 'etc', 'along', 'stupid', 'note', 'spread', 'thin', 'think', 'wow', 'total', 'b', 'call', 'numerous', 'time', 'write', 'numerous', 'time', 'success', 'correct', 'account', 'acknowledge', 'mistake', 'want', 'minimum', 'payment', 'think', 'totally', 'illegal', 'send', 'payment', 'time', 'send', 'minimum', 'even', 'begin', 'kept', 'call', 'write', 'resolution', 'like', 'state', 'totally', 'quit', 'pay', 'point', 'know', 'else', 'time', 'sometime', 'around', 'end', 'start', 'get', 'threaten', 'phone', 'call', 'collection', 'agency', 'mean', 'really', 'threaten', 'like', 'every', 'day', 'well', 'end', 'extremely', 'ill', 'hospital', 'around', 'time', 'doctor', 'hospital', 'etc', 'end', 'entire', 'summer', 'due', 'time', 'record', 'anyway', 'come', 'put', 'freeze', 'bank', 'account', 'currently', 'never', 'know', 'take', 'court', 'illegal', 'judgement', 'call', 'capital', 'one', 'new', 'nothing', 'call', 'etc', 'ask', 'verification', 'etc', 'account', 'payment', 'court', 'order', 'etc', 'receive', 'back', 'info', 'account', 'clearly', 'show', 'put', 'minimum', 'payment', 'onto', 'totally', 'different', 'account', 'proof', 'illegal', 'practice', 'regard', 'capital', 'one', 'also', 'stub', 'payment', 'send', 'via', 'uspmo', 'proof', 'recently', 'call', 'home', 'unknown', 'number', 'state', 'call', 'state', 'something', 'effect', 'name', 'property', 'home', 'address', 'send', 'clerk', 'office', 'mother', 'owner', 'home', 'also', 'get', 'call', 'day', 'row', 'regard', 'property', 'home', 'address', 'clerk', 'court', 'owner', 'home', 'rent', 'property', 'nothing', 'capital', 'one', 'account', 'totally', 'illegally', 'screw', 'along', 'illegal', 'collection', 'practice', 'look', 'website', 'attorney', 'judgement', 'renewal', 'previous', 'u', 'get', 'harass', 'threaten', 'illegal', 'call', 'need', 'help']\n"
     ]
    }
   ],
   "source": [
    "print(complaints_df.iloc[0, 2])"
   ]
  },
  {
   "cell_type": "markdown",
   "metadata": {},
   "source": [
    "## Save pre-processed data to file"
   ]
  },
  {
   "cell_type": "code",
   "execution_count": 12,
   "metadata": {},
   "outputs": [],
   "source": [
    "complaints_df.to_csv('~/documents/data/consumer_complaints/consumer_complaints_pre-processed.csv')"
   ]
  }
 ],
 "metadata": {
  "kernelspec": {
   "display_name": "Python 3",
   "language": "python",
   "name": "python3"
  },
  "language_info": {
   "codemirror_mode": {
    "name": "ipython",
    "version": 3
   },
   "file_extension": ".py",
   "mimetype": "text/x-python",
   "name": "python",
   "nbconvert_exporter": "python",
   "pygments_lexer": "ipython3",
   "version": "3.7.6"
  }
 },
 "nbformat": 4,
 "nbformat_minor": 4
}
