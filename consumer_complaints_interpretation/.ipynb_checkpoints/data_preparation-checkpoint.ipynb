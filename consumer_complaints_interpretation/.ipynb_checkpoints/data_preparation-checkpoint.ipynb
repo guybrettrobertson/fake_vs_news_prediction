{
 "cells": [
  {
   "cell_type": "markdown",
   "metadata": {},
   "source": [
    "# Data preparation\n",
    "\n",
    "## Background\n",
    "\n",
    "The dataset of consumer complaints on financial products was obtained from [Kaggle](https://www.kaggle.com/ashwinik/consumer-complaints-financial-products?select=Consumer_Complaints.csv). \n",
    "\n",
    "This data is a collection of complaints about consumer financial products and services that we sent to companies for response. Complaints are published after the company responds, confirming a commercial relationship with the consumer, or after 15 days, whichever comes first."
   ]
  },
  {
   "cell_type": "markdown",
   "metadata": {},
   "source": [
    "## Import packages"
   ]
  },
  {
   "cell_type": "code",
   "execution_count": 1,
   "metadata": {},
   "outputs": [],
   "source": [
    "import pandas as pd\n",
    "import numpy as np\n",
    "import matplotlib.pyplot as plt\n",
    "import seaborn as sns\n",
    "import datetime"
   ]
  },
  {
   "cell_type": "markdown",
   "metadata": {},
   "source": [
    "## Read in dataset"
   ]
  },
  {
   "cell_type": "markdown",
   "metadata": {},
   "source": [
    "Column datatypes (taken from the descriptions on the Kaggle website.)\n",
    "\n",
    "The 'ZIP code' column contains NAN entries so read in as a string for now, and convert to int type later. (Actually not a relevant column so will end up deleting it anyway.)"
   ]
  },
  {
   "cell_type": "code",
   "execution_count": 2,
   "metadata": {},
   "outputs": [],
   "source": [
    "data_types = {'Date received': str, 'Product': str, 'Sub-product': str, 'Issue': str, 'Sub-issue': str,\n",
    "       'Consumer complaint narrative': str, 'Company public response': str, 'Company': str,\n",
    "       'State': str, 'ZIP code': str, 'Tags': str, 'Consumer consent provided?': str,\n",
    "       'Submitted via': str, 'Date sent to company': str, 'Company response to consumer': str,\n",
    "       'Timely response?': str, 'Consumer disputed?': str, 'Complaint ID': int}"
   ]
  },
  {
   "cell_type": "markdown",
   "metadata": {},
   "source": [
    "Date columns to be parsed."
   ]
  },
  {
   "cell_type": "code",
   "execution_count": 3,
   "metadata": {},
   "outputs": [],
   "source": [
    "parse_dates = ['Date received', 'Date sent to company']"
   ]
  },
  {
   "cell_type": "markdown",
   "metadata": {},
   "source": [
    "Read in data."
   ]
  },
  {
   "cell_type": "code",
   "execution_count": 4,
   "metadata": {},
   "outputs": [],
   "source": [
    "complaints_df = pd.read_csv('~/documents/data/consumer_complaints/consumer_complaints_raw.csv', \\\n",
    "                            dtype = data_types, parse_dates = parse_dates)"
   ]
  },
  {
   "cell_type": "markdown",
   "metadata": {},
   "source": [
    "## Shape"
   ]
  },
  {
   "cell_type": "code",
   "execution_count": 5,
   "metadata": {},
   "outputs": [
    {
     "name": "stdout",
     "output_type": "stream",
     "text": [
      "(670598, 18)\n"
     ]
    }
   ],
   "source": [
    "print(complaints_df.shape)"
   ]
  },
  {
   "cell_type": "markdown",
   "metadata": {},
   "source": [
    "## Check for duplicate rows"
   ]
  },
  {
   "cell_type": "code",
   "execution_count": 6,
   "metadata": {},
   "outputs": [
    {
     "name": "stdout",
     "output_type": "stream",
     "text": [
      "0\n"
     ]
    }
   ],
   "source": [
    "print(complaints_df.duplicated().sum())"
   ]
  },
  {
   "cell_type": "markdown",
   "metadata": {},
   "source": [
    "## Check for null or NA values"
   ]
  },
  {
   "cell_type": "code",
   "execution_count": 7,
   "metadata": {},
   "outputs": [
    {
     "name": "stdout",
     "output_type": "stream",
     "text": [
      "Date received                        0\n",
      "Product                              0\n",
      "Sub-product                     198202\n",
      "Issue                                0\n",
      "Sub-issue                       400730\n",
      "Consumer complaint narrative    555894\n",
      "Company public response         525401\n",
      "Company                              0\n",
      "State                             5305\n",
      "ZIP code                          5324\n",
      "Tags                            575868\n",
      "Consumer consent provided?      462447\n",
      "Submitted via                        0\n",
      "Date sent to company                 0\n",
      "Company response to consumer         0\n",
      "Timely response?                     0\n",
      "Consumer disputed?               41419\n",
      "Complaint ID                         0\n",
      "dtype: int64 \n",
      "\n"
     ]
    }
   ],
   "source": [
    "print(complaints_df.isna().sum(), '\\n')"
   ]
  },
  {
   "cell_type": "markdown",
   "metadata": {},
   "source": [
    "Keep only rows with 'Consumer complaint narrative' provided."
   ]
  },
  {
   "cell_type": "code",
   "execution_count": 8,
   "metadata": {},
   "outputs": [],
   "source": [
    "complaints_df = complaints_df[complaints_df['Consumer complaint narrative'].notnull()]"
   ]
  },
  {
   "cell_type": "code",
   "execution_count": 9,
   "metadata": {},
   "outputs": [
    {
     "name": "stdout",
     "output_type": "stream",
     "text": [
      "(114704, 18)\n"
     ]
    }
   ],
   "source": [
    "print(complaints_df.shape)"
   ]
  },
  {
   "cell_type": "code",
   "execution_count": 10,
   "metadata": {},
   "outputs": [
    {
     "name": "stdout",
     "output_type": "stream",
     "text": [
      "Date received                       0\n",
      "Product                             0\n",
      "Sub-product                     35784\n",
      "Issue                               0\n",
      "Sub-issue                       57448\n",
      "Consumer complaint narrative        0\n",
      "Company public response         57417\n",
      "Company                             0\n",
      "State                             348\n",
      "ZIP code                          353\n",
      "Tags                            95333\n",
      "Consumer consent provided?          0\n",
      "Submitted via                       0\n",
      "Date sent to company                0\n",
      "Company response to consumer        0\n",
      "Timely response?                    0\n",
      "Consumer disputed?               8421\n",
      "Complaint ID                        0\n",
      "dtype: int64 \n",
      "\n"
     ]
    }
   ],
   "source": [
    "print(complaints_df.isna().sum(), '\\n')"
   ]
  },
  {
   "cell_type": "markdown",
   "metadata": {},
   "source": [
    "## Drop irrelevant columns"
   ]
  },
  {
   "cell_type": "code",
   "execution_count": 11,
   "metadata": {},
   "outputs": [],
   "source": [
    "complaints_df = complaints_df.drop(['Date received', 'Company public response', 'State', 'ZIP code', 'Tags',\\\n",
    "                                   'Consumer consent provided?', 'Submitted via', 'Date sent to company',\\\n",
    "                                   'Company public response', 'Timely response?', 'Consumer disputed?', \\\n",
    "                                    'Complaint ID', 'Company response to consumer'], axis = 1)"
   ]
  },
  {
   "cell_type": "code",
   "execution_count": 12,
   "metadata": {},
   "outputs": [
    {
     "name": "stdout",
     "output_type": "stream",
     "text": [
      "(114704, 6)\n"
     ]
    }
   ],
   "source": [
    "print(complaints_df.shape)"
   ]
  },
  {
   "cell_type": "code",
   "execution_count": 13,
   "metadata": {},
   "outputs": [
    {
     "name": "stdout",
     "output_type": "stream",
     "text": [
      "Product                             0\n",
      "Sub-product                     35784\n",
      "Issue                               0\n",
      "Sub-issue                       57448\n",
      "Consumer complaint narrative        0\n",
      "Company                             0\n",
      "dtype: int64 \n",
      "\n"
     ]
    }
   ],
   "source": [
    "print(complaints_df.isna().sum(), '\\n')"
   ]
  },
  {
   "cell_type": "markdown",
   "metadata": {},
   "source": [
    "## Check for duplicate rows"
   ]
  },
  {
   "cell_type": "code",
   "execution_count": 14,
   "metadata": {},
   "outputs": [
    {
     "name": "stdout",
     "output_type": "stream",
     "text": [
      "746\n"
     ]
    }
   ],
   "source": [
    "print(complaints_df.duplicated().sum())"
   ]
  },
  {
   "cell_type": "markdown",
   "metadata": {},
   "source": [
    "746 is a very small proportion of the 114,704 rows, so OK to drop duplicates."
   ]
  },
  {
   "cell_type": "code",
   "execution_count": 15,
   "metadata": {},
   "outputs": [],
   "source": [
    "complaints_df = complaints_df.drop_duplicates()"
   ]
  },
  {
   "cell_type": "markdown",
   "metadata": {},
   "source": [
    "## Save clean data to file"
   ]
  },
  {
   "cell_type": "code",
   "execution_count": 17,
   "metadata": {},
   "outputs": [],
   "source": [
    "complaints_df.to_csv('~/documents/data/consumer_complaints/consumer_complaints_clean.csv')"
   ]
  }
 ],
 "metadata": {
  "kernelspec": {
   "display_name": "Python 3",
   "language": "python",
   "name": "python3"
  },
  "language_info": {
   "codemirror_mode": {
    "name": "ipython",
    "version": 3
   },
   "file_extension": ".py",
   "mimetype": "text/x-python",
   "name": "python",
   "nbconvert_exporter": "python",
   "pygments_lexer": "ipython3",
   "version": "3.7.6"
  }
 },
 "nbformat": 4,
 "nbformat_minor": 4
}
