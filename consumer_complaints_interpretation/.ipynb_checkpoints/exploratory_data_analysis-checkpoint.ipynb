{
 "cells": [
  {
   "cell_type": "markdown",
   "metadata": {},
   "source": [
    "# Exploratory data analysis"
   ]
  },
  {
   "cell_type": "markdown",
   "metadata": {},
   "source": [
    "## Import packages"
   ]
  },
  {
   "cell_type": "code",
   "execution_count": 2,
   "metadata": {},
   "outputs": [],
   "source": [
    "import pandas as pd\n",
    "import numpy as np\n",
    "import matplotlib.pyplot as plt\n",
    "import seaborn as sns"
   ]
  },
  {
   "cell_type": "markdown",
   "metadata": {},
   "source": [
    "## Read in clean data"
   ]
  },
  {
   "cell_type": "code",
   "execution_count": 3,
   "metadata": {},
   "outputs": [],
   "source": [
    "complaints_df = pd.read_csv('~/documents/data/consumer_complaints/consumer_complaints_clean.csv', index_col = 0)"
   ]
  },
  {
   "cell_type": "markdown",
   "metadata": {},
   "source": [
    "## Investigate data"
   ]
  },
  {
   "cell_type": "code",
   "execution_count": 8,
   "metadata": {},
   "outputs": [
    {
     "data": {
      "text/plain": [
       "(114704, 8)"
      ]
     },
     "execution_count": 8,
     "metadata": {},
     "output_type": "execute_result"
    }
   ],
   "source": [
    "complaints_df.shape"
   ]
  },
  {
   "cell_type": "code",
   "execution_count": 9,
   "metadata": {},
   "outputs": [
    {
     "data": {
      "text/html": [
       "<div>\n",
       "<style scoped>\n",
       "    .dataframe tbody tr th:only-of-type {\n",
       "        vertical-align: middle;\n",
       "    }\n",
       "\n",
       "    .dataframe tbody tr th {\n",
       "        vertical-align: top;\n",
       "    }\n",
       "\n",
       "    .dataframe thead th {\n",
       "        text-align: right;\n",
       "    }\n",
       "</style>\n",
       "<table border=\"1\" class=\"dataframe\">\n",
       "  <thead>\n",
       "    <tr style=\"text-align: right;\">\n",
       "      <th></th>\n",
       "      <th>Product</th>\n",
       "      <th>Sub-product</th>\n",
       "      <th>Issue</th>\n",
       "      <th>Sub-issue</th>\n",
       "      <th>Consumer complaint narrative</th>\n",
       "      <th>Company</th>\n",
       "      <th>Company response to consumer</th>\n",
       "      <th>complaint_length</th>\n",
       "    </tr>\n",
       "  </thead>\n",
       "  <tbody>\n",
       "    <tr>\n",
       "      <th>57729</th>\n",
       "      <td>Credit card</td>\n",
       "      <td>NaN</td>\n",
       "      <td>Other</td>\n",
       "      <td>NaN</td>\n",
       "      <td>Received Capital One charge card offer XXXX. A...</td>\n",
       "      <td>Capital One</td>\n",
       "      <td>Closed with explanation</td>\n",
       "      <td>3875</td>\n",
       "    </tr>\n",
       "    <tr>\n",
       "      <th>57787</th>\n",
       "      <td>Debt collection</td>\n",
       "      <td>Other (i.e. phone, health club, etc.)</td>\n",
       "      <td>Improper contact or sharing of info</td>\n",
       "      <td>Contacted me after I asked not to</td>\n",
       "      <td>I do n't know how they got my cell number. I t...</td>\n",
       "      <td>CCS Financial Services, Inc.</td>\n",
       "      <td>Closed with explanation</td>\n",
       "      <td>282</td>\n",
       "    </tr>\n",
       "    <tr>\n",
       "      <th>57838</th>\n",
       "      <td>Credit card</td>\n",
       "      <td>NaN</td>\n",
       "      <td>Rewards</td>\n",
       "      <td>NaN</td>\n",
       "      <td>I 'm a longtime member of Charter One Bank/RBS...</td>\n",
       "      <td>Citizens Financial Group, Inc.</td>\n",
       "      <td>Closed with explanation</td>\n",
       "      <td>3678</td>\n",
       "    </tr>\n",
       "    <tr>\n",
       "      <th>57848</th>\n",
       "      <td>Credit reporting</td>\n",
       "      <td>NaN</td>\n",
       "      <td>Incorrect information on credit report</td>\n",
       "      <td>Information is not mine</td>\n",
       "      <td>After looking at my credit report, I saw a col...</td>\n",
       "      <td>Experian</td>\n",
       "      <td>Closed with non-monetary relief</td>\n",
       "      <td>472</td>\n",
       "    </tr>\n",
       "    <tr>\n",
       "      <th>57852</th>\n",
       "      <td>Debt collection</td>\n",
       "      <td>Payday loan</td>\n",
       "      <td>Improper contact or sharing of info</td>\n",
       "      <td>Talked to a third party about my debt</td>\n",
       "      <td>I received a call from a XXXX XXXX from XXXX @...</td>\n",
       "      <td>Big Picture Loans, LLC</td>\n",
       "      <td>Closed with explanation</td>\n",
       "      <td>656</td>\n",
       "    </tr>\n",
       "  </tbody>\n",
       "</table>\n",
       "</div>"
      ],
      "text/plain": [
       "                Product                            Sub-product  \\\n",
       "57729       Credit card                                    NaN   \n",
       "57787   Debt collection  Other (i.e. phone, health club, etc.)   \n",
       "57838       Credit card                                    NaN   \n",
       "57848  Credit reporting                                    NaN   \n",
       "57852   Debt collection                            Payday loan   \n",
       "\n",
       "                                        Issue  \\\n",
       "57729                                   Other   \n",
       "57787     Improper contact or sharing of info   \n",
       "57838                                 Rewards   \n",
       "57848  Incorrect information on credit report   \n",
       "57852     Improper contact or sharing of info   \n",
       "\n",
       "                                   Sub-issue  \\\n",
       "57729                                    NaN   \n",
       "57787      Contacted me after I asked not to   \n",
       "57838                                    NaN   \n",
       "57848                Information is not mine   \n",
       "57852  Talked to a third party about my debt   \n",
       "\n",
       "                            Consumer complaint narrative  \\\n",
       "57729  Received Capital One charge card offer XXXX. A...   \n",
       "57787  I do n't know how they got my cell number. I t...   \n",
       "57838  I 'm a longtime member of Charter One Bank/RBS...   \n",
       "57848  After looking at my credit report, I saw a col...   \n",
       "57852  I received a call from a XXXX XXXX from XXXX @...   \n",
       "\n",
       "                              Company     Company response to consumer  \\\n",
       "57729                     Capital One          Closed with explanation   \n",
       "57787    CCS Financial Services, Inc.          Closed with explanation   \n",
       "57838  Citizens Financial Group, Inc.          Closed with explanation   \n",
       "57848                        Experian  Closed with non-monetary relief   \n",
       "57852          Big Picture Loans, LLC          Closed with explanation   \n",
       "\n",
       "       complaint_length  \n",
       "57729              3875  \n",
       "57787               282  \n",
       "57838              3678  \n",
       "57848               472  \n",
       "57852               656  "
      ]
     },
     "execution_count": 9,
     "metadata": {},
     "output_type": "execute_result"
    }
   ],
   "source": [
    "complaints_df.head()"
   ]
  },
  {
   "cell_type": "code",
   "execution_count": 25,
   "metadata": {},
   "outputs": [
    {
     "data": {
      "text/plain": [
       "Index(['Product', 'Sub-product', 'Issue', 'Sub-issue',\n",
       "       'Consumer complaint narrative', 'Company',\n",
       "       'Company response to consumer', 'complaint_length',\n",
       "       'num_words_in_complaint'],\n",
       "      dtype='object')"
      ]
     },
     "execution_count": 25,
     "metadata": {},
     "output_type": "execute_result"
    }
   ],
   "source": [
    "complaints_df.columns"
   ]
  },
  {
   "cell_type": "code",
   "execution_count": null,
   "metadata": {},
   "outputs": [],
   "source": []
  },
  {
   "cell_type": "markdown",
   "metadata": {},
   "source": [
    "## Consumer complaints narrative"
   ]
  },
  {
   "cell_type": "markdown",
   "metadata": {},
   "source": [
    "The 'Consumer complaints narrative' column is the key feature column. It is on this column that I will implement natural language processing techniques to make predictions regarding the complaint issue."
   ]
  },
  {
   "cell_type": "markdown",
   "metadata": {},
   "source": [
    "### Length of complaint"
   ]
  },
  {
   "cell_type": "code",
   "execution_count": 6,
   "metadata": {},
   "outputs": [],
   "source": [
    "complaints_df['complaint_length'] = [len(complaint) for complaint in complaints_df['Consumer complaint narrative']]"
   ]
  },
  {
   "cell_type": "code",
   "execution_count": 23,
   "metadata": {},
   "outputs": [
    {
     "data": {
      "image/png": "[encoded data removed]",
      "text/plain": [
       "<Figure size 432x288 with 1 Axes>"
      ]
     },
     "metadata": {
      "needs_background": "light"
     },
     "output_type": "display_data"
    }
   ],
   "source": [
    "sns.distplot(complaints_df['complaint_length'], norm_hist = True, kde = False)\n",
    "plt.xlim([0, 4500])\n",
    "plt.title('Histogram of length of complaints')\n",
    "plt.ylabel('Normalised histogram')\n",
    "plt.xlabel('Length of complaint')\n",
    "plt.show()"
   ]
  },
  {
   "cell_type": "code",
   "execution_count": 15,
   "metadata": {},
   "outputs": [
    {
     "data": {
      "text/plain": [
       "count    114704.000000\n",
       "mean       1052.132070\n",
       "std         918.395711\n",
       "min          10.000000\n",
       "25%         396.000000\n",
       "50%         746.000000\n",
       "75%        1402.000000\n",
       "max        5153.000000\n",
       "Name: complaint_length, dtype: float64"
      ]
     },
     "execution_count": 15,
     "metadata": {},
     "output_type": "execute_result"
    }
   ],
   "source": [
    "complaints_df['complaint_length'].describe()"
   ]
  },
  {
   "cell_type": "markdown",
   "metadata": {},
   "source": [
    "### Number of words in complaint"
   ]
  },
  {
   "cell_type": "code",
   "execution_count": 19,
   "metadata": {},
   "outputs": [],
   "source": [
    "def count_words(string):\n",
    "    'Counts the number of words in a string by counting the number of spaces (assuming no double-spaces).'\n",
    "    \n",
    "    return len(string.split(' ')) + 1"
   ]
  },
  {
   "cell_type": "code",
   "execution_count": 20,
   "metadata": {},
   "outputs": [],
   "source": [
    "complaints_df['num_words_in_complaint'] = [count_words(complaint) for complaint \\\n",
    "                                     in complaints_df['Consumer complaint narrative']]"
   ]
  },
  {
   "cell_type": "code",
   "execution_count": 22,
   "metadata": {},
   "outputs": [
    {
     "data": {
      "image/png": "[encoded data removed]",
      "text/plain": [
       "<Figure size 432x288 with 1 Axes>"
      ]
     },
     "metadata": {
      "needs_background": "light"
     },
     "output_type": "display_data"
    }
   ],
   "source": [
    "sns.distplot(complaints_df['num_words_in_complaint'], norm_hist = True, kde = False)\n",
    "plt.xlim([0, 900])\n",
    "plt.title('Histogram of length of complaints')\n",
    "plt.ylabel('Normalised histogram')\n",
    "plt.xlabel('Length of complaint')\n",
    "plt.show()"
   ]
  },
  {
   "cell_type": "code",
   "execution_count": 26,
   "metadata": {},
   "outputs": [
    {
     "data": {
      "text/plain": [
       "count    114704.000000\n",
       "mean        194.549144\n",
       "std         168.240658\n",
       "min           3.000000\n",
       "25%          74.000000\n",
       "50%         139.000000\n",
       "75%         260.000000\n",
       "max        1286.000000\n",
       "Name: num_words_in_complaint, dtype: float64"
      ]
     },
     "execution_count": 26,
     "metadata": {},
     "output_type": "execute_result"
    }
   ],
   "source": [
    "complaints_df['num_words_in_complaint'].describe()"
   ]
  },
  {
   "cell_type": "code",
   "execution_count": null,
   "metadata": {},
   "outputs": [],
   "source": []
  }
 ],
 "metadata": {
  "kernelspec": {
   "display_name": "Python 3",
   "language": "python",
   "name": "python3"
  },
  "language_info": {
   "codemirror_mode": {
    "name": "ipython",
    "version": 3
   },
   "file_extension": ".py",
   "mimetype": "text/x-python",
   "name": "python",
   "nbconvert_exporter": "python",
   "pygments_lexer": "ipython3",
   "version": "3.7.6"
  }
 },
 "nbformat": 4,
 "nbformat_minor": 4
}
