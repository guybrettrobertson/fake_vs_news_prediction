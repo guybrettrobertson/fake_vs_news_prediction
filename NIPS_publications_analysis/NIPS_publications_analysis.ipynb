{
 "cells": [
  {
   "cell_type": "markdown",
   "metadata": {},
   "source": [
    "# NIPS Publications Analysis\n",
    "\n",
    "## 1. Background\n",
    "\n",
    "The purpose of this project is to use data on research papers from the Neural information Processing Systems (NIPS) conferences to investigate trends in machine learning research over time."
   ]
  },
  {
   "cell_type": "markdown",
   "metadata": {},
   "source": [
    "## 2. Import modules"
   ]
  },
  {
   "cell_type": "code",
   "execution_count": 2,
   "metadata": {},
   "outputs": [],
   "source": [
    "import pandas as pd"
   ]
  },
  {
   "cell_type": "markdown",
   "metadata": {},
   "source": [
    "## 3. Load NIPS data"
   ]
  },
  {
   "cell_type": "code",
   "execution_count": 3,
   "metadata": {},
   "outputs": [],
   "source": [
    "# Read '~/Documents/data/NIPS_publications_analysis/papers.csv' into papers\n",
    "papers = pd.read_csv('~/Documents/data/NIPS_publications_analysis/papers.csv')"
   ]
  },
  {
   "cell_type": "code",
   "execution_count": 4,
   "metadata": {},
   "outputs": [
    {
     "name": "stdout",
     "output_type": "stream",
     "text": [
      "     id  year                                              title event_type  \\\n",
      "0     1  1987  Self-Organization of Associative Database and ...        NaN   \n",
      "1    10  1987  A Mean Field Theory of Layer IV of Visual Cort...        NaN   \n",
      "2   100  1988  Storing Covariance by the Associative Long-Ter...        NaN   \n",
      "3  1000  1994  Bayesian Query Construction for Neural Network...        NaN   \n",
      "4  1001  1994  Neural Network Ensembles, Cross Validation, an...        NaN   \n",
      "\n",
      "                                            pdf_name          abstract  \\\n",
      "0  1-self-organization-of-associative-database-an...  Abstract Missing   \n",
      "1  10-a-mean-field-theory-of-layer-iv-of-visual-c...  Abstract Missing   \n",
      "2  100-storing-covariance-by-the-associative-long...  Abstract Missing   \n",
      "3  1000-bayesian-query-construction-for-neural-ne...  Abstract Missing   \n",
      "4  1001-neural-network-ensembles-cross-validation...  Abstract Missing   \n",
      "\n",
      "                                          paper_text  \n",
      "0  767\\n\\nSELF-ORGANIZATION OF ASSOCIATIVE DATABA...  \n",
      "1  683\\n\\nA MEAN FIELD THEORY OF LAYER IV OF VISU...  \n",
      "2  394\\n\\nSTORING COVARIANCE BY THE ASSOCIATIVE\\n...  \n",
      "3  Bayesian Query Construction for Neural\\nNetwor...  \n",
      "4  Neural Network Ensembles, Cross\\nValidation, a...  \n"
     ]
    }
   ],
   "source": [
    "# Print out the first rows of papers\n",
    "print(papers.head())"
   ]
  },
  {
   "cell_type": "code",
   "execution_count": null,
   "metadata": {},
   "outputs": [],
   "source": []
  }
 ],
 "metadata": {
  "kernelspec": {
   "display_name": "Python 3",
   "language": "python",
   "name": "python3"
  },
  "language_info": {
   "codemirror_mode": {
    "name": "ipython",
    "version": 3
   },
   "file_extension": ".py",
   "mimetype": "text/x-python",
   "name": "python",
   "nbconvert_exporter": "python",
   "pygments_lexer": "ipython3",
   "version": "3.7.6"
  }
 },
 "nbformat": 4,
 "nbformat_minor": 4
}
