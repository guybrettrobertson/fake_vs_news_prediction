{
 "cells": [
  {
   "cell_type": "markdown",
   "metadata": {},
   "source": [
    "# NIPS Publications Analysis\n",
    "\n",
    "## 1. Background\n",
    "\n",
    "The purpose of this project is to use data on research papers from the Neural information Processing Systems (NIPS) conferences to investigate trends in machine learning research over time."
   ]
  },
  {
   "cell_type": "markdown",
   "metadata": {},
   "source": [
    "## 2. Import modules"
   ]
  },
  {
   "cell_type": "code",
   "execution_count": 17,
   "metadata": {},
   "outputs": [],
   "source": [
    "import pandas as pd\n",
    "import matplotlib.pyplot as plt"
   ]
  },
  {
   "cell_type": "markdown",
   "metadata": {},
   "source": [
    "## 3. Load NIPS data"
   ]
  },
  {
   "cell_type": "code",
   "execution_count": 11,
   "metadata": {},
   "outputs": [],
   "source": [
    "# Read '~/Documents/data/NIPS_publications_analysis/papers.csv' into papers\n",
    "papers = pd.read_csv('~/Documents/data/NIPS_publications_analysis/papers.csv')"
   ]
  },
  {
   "cell_type": "code",
   "execution_count": 12,
   "metadata": {},
   "outputs": [
    {
     "name": "stdout",
     "output_type": "stream",
     "text": [
      "     id  year                                              title event_type  \\\n",
      "0     1  1987  Self-Organization of Associative Database and ...        NaN   \n",
      "1    10  1987  A Mean Field Theory of Layer IV of Visual Cort...        NaN   \n",
      "2   100  1988  Storing Covariance by the Associative Long-Ter...        NaN   \n",
      "3  1000  1994  Bayesian Query Construction for Neural Network...        NaN   \n",
      "4  1001  1994  Neural Network Ensembles, Cross Validation, an...        NaN   \n",
      "\n",
      "                                            pdf_name          abstract  \\\n",
      "0  1-self-organization-of-associative-database-an...  Abstract Missing   \n",
      "1  10-a-mean-field-theory-of-layer-iv-of-visual-c...  Abstract Missing   \n",
      "2  100-storing-covariance-by-the-associative-long...  Abstract Missing   \n",
      "3  1000-bayesian-query-construction-for-neural-ne...  Abstract Missing   \n",
      "4  1001-neural-network-ensembles-cross-validation...  Abstract Missing   \n",
      "\n",
      "                                          paper_text  \n",
      "0  767\\n\\nSELF-ORGANIZATION OF ASSOCIATIVE DATABA...  \n",
      "1  683\\n\\nA MEAN FIELD THEORY OF LAYER IV OF VISU...  \n",
      "2  394\\n\\nSTORING COVARIANCE BY THE ASSOCIATIVE\\n...  \n",
      "3  Bayesian Query Construction for Neural\\nNetwor...  \n",
      "4  Neural Network Ensembles, Cross\\nValidation, a...  \n"
     ]
    }
   ],
   "source": [
    "# Print out the first rows of papers\n",
    "print(papers.head())"
   ]
  },
  {
   "cell_type": "markdown",
   "metadata": {},
   "source": [
    "## 4. Prepare the data for analysis\n",
    "\n",
    "For our analysis, we only need to keep each paper's text data as well as the year in which it was published. The other columns can therefore be removed."
   ]
  },
  {
   "cell_type": "code",
   "execution_count": 13,
   "metadata": {},
   "outputs": [
    {
     "data": {
      "text/plain": [
       "Index(['id', 'year', 'title', 'event_type', 'pdf_name', 'abstract',\n",
       "       'paper_text'],\n",
       "      dtype='object')"
      ]
     },
     "execution_count": 13,
     "metadata": {},
     "output_type": "execute_result"
    }
   ],
   "source": [
    "# Print out the column names of papers\n",
    "papers.columns"
   ]
  },
  {
   "cell_type": "code",
   "execution_count": 14,
   "metadata": {},
   "outputs": [],
   "source": [
    "# Drop the columns: 'id', 'event_type', and 'pdf_name'\n",
    "papers = papers.drop(columns=['id', 'event_type', 'pdf_name'])"
   ]
  },
  {
   "cell_type": "code",
   "execution_count": 15,
   "metadata": {},
   "outputs": [
    {
     "data": {
      "text/plain": [
       "Index(['year', 'title', 'abstract', 'paper_text'], dtype='object')"
      ]
     },
     "execution_count": 15,
     "metadata": {},
     "output_type": "execute_result"
    }
   ],
   "source": [
    "# Print out the column names of papers\n",
    "papers.columns"
   ]
  },
  {
   "cell_type": "code",
   "execution_count": 16,
   "metadata": {},
   "outputs": [
    {
     "name": "stdout",
     "output_type": "stream",
     "text": [
      "   year                                              title          abstract  \\\n",
      "0  1987  Self-Organization of Associative Database and ...  Abstract Missing   \n",
      "1  1987  A Mean Field Theory of Layer IV of Visual Cort...  Abstract Missing   \n",
      "2  1988  Storing Covariance by the Associative Long-Ter...  Abstract Missing   \n",
      "3  1994  Bayesian Query Construction for Neural Network...  Abstract Missing   \n",
      "4  1994  Neural Network Ensembles, Cross Validation, an...  Abstract Missing   \n",
      "\n",
      "                                          paper_text  \n",
      "0  767\\n\\nSELF-ORGANIZATION OF ASSOCIATIVE DATABA...  \n",
      "1  683\\n\\nA MEAN FIELD THEORY OF LAYER IV OF VISU...  \n",
      "2  394\\n\\nSTORING COVARIANCE BY THE ASSOCIATIVE\\n...  \n",
      "3  Bayesian Query Construction for Neural\\nNetwor...  \n",
      "4  Neural Network Ensembles, Cross\\nValidation, a...  \n"
     ]
    }
   ],
   "source": [
    "# Print out the first rows of papers\n",
    "print(papers.head())"
   ]
  },
  {
   "cell_type": "markdown",
   "metadata": {},
   "source": [
    "## 5. Visualise evolution of machine learning research over time"
   ]
  },
  {
   "cell_type": "code",
   "execution_count": 21,
   "metadata": {},
   "outputs": [],
   "source": [
    "# Group the data by year\n",
    "groups = papers.groupby('year')"
   ]
  },
  {
   "cell_type": "code",
   "execution_count": 27,
   "metadata": {},
   "outputs": [],
   "source": [
    "# Find the size of each group\n",
    "counts = groups.size()"
   ]
  },
  {
   "cell_type": "code",
   "execution_count": 32,
   "metadata": {},
   "outputs": [
    {
     "data": {
      "image/png": "[encoded data removed]",
      "text/plain": [
       "<Figure size 432x288 with 1 Axes>"
      ]
     },
     "metadata": {
      "needs_background": "light"
     },
     "output_type": "display_data"
    }
   ],
   "source": [
    "# Plot the numbers of papers published each year\n",
    "counts.plot(kind='line')\n",
    "plt.title('Number of NIPS research papers published over time')\n",
    "plt.ylabel('Number of NIPS research papers')\n",
    "plt.show()"
   ]
  },
  {
   "cell_type": "code",
   "execution_count": null,
   "metadata": {},
   "outputs": [],
   "source": []
  }
 ],
 "metadata": {
  "kernelspec": {
   "display_name": "Python 3",
   "language": "python",
   "name": "python3"
  },
  "language_info": {
   "codemirror_mode": {
    "name": "ipython",
    "version": 3
   },
   "file_extension": ".py",
   "mimetype": "text/x-python",
   "name": "python",
   "nbconvert_exporter": "python",
   "pygments_lexer": "ipython3",
   "version": "3.7.6"
  }
 },
 "nbformat": 4,
 "nbformat_minor": 4
}
