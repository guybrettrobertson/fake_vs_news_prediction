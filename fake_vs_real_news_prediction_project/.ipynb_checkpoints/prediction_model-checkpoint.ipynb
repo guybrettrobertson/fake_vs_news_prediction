{
 "cells": [
  {
   "cell_type": "markdown",
   "metadata": {},
   "source": [
    "# Real vs fake news prediction model"
   ]
  },
  {
   "cell_type": "markdown",
   "metadata": {},
   "source": [
    "## Import packages"
   ]
  },
  {
   "cell_type": "code",
   "execution_count": 1,
   "metadata": {},
   "outputs": [],
   "source": [
    "import pandas as pd\n",
    "import numpy as np\n",
    "import matplotlib.pyplot as plt\n",
    "import seaborn as sns\n",
    "from sklearn.preprocessing import StandardScaler\n",
    "from sklearn.model_selection import train_test_split, cross_val_score, cross_val_predict\n",
    "from sklearn.metrics import confusion_matrix, accuracy_score\n",
    "import time\n",
    "from sklearn.neighbors import KNeighborsClassifier\n",
    "from sklearn import svm, tree\n",
    "from sklearn.linear_model import SGDClassifier, LogisticRegression"
   ]
  },
  {
   "cell_type": "markdown",
   "metadata": {},
   "source": [
    "## Read in datasets"
   ]
  },
  {
   "cell_type": "code",
   "execution_count": 2,
   "metadata": {},
   "outputs": [],
   "source": [
    "real_df = pd.read_csv('~/documents/Data/Fake vs Real News/real_eng.csv', index_col = 0)\n",
    "fake_df = pd.read_csv('~/documents/Data/Fake vs Real News/fake_eng.csv', index_col = 0)"
   ]
  },
  {
   "cell_type": "markdown",
   "metadata": {},
   "source": [
    "## Transform data to correct format for sklearn modelling"
   ]
  },
  {
   "cell_type": "markdown",
   "metadata": {},
   "source": [
    "#### Add a column to specify whether an article is real or fake"
   ]
  },
  {
   "cell_type": "code",
   "execution_count": 3,
   "metadata": {},
   "outputs": [],
   "source": [
    "real_df['real_or_fake'] = 'real'\n",
    "fake_df['real_or_fake'] = 'fake'"
   ]
  },
  {
   "cell_type": "markdown",
   "metadata": {},
   "source": [
    "#### Concatenate the two articles into a single dataframe"
   ]
  },
  {
   "cell_type": "code",
   "execution_count": 4,
   "metadata": {},
   "outputs": [],
   "source": [
    "news_df = pd.concat([real_df, fake_df])"
   ]
  },
  {
   "cell_type": "markdown",
   "metadata": {},
   "source": [
    "#### Shuffle the rows of the dataframe"
   ]
  },
  {
   "cell_type": "code",
   "execution_count": 5,
   "metadata": {},
   "outputs": [],
   "source": [
    "news_df = news_df.sample(frac = 1, random_state = 42)"
   ]
  },
  {
   "cell_type": "code",
   "execution_count": 6,
   "metadata": {},
   "outputs": [
    {
     "data": {
      "text/html": [
       "<div>\n",
       "<style scoped>\n",
       "    .dataframe tbody tr th:only-of-type {\n",
       "        vertical-align: middle;\n",
       "    }\n",
       "\n",
       "    .dataframe tbody tr th {\n",
       "        vertical-align: top;\n",
       "    }\n",
       "\n",
       "    .dataframe thead th {\n",
       "        text-align: right;\n",
       "    }\n",
       "</style>\n",
       "<table border=\"1\" class=\"dataframe\">\n",
       "  <thead>\n",
       "    <tr style=\"text-align: right;\">\n",
       "      <th></th>\n",
       "      <th>title</th>\n",
       "      <th>text</th>\n",
       "      <th>length_title</th>\n",
       "      <th>proportion_capitals_title</th>\n",
       "      <th>real_or_fake</th>\n",
       "    </tr>\n",
       "  </thead>\n",
       "  <tbody>\n",
       "    <tr>\n",
       "      <th>11428</th>\n",
       "      <td>Guatemala to move embassy to Jerusalem, backin...</td>\n",
       "      <td>GUATEMALA CITY (Reuters) - Guatemalan Presiden...</td>\n",
       "      <td>53</td>\n",
       "      <td>0.056604</td>\n",
       "      <td>real</td>\n",
       "    </tr>\n",
       "    <tr>\n",
       "      <th>15058</th>\n",
       "      <td>Trump: Being friends with North Korea's Kim is...</td>\n",
       "      <td>HANOI (Reuters) - U.S. President Donald Trump ...</td>\n",
       "      <td>55</td>\n",
       "      <td>0.090909</td>\n",
       "      <td>real</td>\n",
       "    </tr>\n",
       "    <tr>\n",
       "      <th>10496</th>\n",
       "      <td>Foreign policy thinkers praised by Trump have ...</td>\n",
       "      <td>WASHINGTON (Reuters) - If Americans were looki...</td>\n",
       "      <td>61</td>\n",
       "      <td>0.032787</td>\n",
       "      <td>real</td>\n",
       "    </tr>\n",
       "    <tr>\n",
       "      <th>5307</th>\n",
       "      <td>WATCH: Fox News Host DEFENDS Slavery In Bizar...</td>\n",
       "      <td>Fox News  most popular prime time host, Bill O...</td>\n",
       "      <td>53</td>\n",
       "      <td>0.358491</td>\n",
       "      <td>fake</td>\n",
       "    </tr>\n",
       "    <tr>\n",
       "      <th>6921</th>\n",
       "      <td>Louisiana’s Dem. Governor Steps Up, Signs Exe...</td>\n",
       "      <td>Could anyone, in a million years, ever see Bob...</td>\n",
       "      <td>87</td>\n",
       "      <td>0.160920</td>\n",
       "      <td>fake</td>\n",
       "    </tr>\n",
       "  </tbody>\n",
       "</table>\n",
       "</div>"
      ],
      "text/plain": [
       "                                                   title  \\\n",
       "11428  Guatemala to move embassy to Jerusalem, backin...   \n",
       "15058  Trump: Being friends with North Korea's Kim is...   \n",
       "10496  Foreign policy thinkers praised by Trump have ...   \n",
       "5307    WATCH: Fox News Host DEFENDS Slavery In Bizar...   \n",
       "6921    Louisiana’s Dem. Governor Steps Up, Signs Exe...   \n",
       "\n",
       "                                                    text  length_title  \\\n",
       "11428  GUATEMALA CITY (Reuters) - Guatemalan Presiden...            53   \n",
       "15058  HANOI (Reuters) - U.S. President Donald Trump ...            55   \n",
       "10496  WASHINGTON (Reuters) - If Americans were looki...            61   \n",
       "5307   Fox News  most popular prime time host, Bill O...            53   \n",
       "6921   Could anyone, in a million years, ever see Bob...            87   \n",
       "\n",
       "       proportion_capitals_title real_or_fake  \n",
       "11428                   0.056604         real  \n",
       "15058                   0.090909         real  \n",
       "10496                   0.032787         real  \n",
       "5307                    0.358491         fake  \n",
       "6921                    0.160920         fake  "
      ]
     },
     "execution_count": 6,
     "metadata": {},
     "output_type": "execute_result"
    }
   ],
   "source": [
    "news_df.sample(frac=1).head()"
   ]
  },
  {
   "cell_type": "markdown",
   "metadata": {},
   "source": [
    "#### Feature and target columns"
   ]
  },
  {
   "cell_type": "code",
   "execution_count": 7,
   "metadata": {},
   "outputs": [],
   "source": [
    "X = news_df[['length_title', 'proportion_capitals_title']]\n",
    "y = news_df['real_or_fake']"
   ]
  },
  {
   "cell_type": "markdown",
   "metadata": {},
   "source": [
    "#### Standardise the feature columns"
   ]
  },
  {
   "cell_type": "code",
   "execution_count": 8,
   "metadata": {},
   "outputs": [],
   "source": [
    "scaler = StandardScaler()\n",
    "scaler.fit(X)\n",
    "X = scaler.transform(X)"
   ]
  },
  {
   "cell_type": "markdown",
   "metadata": {},
   "source": [
    "#### Split the data into a training set and a testing set"
   ]
  },
  {
   "cell_type": "code",
   "execution_count": 9,
   "metadata": {},
   "outputs": [],
   "source": [
    "X_train, X_test, y_train, y_test = train_test_split(X, y, test_size = 0.1, random_state = 42)"
   ]
  },
  {
   "cell_type": "markdown",
   "metadata": {},
   "source": [
    "## Logistic Regression Classifier"
   ]
  },
  {
   "cell_type": "markdown",
   "metadata": {},
   "source": [
    "#### Fit the model to the dataset"
   ]
  },
  {
   "cell_type": "code",
   "execution_count": 10,
   "metadata": {},
   "outputs": [],
   "source": [
    "logreg = LogisticRegression()\n",
    "logreg.fit(X_train, y_train)\n",
    "y_pred = logreg.predict(X_test)"
   ]
  },
  {
   "cell_type": "markdown",
   "metadata": {},
   "source": [
    "#### Model accuracy"
   ]
  },
  {
   "cell_type": "code",
   "execution_count": 11,
   "metadata": {},
   "outputs": [
    {
     "name": "stdout",
     "output_type": "stream",
     "text": [
      "0.9892610585527998\n"
     ]
    }
   ],
   "source": [
    "score = accuracy_score(y_test, y_pred)\n",
    "print(score)"
   ]
  },
  {
   "cell_type": "markdown",
   "metadata": {},
   "source": [
    "#### Confusion matrix"
   ]
  },
  {
   "cell_type": "code",
   "execution_count": 12,
   "metadata": {},
   "outputs": [
    {
     "name": "stdout",
     "output_type": "stream",
     "text": [
      "[[1722   25]\n",
      " [  17 2147]]\n"
     ]
    }
   ],
   "source": [
    "conf_mat = confusion_matrix(y_test, y_pred)\n",
    "print(conf_mat)"
   ]
  },
  {
   "cell_type": "markdown",
   "metadata": {},
   "source": [
    "#### Results for model comparison"
   ]
  },
  {
   "cell_type": "code",
   "execution_count": 13,
   "metadata": {},
   "outputs": [],
   "source": [
    "model_comparison = pd.DataFrame({'Accuracy score (%)' : [round(score * 100, 1)],\n",
    "                                'False negative rate (%)' : [round(conf_mat[0, 1] / conf_mat[0, 0] * 100, 1)],\n",
    "                                'False positive rate (%)' : [round(conf_mat[1, 0] / conf_mat[1, 1] * 100, 1)]})\n",
    "\n",
    "model_comparison.index = model_comparison.index.map(str)\n",
    "model_comparison.index = ['Logistic regression']"
   ]
  },
  {
   "cell_type": "markdown",
   "metadata": {},
   "source": [
    "## K-Nearest Neighbours Classifier"
   ]
  },
  {
   "cell_type": "markdown",
   "metadata": {},
   "source": [
    "#### Set up the hyperparameter space for tuning"
   ]
  },
  {
   "cell_type": "code",
   "execution_count": 14,
   "metadata": {},
   "outputs": [],
   "source": [
    "k_space = np.arange(2, 20, 2)"
   ]
  },
  {
   "cell_type": "markdown",
   "metadata": {},
   "source": [
    "#### Initialise the cross-validation scores array"
   ]
  },
  {
   "cell_type": "code",
   "execution_count": 15,
   "metadata": {},
   "outputs": [],
   "source": [
    "cv_scores = []"
   ]
  },
  {
   "cell_type": "markdown",
   "metadata": {},
   "source": [
    "#### Fit the model to the dataset"
   ]
  },
  {
   "cell_type": "code",
   "execution_count": 16,
   "metadata": {},
   "outputs": [
    {
     "name": "stdout",
     "output_type": "stream",
     "text": [
      "11.0 seconds\n"
     ]
    }
   ],
   "source": [
    "tic = time.perf_counter()\n",
    "for k in k_space:\n",
    "    knn = KNeighborsClassifier(n_neighbors = k)\n",
    "    cv_score = np.mean(cross_val_score(knn, X_train, y_train, cv = 5))\n",
    "    cv_scores.append(cv_score)\n",
    "toc = time.perf_counter()\n",
    "print(round(toc - tic, 0), 'seconds')"
   ]
  },
  {
   "cell_type": "markdown",
   "metadata": {},
   "source": [
    "#### Model accuracy"
   ]
  },
  {
   "cell_type": "code",
   "execution_count": 17,
   "metadata": {},
   "outputs": [
    {
     "name": "stdout",
     "output_type": "stream",
     "text": [
      "    k  Cross-validation scores\n",
      "0   2                 0.979513\n",
      "1   4                 0.983832\n",
      "2   6                 0.984514\n",
      "3   8                 0.985025\n",
      "4  10                 0.985196\n",
      "5  12                 0.984997\n",
      "6  14                 0.985651\n",
      "7  16                 0.985281\n",
      "8  18                 0.985253\n"
     ]
    },
    {
     "data": {
      "image/png": "[encoded data removed]",
      "text/plain": [
       "<Figure size 432x288 with 1 Axes>"
      ]
     },
     "metadata": {
      "needs_background": "light"
     },
     "output_type": "display_data"
    }
   ],
   "source": [
    "print(pd.DataFrame({'k': k_space,\n",
    "                   'Cross-validation scores': cv_scores}))\n",
    "\n",
    "plt.plot(k_space, cv_scores, linewidth = 1)\n",
    "plt.suptitle('K-nearest neighbors classifier model on digits dataset', size = 14)\n",
    "plt.title('Cross-validation score against number of neighbours')\n",
    "plt.xlabel('Number of neighbours')\n",
    "plt.ylabel('Cross-validation score')\n",
    "plt.xticks(k_space)\n",
    "plt.show()"
   ]
  },
  {
   "cell_type": "markdown",
   "metadata": {},
   "source": [
    "#### Best model"
   ]
  },
  {
   "cell_type": "code",
   "execution_count": 18,
   "metadata": {},
   "outputs": [],
   "source": [
    "knn = KNeighborsClassifier(n_neighbors = 14)\n",
    "knn.fit(X_train, y_train)\n",
    "y_pred = knn.predict(X_test)"
   ]
  },
  {
   "cell_type": "markdown",
   "metadata": {},
   "source": [
    "#### Best model score"
   ]
  },
  {
   "cell_type": "code",
   "execution_count": 19,
   "metadata": {},
   "outputs": [
    {
     "name": "stdout",
     "output_type": "stream",
     "text": [
      "0.988238302224495\n"
     ]
    }
   ],
   "source": [
    "score = accuracy_score(y_test, y_pred)\n",
    "print(score)"
   ]
  },
  {
   "cell_type": "markdown",
   "metadata": {},
   "source": [
    "#### Best model confusion matrix"
   ]
  },
  {
   "cell_type": "code",
   "execution_count": 20,
   "metadata": {
    "scrolled": false
   },
   "outputs": [
    {
     "name": "stdout",
     "output_type": "stream",
     "text": [
      "[[1730   17]\n",
      " [  29 2135]]\n"
     ]
    }
   ],
   "source": [
    "conf_mat = confusion_matrix(y_test, y_pred)\n",
    "print(conf_mat)"
   ]
  },
  {
   "cell_type": "markdown",
   "metadata": {},
   "source": [
    "#### Results for model comparison"
   ]
  },
  {
   "cell_type": "code",
   "execution_count": 21,
   "metadata": {},
   "outputs": [],
   "source": [
    "mc = pd.Series({'Accuracy score (%)' : round(score * 100, 1),\n",
    "                   'False negative rate (%)' : round(conf_mat[0, 1] / conf_mat[0, 0] * 100, 1),\n",
    "                   'False positive rate (%)' : round(conf_mat[1, 0] / conf_mat[1, 1] * 100, 1)},\n",
    "                 name = 'K nearest neighbours')\n",
    "\n",
    "model_comparison = model_comparison.append(mc)"
   ]
  },
  {
   "cell_type": "markdown",
   "metadata": {},
   "source": [
    "## Support vector machine classifier"
   ]
  },
  {
   "cell_type": "markdown",
   "metadata": {},
   "source": [
    "#### Set up the hyperparameter space for tuning"
   ]
  },
  {
   "cell_type": "code",
   "execution_count": 22,
   "metadata": {},
   "outputs": [],
   "source": [
    "C_space = np.arange(0.01, 0.05, 0.005)"
   ]
  },
  {
   "cell_type": "markdown",
   "metadata": {},
   "source": [
    "#### Initialise the cross-validation scores array"
   ]
  },
  {
   "cell_type": "code",
   "execution_count": 23,
   "metadata": {},
   "outputs": [],
   "source": [
    "cv_scores = []"
   ]
  },
  {
   "cell_type": "markdown",
   "metadata": {},
   "source": [
    "#### Fit the model to the dataset"
   ]
  },
  {
   "cell_type": "code",
   "execution_count": 24,
   "metadata": {},
   "outputs": [
    {
     "name": "stdout",
     "output_type": "stream",
     "text": [
      "2.0 seconds\n"
     ]
    }
   ],
   "source": [
    "tic = time.perf_counter()\n",
    "for C in C_space:\n",
    "    svc = svm.LinearSVC(C = C, max_iter = 2000)\n",
    "    cv_score = np.mean(cross_val_score(svc, X_train, y_train, cv = 5))\n",
    "    cv_scores.append(cv_score)\n",
    "toc = time.perf_counter()\n",
    "print(round(toc - tic, 0), 'seconds')"
   ]
  },
  {
   "cell_type": "markdown",
   "metadata": {},
   "source": [
    "#### Model accuracy"
   ]
  },
  {
   "cell_type": "code",
   "execution_count": 25,
   "metadata": {},
   "outputs": [
    {
     "name": "stdout",
     "output_type": "stream",
     "text": [
      "       C  Cross-validation scores\n",
      "0  0.010                 0.984997\n",
      "1  0.015                 0.985139\n",
      "2  0.020                 0.985167\n",
      "3  0.025                 0.985281\n",
      "4  0.030                 0.985281\n",
      "5  0.035                 0.985196\n",
      "6  0.040                 0.985196\n",
      "7  0.045                 0.985196\n"
     ]
    },
    {
     "data": {
      "image/png": "[encoded data removed]",
      "text/plain": [
       "<Figure size 432x288 with 1 Axes>"
      ]
     },
     "metadata": {
      "needs_background": "light"
     },
     "output_type": "display_data"
    }
   ],
   "source": [
    "print(pd.DataFrame({'C': C_space,\n",
    "                   'Cross-validation scores': cv_scores}))\n",
    "\n",
    "plt.plot(C_space, cv_scores, linewidth = 1)\n",
    "plt.suptitle('Support vector machine classifier model on digits dataset', size = 14)\n",
    "plt.title('Cross-validation score against C parameter')\n",
    "plt.xlabel('C parameter')\n",
    "plt.ylabel('Cross-validation score')\n",
    "plt.show()"
   ]
  },
  {
   "cell_type": "markdown",
   "metadata": {},
   "source": [
    "#### Best model"
   ]
  },
  {
   "cell_type": "code",
   "execution_count": 26,
   "metadata": {},
   "outputs": [],
   "source": [
    "svc = svm.LinearSVC(C = 0.025, max_iter = 2000)\n",
    "svc.fit(X_train, y_train)\n",
    "y_pred = svc.predict(X_test)"
   ]
  },
  {
   "cell_type": "markdown",
   "metadata": {},
   "source": [
    "#### Best model score"
   ]
  },
  {
   "cell_type": "code",
   "execution_count": 27,
   "metadata": {},
   "outputs": [
    {
     "name": "stdout",
     "output_type": "stream",
     "text": [
      "0.989516747634876\n"
     ]
    }
   ],
   "source": [
    "score = accuracy_score(y_test, y_pred)\n",
    "print(score)"
   ]
  },
  {
   "cell_type": "markdown",
   "metadata": {},
   "source": [
    "#### Best model confusion matrix"
   ]
  },
  {
   "cell_type": "code",
   "execution_count": 28,
   "metadata": {
    "scrolled": true
   },
   "outputs": [
    {
     "name": "stdout",
     "output_type": "stream",
     "text": [
      "[[1722   25]\n",
      " [  16 2148]]\n"
     ]
    }
   ],
   "source": [
    "conf_mat = confusion_matrix(y_test, y_pred)\n",
    "print(conf_mat)"
   ]
  },
  {
   "cell_type": "markdown",
   "metadata": {},
   "source": [
    "#### Results for model comparison"
   ]
  },
  {
   "cell_type": "code",
   "execution_count": 29,
   "metadata": {},
   "outputs": [],
   "source": [
    "mc = pd.Series({'Accuracy score (%)' : round(score * 100, 1),\n",
    "                   'False negative rate (%)' : round(conf_mat[0, 1] / conf_mat[0, 0] * 100, 1),\n",
    "                   'False positive rate (%)' : round(conf_mat[1, 0] / conf_mat[1, 1] * 100, 1)},\n",
    "                 name = 'Support vector machine')\n",
    "\n",
    "model_comparison = model_comparison.append(mc)"
   ]
  },
  {
   "cell_type": "markdown",
   "metadata": {},
   "source": [
    "# Stochastic gradient descent classifier"
   ]
  },
  {
   "cell_type": "markdown",
   "metadata": {},
   "source": [
    "#### Set up the hyperparameter space for tuning"
   ]
  },
  {
   "cell_type": "code",
   "execution_count": 30,
   "metadata": {},
   "outputs": [],
   "source": [
    "alpha_space = np.arange(5e-6, 2e-5, 1e-6)"
   ]
  },
  {
   "cell_type": "markdown",
   "metadata": {},
   "source": [
    "#### Initialise the cross-validation scores array"
   ]
  },
  {
   "cell_type": "code",
   "execution_count": 31,
   "metadata": {},
   "outputs": [],
   "source": [
    "cv_scores = []"
   ]
  },
  {
   "cell_type": "markdown",
   "metadata": {},
   "source": [
    "#### Fit the model to the dataset"
   ]
  },
  {
   "cell_type": "code",
   "execution_count": 32,
   "metadata": {},
   "outputs": [
    {
     "name": "stdout",
     "output_type": "stream",
     "text": [
      "5.0 seconds\n"
     ]
    }
   ],
   "source": [
    "tic = time.perf_counter()\n",
    "for a in alpha_space:\n",
    "    sgdc = SGDClassifier(alpha = a)\n",
    "    cv_score = np.mean(cross_val_score(sgdc, X_train, y_train, cv = 5))\n",
    "    cv_scores.append(cv_score)\n",
    "toc = time.perf_counter()\n",
    "print(round(toc - tic, 0), 'seconds')"
   ]
  },
  {
   "cell_type": "markdown",
   "metadata": {},
   "source": [
    "#### Model accuracy"
   ]
  },
  {
   "cell_type": "code",
   "execution_count": 33,
   "metadata": {},
   "outputs": [
    {
     "name": "stdout",
     "output_type": "stream",
     "text": [
      "       alpha  Cross-validation scores\n",
      "0   0.000005                 0.982042\n",
      "1   0.000006                 0.984542\n",
      "2   0.000007                 0.984031\n",
      "3   0.000008                 0.984343\n",
      "4   0.000009                 0.984599\n",
      "5   0.000010                 0.984883\n",
      "6   0.000011                 0.984599\n",
      "7   0.000012                 0.984486\n",
      "8   0.000013                 0.985310\n",
      "9   0.000014                 0.983377\n",
      "10  0.000015                 0.984287\n",
      "11  0.000016                 0.983036\n",
      "12  0.000017                 0.984826\n",
      "13  0.000018                 0.985423\n",
      "14  0.000019                 0.984883\n",
      "15  0.000020                 0.984486\n"
     ]
    },
    {
     "data": {
      "image/png": "[encoded data removed]",
      "text/plain": [
       "<Figure size 432x288 with 1 Axes>"
      ]
     },
     "metadata": {
      "needs_background": "light"
     },
     "output_type": "display_data"
    }
   ],
   "source": [
    "print(pd.DataFrame({'alpha': alpha_space,\n",
    "                   'Cross-validation scores': cv_scores}))\n",
    "\n",
    "plt.plot(alpha_space, cv_scores, linewidth = 1)\n",
    "plt.suptitle('Stochastic gradient descent classifier on iris dataset', size = 14)\n",
    "plt.title('Cross-validation score against alpha parameter')\n",
    "plt.xlabel('Alpha parameter')\n",
    "plt.ylabel('Cross-validation score')\n",
    "plt.show()"
   ]
  },
  {
   "cell_type": "markdown",
   "metadata": {},
   "source": [
    "#### Best model"
   ]
  },
  {
   "cell_type": "code",
   "execution_count": 34,
   "metadata": {},
   "outputs": [],
   "source": [
    "sgdc = SGDClassifier(alpha = 1.5e-5)\n",
    "sgdc.fit(X_train, y_train)\n",
    "y_pred = sgdc.predict(X_test)"
   ]
  },
  {
   "cell_type": "markdown",
   "metadata": {},
   "source": [
    "#### Best model score"
   ]
  },
  {
   "cell_type": "code",
   "execution_count": 35,
   "metadata": {},
   "outputs": [
    {
     "name": "stdout",
     "output_type": "stream",
     "text": [
      "0.986959856814114\n"
     ]
    }
   ],
   "source": [
    "score = accuracy_score(y_test, y_pred)\n",
    "print(score)"
   ]
  },
  {
   "cell_type": "markdown",
   "metadata": {},
   "source": [
    "#### Best model confusion matrix"
   ]
  },
  {
   "cell_type": "code",
   "execution_count": 36,
   "metadata": {
    "scrolled": false
   },
   "outputs": [
    {
     "name": "stdout",
     "output_type": "stream",
     "text": [
      "[[1735   12]\n",
      " [  39 2125]]\n"
     ]
    }
   ],
   "source": [
    "conf_mat = confusion_matrix(y_test, y_pred)\n",
    "print(conf_mat)"
   ]
  },
  {
   "cell_type": "markdown",
   "metadata": {},
   "source": [
    "#### Results for model comparison"
   ]
  },
  {
   "cell_type": "code",
   "execution_count": 37,
   "metadata": {},
   "outputs": [],
   "source": [
    "mc = pd.Series({'Accuracy score (%)' : round(score * 100, 1),\n",
    "                   'False negative rate (%)' : round(conf_mat[0, 1] / conf_mat[0, 0] * 100, 1),\n",
    "                   'False positive rate (%)' : round(conf_mat[1, 0] / conf_mat[1, 1] * 100, 1)},\n",
    "                 name = 'Stochastic gradient descent')\n",
    "\n",
    "model_comparison = model_comparison.append(mc)"
   ]
  },
  {
   "cell_type": "markdown",
   "metadata": {},
   "source": [
    "## Decision tree classifier"
   ]
  },
  {
   "cell_type": "markdown",
   "metadata": {},
   "source": [
    "#### Set up the parameter space"
   ]
  },
  {
   "cell_type": "code",
   "execution_count": 38,
   "metadata": {},
   "outputs": [],
   "source": [
    "max_depth_space = np.arange(1, 12, 1)"
   ]
  },
  {
   "cell_type": "markdown",
   "metadata": {},
   "source": [
    "#### Initialise the cross-validation scores array"
   ]
  },
  {
   "cell_type": "code",
   "execution_count": 39,
   "metadata": {},
   "outputs": [],
   "source": [
    "cv_scores = []"
   ]
  },
  {
   "cell_type": "markdown",
   "metadata": {},
   "source": [
    "#### Fit the model to the dataset"
   ]
  },
  {
   "cell_type": "code",
   "execution_count": 40,
   "metadata": {},
   "outputs": [
    {
     "name": "stdout",
     "output_type": "stream",
     "text": [
      "3.0 seconds\n"
     ]
    }
   ],
   "source": [
    "tic = time.perf_counter()\n",
    "for d in max_depth_space:\n",
    "    dec_tree = tree.DecisionTreeClassifier(max_depth = d)\n",
    "    cv_score = np.mean(cross_val_score(dec_tree, X_train, y_train, cv = 5))\n",
    "    cv_scores.append(cv_score)\n",
    "toc = time.perf_counter()\n",
    "print(round(toc - tic, 0), 'seconds')"
   ]
  },
  {
   "cell_type": "markdown",
   "metadata": {},
   "source": [
    "#### Model accuracy"
   ]
  },
  {
   "cell_type": "code",
   "execution_count": 41,
   "metadata": {},
   "outputs": [
    {
     "name": "stdout",
     "output_type": "stream",
     "text": [
      "    max_depth  Cross-validation scores\n",
      "0           1                 0.982070\n",
      "1           2                 0.982070\n",
      "2           3                 0.984372\n",
      "3           4                 0.984940\n",
      "4           5                 0.985167\n",
      "5           6                 0.985025\n",
      "6           7                 0.984940\n",
      "7           8                 0.984713\n",
      "8           9                 0.984684\n",
      "9          10                 0.984400\n",
      "10         11                 0.984457\n"
     ]
    },
    {
     "data": {
      "image/png": "[encoded data removed]",
      "text/plain": [
       "<Figure size 432x288 with 1 Axes>"
      ]
     },
     "metadata": {
      "needs_background": "light"
     },
     "output_type": "display_data"
    }
   ],
   "source": [
    "print(pd.DataFrame({'max_depth': max_depth_space,\n",
    "                   'Cross-validation scores': cv_scores}))\n",
    "\n",
    "plt.plot(max_depth_space, cv_scores, linewidth = 1)\n",
    "plt.suptitle('Decision tree classifier on iris dataset', size = 14)\n",
    "plt.title('Cross-validation score against max depth parameter')\n",
    "plt.xlabel('Max depth parameter')\n",
    "plt.ylabel('Cross-validation score')\n",
    "plt.show()"
   ]
  },
  {
   "cell_type": "markdown",
   "metadata": {},
   "source": [
    "#### Best model"
   ]
  },
  {
   "cell_type": "code",
   "execution_count": 42,
   "metadata": {},
   "outputs": [],
   "source": [
    "dec_tree = tree.DecisionTreeClassifier(max_depth = 5)\n",
    "dec_tree.fit(X_train, y_train)\n",
    "y_pred = dec_tree.predict(X_test)"
   ]
  },
  {
   "cell_type": "markdown",
   "metadata": {},
   "source": [
    "#### Best model score"
   ]
  },
  {
   "cell_type": "code",
   "execution_count": 43,
   "metadata": {},
   "outputs": [
    {
     "name": "stdout",
     "output_type": "stream",
     "text": [
      "0.986959856814114\n"
     ]
    }
   ],
   "source": [
    "score = accuracy_score(y_test, y_pred)\n",
    "print(score)"
   ]
  },
  {
   "cell_type": "markdown",
   "metadata": {},
   "source": [
    "#### Best model confusion matrix"
   ]
  },
  {
   "cell_type": "code",
   "execution_count": 44,
   "metadata": {
    "scrolled": false
   },
   "outputs": [
    {
     "name": "stdout",
     "output_type": "stream",
     "text": [
      "[[1732   15]\n",
      " [  36 2128]]\n"
     ]
    }
   ],
   "source": [
    "conf_mat = confusion_matrix(y_test, y_pred)\n",
    "print(conf_mat)"
   ]
  },
  {
   "cell_type": "markdown",
   "metadata": {},
   "source": [
    "#### Results for model comparison"
   ]
  },
  {
   "cell_type": "code",
   "execution_count": 45,
   "metadata": {},
   "outputs": [],
   "source": [
    "mc = pd.Series({'Accuracy score (%)' : round(score * 100, 1),\n",
    "                   'False negative rate (%)' : round(conf_mat[0, 1] / conf_mat[0, 0] * 100, 1),\n",
    "                   'False positive rate (%)' : round(conf_mat[1, 0] / conf_mat[1, 1] * 100, 1)},\n",
    "                 name = 'Decision tree')\n",
    "\n",
    "model_comparison = model_comparison.append(mc)"
   ]
  },
  {
   "cell_type": "markdown",
   "metadata": {},
   "source": [
    "## Final results"
   ]
  },
  {
   "cell_type": "code",
   "execution_count": 48,
   "metadata": {},
   "outputs": [
    {
     "data": {
      "text/html": [
       "<div>\n",
       "<style scoped>\n",
       "    .dataframe tbody tr th:only-of-type {\n",
       "        vertical-align: middle;\n",
       "    }\n",
       "\n",
       "    .dataframe tbody tr th {\n",
       "        vertical-align: top;\n",
       "    }\n",
       "\n",
       "    .dataframe thead th {\n",
       "        text-align: right;\n",
       "    }\n",
       "</style>\n",
       "<table border=\"1\" class=\"dataframe\">\n",
       "  <thead>\n",
       "    <tr style=\"text-align: right;\">\n",
       "      <th></th>\n",
       "      <th>Accuracy score (%)</th>\n",
       "      <th>False negative rate (%)</th>\n",
       "      <th>False positive rate (%)</th>\n",
       "    </tr>\n",
       "  </thead>\n",
       "  <tbody>\n",
       "    <tr>\n",
       "      <th>Logistic regression</th>\n",
       "      <td>98.9</td>\n",
       "      <td>1.5</td>\n",
       "      <td>0.8</td>\n",
       "    </tr>\n",
       "    <tr>\n",
       "      <th>K nearest neighbours</th>\n",
       "      <td>98.8</td>\n",
       "      <td>1.0</td>\n",
       "      <td>1.4</td>\n",
       "    </tr>\n",
       "    <tr>\n",
       "      <th>Support vector machine</th>\n",
       "      <td>99.0</td>\n",
       "      <td>1.5</td>\n",
       "      <td>0.7</td>\n",
       "    </tr>\n",
       "    <tr>\n",
       "      <th>Stochastic gradient descent</th>\n",
       "      <td>98.7</td>\n",
       "      <td>0.7</td>\n",
       "      <td>1.8</td>\n",
       "    </tr>\n",
       "    <tr>\n",
       "      <th>Decision tree</th>\n",
       "      <td>98.7</td>\n",
       "      <td>0.9</td>\n",
       "      <td>1.7</td>\n",
       "    </tr>\n",
       "  </tbody>\n",
       "</table>\n",
       "</div>"
      ],
      "text/plain": [
       "                             Accuracy score (%)  False negative rate (%)  \\\n",
       "Logistic regression                        98.9                      1.5   \n",
       "K nearest neighbours                       98.8                      1.0   \n",
       "Support vector machine                     99.0                      1.5   \n",
       "Stochastic gradient descent                98.7                      0.7   \n",
       "Decision tree                              98.7                      0.9   \n",
       "\n",
       "                             False positive rate (%)  \n",
       "Logistic regression                              0.8  \n",
       "K nearest neighbours                             1.4  \n",
       "Support vector machine                           0.7  \n",
       "Stochastic gradient descent                      1.8  \n",
       "Decision tree                                    1.7  "
      ]
     },
     "execution_count": 48,
     "metadata": {},
     "output_type": "execute_result"
    }
   ],
   "source": [
    "model_comparison"
   ]
  },
  {
   "cell_type": "code",
   "execution_count": null,
   "metadata": {},
   "outputs": [],
   "source": []
  }
 ],
 "metadata": {
  "kernelspec": {
   "display_name": "Python 3",
   "language": "python",
   "name": "python3"
  },
  "language_info": {
   "codemirror_mode": {
    "name": "ipython",
    "version": 3
   },
   "file_extension": ".py",
   "mimetype": "text/x-python",
   "name": "python",
   "nbconvert_exporter": "python",
   "pygments_lexer": "ipython3",
   "version": "3.7.6"
  }
 },
 "nbformat": 4,
 "nbformat_minor": 4
}
