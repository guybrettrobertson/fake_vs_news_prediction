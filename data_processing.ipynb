{
 "cells": [
  {
   "cell_type": "markdown",
   "metadata": {},
   "source": [
    "# Data processing"
   ]
  },
  {
   "cell_type": "markdown",
   "metadata": {},
   "source": [
    "## Background\n",
    "\n",
    "The fake vs real news dataset has been downloaded from [Kaggle](https://www.kaggle.com/clmentbisaillon/fake-and-real-news-dataset). This data set includes a data for 20,826 articles considered to be 'real' news and 17,903 articles considered to be fake news.\n",
    "\n",
    "The stated task is: Can you use this data set to make an algorithm able to determine if an article is fake news or not ?"
   ]
  },
  {
   "cell_type": "markdown",
   "metadata": {},
   "source": [
    "## Import packages"
   ]
  },
  {
   "cell_type": "code",
   "execution_count": 1,
   "metadata": {},
   "outputs": [],
   "source": [
    "import pandas as pd"
   ]
  },
  {
   "cell_type": "markdown",
   "metadata": {},
   "source": [
    "## Read in datasets"
   ]
  },
  {
   "cell_type": "code",
   "execution_count": 7,
   "metadata": {},
   "outputs": [],
   "source": [
    "real_df = pd.read_csv('~/documents/Data/Fake vs Real News/True.csv')\n",
    "fake_df = pd.read_csv('~/documents/Data/Fake vs Real News/Fake.csv')"
   ]
  },
  {
   "cell_type": "code",
   "execution_count": 14,
   "metadata": {},
   "outputs": [
    {
     "name": "stdout",
     "output_type": "stream",
     "text": [
      "title      object\n",
      "text       object\n",
      "subject    object\n",
      "date       object\n",
      "dtype: object\n",
      "title      object\n",
      "text       object\n",
      "subject    object\n",
      "date       object\n",
      "dtype: object\n"
     ]
    }
   ],
   "source": [
    "print('real_df.dtypes)\n",
    "print(fake_df.dtypes)"
   ]
  },
  {
   "cell_type": "code",
   "execution_count": null,
   "metadata": {},
   "outputs": [],
   "source": []
  }
 ],
 "metadata": {
  "kernelspec": {
   "display_name": "Python 3",
   "language": "python",
   "name": "python3"
  },
  "language_info": {
   "codemirror_mode": {
    "name": "ipython",
    "version": 3
   },
   "file_extension": ".py",
   "mimetype": "text/x-python",
   "name": "python",
   "nbconvert_exporter": "python",
   "pygments_lexer": "ipython3",
   "version": "3.7.6"
  }
 },
 "nbformat": 4,
 "nbformat_minor": 4
}
