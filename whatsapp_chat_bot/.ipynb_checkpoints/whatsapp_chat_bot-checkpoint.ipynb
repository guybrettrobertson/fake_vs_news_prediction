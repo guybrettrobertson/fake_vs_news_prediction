{
 "cells": [
  {
   "cell_type": "markdown",
   "metadata": {},
   "source": [
    "# Whatsapp chat bot"
   ]
  },
  {
   "cell_type": "code",
   "execution_count": 92,
   "metadata": {},
   "outputs": [],
   "source": [
    "def split_text(filename):\n",
    "  '''Split file contents by newline.'''\n",
    "\n",
    "  chat = open(filename)\n",
    "  chat_text = chat.read()\n",
    "  return chat_text.splitlines()"
   ]
  },
  {
   "cell_type": "code",
   "execution_count": 93,
   "metadata": {},
   "outputs": [
    {
     "name": "stdout",
     "output_type": "stream",
     "text": [
      "['[06/08/2016, 20:06:08] Mema Nackasha: \\u200eMessages and calls are end-to-end encrypted. No one outside of this chat, not even WhatsApp, can read or listen to them.', '[24/08/2016, 11:40:54] Mema Nackasha: What are you doing', '[24/08/2016, 11:41:07] Mema Nackasha: Were you drunk', \"[24/08/2016, 12:37:58] Guy: I'm at work\", \"[24/08/2016, 12:38:17] Guy: Just cba'd to take a quality photo\", '[24/08/2016, 15:44:02] Mema Nackasha: No I meant last night', '[24/08/2016, 15:44:21] Mema Nackasha: Pic', \"[24/08/2016, 15:44:21] Mema Nackasha: You looked cute in today's pis\", '[25/08/2016, 08:42:58] Guy: Thnx', '[25/08/2016, 08:43:08] Guy: Wanna come round on Saturday evening?']\n"
     ]
    }
   ],
   "source": [
    "# Raw chat data\n",
    "raw_chat = split_text('/Users/guybrett-robertson/Documents/data/whatsapp_chats/_chat.txt')\n",
    "print(raw_chat[0:10])"
   ]
  },
  {
   "cell_type": "code",
   "execution_count": 94,
   "metadata": {},
   "outputs": [
    {
     "name": "stdout",
     "output_type": "stream",
     "text": [
      "22719\n"
     ]
    }
   ],
   "source": [
    "n = len(raw_chat)\n",
    "print(n)"
   ]
  },
  {
   "cell_type": "code",
   "execution_count": 95,
   "metadata": {},
   "outputs": [],
   "source": [
    "# List of messages from me\n",
    "me_chat = []\n",
    "# Corresponding list of responses to my messages\n",
    "friend_chat = []\n",
    "\n",
    "previous_row = [None, None]\n",
    "\n",
    "# Iterate through all messages\n",
    "for i in range(n):\n",
    "    row = raw_chat[i]\n",
    "    # Check that the row is not empty\n",
    "    if len(row) != 0:\n",
    "        # Check that the row is valid, excludes picture messages, etc.\n",
    "        if row[0] == '[':\n",
    "            # Remove time stamp\n",
    "            row = row.split('] ')[1]\n",
    "            # Specifies who sent the message\n",
    "            row = row.split(': ')[0:2]\n",
    "            # Only keep last message in a string of message from me, and my friend's first response to this\n",
    "            if previous_row[0] == 'Guy' and row[0] != 'Guy':\n",
    "                me_chat.append(previous_row[1])\n",
    "                friend_chat.append(row[1])\n",
    "            previous_row = row"
   ]
  },
  {
   "cell_type": "code",
   "execution_count": 96,
   "metadata": {},
   "outputs": [
    {
     "name": "stdout",
     "output_type": "stream",
     "text": [
      "4771\n"
     ]
    }
   ],
   "source": [
    "n = len(me_chat)\n",
    "print(n)"
   ]
  },
  {
   "cell_type": "code",
   "execution_count": 97,
   "metadata": {},
   "outputs": [
    {
     "name": "stdout",
     "output_type": "stream",
     "text": [
      "Me: Just cba'd to take a quality photo\n",
      "Friend: No I meant last night\n",
      "\n",
      "Me: We're gonna go out to pubs and bars in my area\n",
      "Friend: Yeah maybs baby ! Sounds good!\n",
      "\n",
      "Me: Jake\n",
      "Friend: Oh I dunno if I get on well with that one\n",
      "\n",
      "Me: And probs Annie\n",
      "Friend: Don't like any of those people\n",
      "\n",
      "Me: When are you gonna be around?\n",
      "Friend: 5 mins\n",
      "\n",
      "Me: Srsly?\n",
      "Friend: Find friends me\n",
      "\n",
      "Me: I see you!\n",
      "Friend: Am i looking cute\n",
      "\n",
      "Me: And what was it for?\n",
      "Friend: Omg it was the most horrible experience I'm drained\n",
      "\n",
      "Me: Oh lame\n",
      "Friend: I got it tho\n",
      "\n",
      "Me: Sorry with people\n",
      "Friend: It was just a horrible process\n",
      "\n"
     ]
    }
   ],
   "source": [
    "for i in range(10):\n",
    "    print('Me:', me_chat[i])\n",
    "    print('Friend:', friend_chat[i])\n",
    "    print()"
   ]
  },
  {
   "cell_type": "code",
   "execution_count": 87,
   "metadata": {},
   "outputs": [],
   "source": [
    "from nltk.corpus import stopwords\n",
    "stop_words = stopwords.words('english')"
   ]
  },
  {
   "cell_type": "code",
   "execution_count": 88,
   "metadata": {},
   "outputs": [],
   "source": [
    "for i in range(n):\n",
    "    message = me_chat[i].split(' ')\n",
    "    me_chat[i] = [word.lower() for word in message if word.lower() not in stop_words]"
   ]
  },
  {
   "cell_type": "code",
   "execution_count": 90,
   "metadata": {},
   "outputs": [
    {
     "name": "stdout",
     "output_type": "stream",
     "text": [
      "[[\"cba'd\", 'take', 'quality', 'photo'], [\"we're\", 'gonna', 'go', 'pubs', 'bars', 'area'], ['jake'], ['probs', 'annie'], ['gonna', 'around?'], ['srsly?'], ['see', 'you!'], ['for?'], ['oh', 'lame'], ['sorry', 'people']]\n"
     ]
    }
   ],
   "source": [
    "print(me_chat[0:10])"
   ]
  },
  {
   "cell_type": "code",
   "execution_count": 91,
   "metadata": {},
   "outputs": [],
   "source": [
    "#Import all the dependencies\n",
    "from gensim.models.doc2vec import Doc2Vec, TaggedDocument\n",
    "from nltk.tokenize import word_tokenize"
   ]
  },
  {
   "cell_type": "code",
   "execution_count": 98,
   "metadata": {},
   "outputs": [],
   "source": [
    "tagged_data = [TaggedDocument(words=word_tokenize(_d.lower()), tags=[str(i)]) for i, _d in enumerate(me_chat)]"
   ]
  },
  {
   "cell_type": "code",
   "execution_count": 134,
   "metadata": {},
   "outputs": [
    {
     "data": {
      "text/plain": [
       "[TaggedDocument(words=['just', 'cba', \"'d\", 'to', 'take', 'a', 'quality', 'photo'], tags=['0']),\n",
       " TaggedDocument(words=['we', \"'re\", 'gon', 'na', 'go', 'out', 'to', 'pubs', 'and', 'bars', 'in', 'my', 'area'], tags=['1']),\n",
       " TaggedDocument(words=['jake'], tags=['2']),\n",
       " TaggedDocument(words=['and', 'probs', 'annie'], tags=['3']),\n",
       " TaggedDocument(words=['when', 'are', 'you', 'gon', 'na', 'be', 'around', '?'], tags=['4']),\n",
       " TaggedDocument(words=['srsly', '?'], tags=['5']),\n",
       " TaggedDocument(words=['i', 'see', 'you', '!'], tags=['6']),\n",
       " TaggedDocument(words=['and', 'what', 'was', 'it', 'for', '?'], tags=['7']),\n",
       " TaggedDocument(words=['oh', 'lame'], tags=['8']),\n",
       " TaggedDocument(words=['sorry', 'with', 'people'], tags=['9'])]"
      ]
     },
     "execution_count": 134,
     "metadata": {},
     "output_type": "execute_result"
    }
   ],
   "source": [
    "tagged_data[0:10]"
   ]
  },
  {
   "cell_type": "code",
   "execution_count": 100,
   "metadata": {},
   "outputs": [
    {
     "name": "stderr",
     "output_type": "stream",
     "text": [
      "/opt/anaconda3/lib/python3.7/site-packages/gensim/models/doc2vec.py:319: UserWarning: The parameter `size` is deprecated, will be removed in 4.0.0, use `vector_size` instead.\n",
      "  warnings.warn(\"The parameter `size` is deprecated, will be removed in 4.0.0, use `vector_size` instead.\")\n",
      "/opt/anaconda3/lib/python3.7/site-packages/ipykernel_launcher.py:17: DeprecationWarning: Call to deprecated `iter` (Attribute will be removed in 4.0.0, use self.epochs instead).\n"
     ]
    },
    {
     "name": "stdout",
     "output_type": "stream",
     "text": [
      "iteration 0\n",
      "iteration 1\n",
      "iteration 2\n",
      "iteration 3\n",
      "iteration 4\n",
      "iteration 5\n",
      "iteration 6\n",
      "iteration 7\n",
      "iteration 8\n",
      "iteration 9\n",
      "iteration 10\n",
      "iteration 11\n",
      "iteration 12\n",
      "iteration 13\n",
      "iteration 14\n",
      "iteration 15\n",
      "iteration 16\n",
      "iteration 17\n",
      "iteration 18\n",
      "iteration 19\n",
      "iteration 20\n",
      "iteration 21\n",
      "iteration 22\n",
      "iteration 23\n",
      "iteration 24\n",
      "iteration 25\n",
      "iteration 26\n",
      "iteration 27\n",
      "iteration 28\n",
      "iteration 29\n",
      "iteration 30\n",
      "iteration 31\n",
      "iteration 32\n",
      "iteration 33\n",
      "iteration 34\n",
      "iteration 35\n",
      "iteration 36\n",
      "iteration 37\n",
      "iteration 38\n",
      "iteration 39\n",
      "iteration 40\n",
      "iteration 41\n",
      "iteration 42\n",
      "iteration 43\n",
      "iteration 44\n",
      "iteration 45\n",
      "iteration 46\n",
      "iteration 47\n",
      "iteration 48\n",
      "iteration 49\n",
      "iteration 50\n",
      "iteration 51\n",
      "iteration 52\n",
      "iteration 53\n",
      "iteration 54\n",
      "iteration 55\n",
      "iteration 56\n",
      "iteration 57\n",
      "iteration 58\n",
      "iteration 59\n",
      "iteration 60\n",
      "iteration 61\n",
      "iteration 62\n",
      "iteration 63\n",
      "iteration 64\n",
      "iteration 65\n",
      "iteration 66\n",
      "iteration 67\n",
      "iteration 68\n",
      "iteration 69\n",
      "iteration 70\n",
      "iteration 71\n",
      "iteration 72\n",
      "iteration 73\n",
      "iteration 74\n",
      "iteration 75\n",
      "iteration 76\n",
      "iteration 77\n",
      "iteration 78\n",
      "iteration 79\n",
      "iteration 80\n",
      "iteration 81\n",
      "iteration 82\n",
      "iteration 83\n",
      "iteration 84\n",
      "iteration 85\n",
      "iteration 86\n",
      "iteration 87\n",
      "iteration 88\n",
      "iteration 89\n",
      "iteration 90\n",
      "iteration 91\n",
      "iteration 92\n",
      "iteration 93\n",
      "iteration 94\n",
      "iteration 95\n",
      "iteration 96\n",
      "iteration 97\n",
      "iteration 98\n",
      "iteration 99\n",
      "Model Saved\n"
     ]
    }
   ],
   "source": [
    "max_epochs = 100\n",
    "vec_size = 20\n",
    "alpha = 0.025\n",
    "\n",
    "model = Doc2Vec(vector_size=vec_size,\n",
    "                alpha=alpha, \n",
    "                min_alpha=0.00025,\n",
    "                min_count=1,\n",
    "                dm =1)\n",
    "  \n",
    "model.build_vocab(tagged_data)\n",
    "\n",
    "for epoch in range(max_epochs):\n",
    "    print('iteration {0}'.format(epoch))\n",
    "    model.train(tagged_data,\n",
    "                total_examples=model.corpus_count,\n",
    "                epochs=model.iter)\n",
    "    # decrease the learning rate\n",
    "    model.alpha -= 0.0002\n",
    "    # fix the learning rate, no decay\n",
    "    model.min_alpha = model.alpha\n",
    "\n",
    "model.save(\"d2v.model\")\n",
    "print(\"Model Saved\")"
   ]
  },
  {
   "cell_type": "code",
   "execution_count": 126,
   "metadata": {},
   "outputs": [
    {
     "name": "stdout",
     "output_type": "stream",
     "text": [
      "V1_infer [ 0.02786537 -0.15617043  0.09614474 -0.15351231  0.0056464   0.14709063\n",
      " -0.10719717 -0.20774604  0.25283945 -0.11388876  0.08232043 -0.02487154\n",
      " -0.18636256  0.06143482 -0.02890896 -0.07912687 -0.08651228  0.03683301\n",
      " -0.07879587 -0.02497978]\n",
      "[('795', 0.7551185488700867), ('279', 0.7240581512451172), ('269', 0.7106707096099854), ('276', 0.7081595659255981), ('2604', 0.7076005935668945), ('1993', 0.703026533126831), ('90', 0.6891791820526123), ('2951', 0.6830059289932251), ('250', 0.6760359406471252), ('274', 0.6604530215263367)]\n",
      "[ 2.6063082  -0.80071914  4.493682   -3.5328135   0.60080296  4.171874\n",
      "  1.9757626  -0.9834134   1.4936322   1.0053214   1.4235753  -3.937983\n",
      " -0.03474484 -2.4155326   3.5768118  -1.1464969  -0.5091724   0.68507594\n",
      " -1.0770615   1.4298849 ]\n"
     ]
    }
   ],
   "source": [
    "from gensim.models.doc2vec import Doc2Vec\n",
    "\n",
    "model= Doc2Vec.load(\"d2v.model\")\n",
    "#to find the vector of a document which is not in training data\n",
    "test_data = word_tokenize(\"where should we go tonight?\".lower())\n",
    "v1 = model.infer_vector(test_data)\n",
    "print(\"V1_infer\", v1)\n",
    "\n",
    "# to find most similar doc using tags\n",
    "similar_doc = model.docvecs.most_similar('1')\n",
    "print(similar_doc)\n",
    "\n",
    "\n",
    "# to find vector of doc in training data using tags or in other words, printing the vector of document at index 1 in training data\n",
    "print(model.docvecs['1'])"
   ]
  },
  {
   "cell_type": "code",
   "execution_count": 128,
   "metadata": {},
   "outputs": [
    {
     "name": "stdout",
     "output_type": "stream",
     "text": [
      "1379\n"
     ]
    }
   ],
   "source": [
    "similar_doc = model.docvecs.most_similar([v1])\n",
    "print(similar_doc[0][0])"
   ]
  },
  {
   "cell_type": "code",
   "execution_count": 132,
   "metadata": {},
   "outputs": [
    {
     "data": {
      "text/plain": [
       "'Becky is gonna go to Old Street and Jake and I will hang with you'"
      ]
     },
     "execution_count": 132,
     "metadata": {},
     "output_type": "execute_result"
    }
   ],
   "source": [
    "me_chat[795]"
   ]
  },
  {
   "cell_type": "code",
   "execution_count": 133,
   "metadata": {},
   "outputs": [
    {
     "data": {
      "text/plain": [
       "'No 😩 now I feel terrible'"
      ]
     },
     "execution_count": 133,
     "metadata": {},
     "output_type": "execute_result"
    }
   ],
   "source": [
    "friend_chat[795]"
   ]
  },
  {
   "cell_type": "code",
   "execution_count": null,
   "metadata": {},
   "outputs": [],
   "source": []
  }
 ],
 "metadata": {
  "kernelspec": {
   "display_name": "Python 3",
   "language": "python",
   "name": "python3"
  },
  "language_info": {
   "codemirror_mode": {
    "name": "ipython",
    "version": 3
   },
   "file_extension": ".py",
   "mimetype": "text/x-python",
   "name": "python",
   "nbconvert_exporter": "python",
   "pygments_lexer": "ipython3",
   "version": "3.7.6"
  }
 },
 "nbformat": 4,
 "nbformat_minor": 4
}
