{
 "cells": [
  {
   "cell_type": "markdown",
   "metadata": {},
   "source": [
    "# Testing"
   ]
  },
  {
   "cell_type": "code",
   "execution_count": null,
   "metadata": {},
   "outputs": [],
   "source": []
  },
  {
   "cell_type": "code",
   "execution_count": null,
   "metadata": {},
   "outputs": [],
   "source": []
  },
  {
   "cell_type": "markdown",
   "metadata": {},
   "source": [
    "## Testing - 1"
   ]
  },
  {
   "cell_type": "code",
   "execution_count": 3,
   "metadata": {},
   "outputs": [],
   "source": [
    "alison_chat_bot = ChatBot(my_name='Guy', friend_name='Alison',\n",
    "                   chat_file_path='/Users/guybrett-robertson/Documents/data/whatsapp_chats/alison_chat.txt')"
   ]
  },
  {
   "cell_type": "code",
   "execution_count": 4,
   "metadata": {},
   "outputs": [
    {
     "name": "stdout",
     "output_type": "stream",
     "text": [
      "Iteration: 0 / 100\n",
      "Iteration: 10 / 100\n",
      "Iteration: 20 / 100\n",
      "Iteration: 30 / 100\n",
      "Iteration: 40 / 100\n",
      "Iteration: 50 / 100\n",
      "Iteration: 60 / 100\n",
      "Iteration: 70 / 100\n",
      "Iteration: 80 / 100\n",
      "Iteration: 90 / 100\n",
      "Iteration: 100 / 100\n",
      "Model Saved\n"
     ]
    }
   ],
   "source": [
    "alison_chat_bot.train(max_epochs=100, vec_size=20)"
   ]
  },
  {
   "cell_type": "markdown",
   "metadata": {},
   "source": [
    "### Input messages that are the same as messages present in the chat data set\n",
    "\n",
    "We would expect the chat bot to give the same response as the original response that was given in the chat data."
   ]
  },
  {
   "cell_type": "code",
   "execution_count": 5,
   "metadata": {},
   "outputs": [
    {
     "name": "stdout",
     "output_type": "stream",
     "text": [
      "Me: Gnight Alison x\n",
      "Alison: Have a good night ☺️ x\n"
     ]
    }
   ],
   "source": [
    "print('Me: ' + alison_chat_bot.me_chat[213])\n",
    "print('Alison: ' + alison_chat_bot.friend_chat[213])"
   ]
  },
  {
   "cell_type": "code",
   "execution_count": 6,
   "metadata": {},
   "outputs": [
    {
     "name": "stdout",
     "output_type": "stream",
     "text": [
      "Alison: Have a good night ☺️ x\n"
     ]
    }
   ],
   "source": [
    "alison_chat_bot.message('Gnight Alison x')"
   ]
  },
  {
   "cell_type": "code",
   "execution_count": 7,
   "metadata": {},
   "outputs": [
    {
     "name": "stdout",
     "output_type": "stream",
     "text": [
      "Me: I just totally forgot — where is your place a Londres?\n",
      "Alison: Kilburn :)\n"
     ]
    }
   ],
   "source": [
    "print('Me: ' + alison_chat_bot.me_chat[294])\n",
    "print('Alison: ' + alison_chat_bot.friend_chat[294])"
   ]
  },
  {
   "cell_type": "code",
   "execution_count": 8,
   "metadata": {},
   "outputs": [
    {
     "name": "stdout",
     "output_type": "stream",
     "text": [
      "Alison: Kilburn :)\n"
     ]
    }
   ],
   "source": [
    "alison_chat_bot.message('I just totally forgot — where is your place a Londres?')"
   ]
  },
  {
   "cell_type": "markdown",
   "metadata": {},
   "source": [
    "### Messages that are similar but not identical to messages present in the chat data set\n",
    "\n",
    "We would expect the chat bot to give some reasonable responses to these."
   ]
  },
  {
   "cell_type": "code",
   "execution_count": 9,
   "metadata": {},
   "outputs": [
    {
     "name": "stdout",
     "output_type": "stream",
     "text": [
      "Alison: Ça va merci :) quoi de neuf aujourd'hui ?\n"
     ]
    }
   ],
   "source": [
    "alison_chat_bot.message('Ca va?')"
   ]
  },
  {
   "cell_type": "code",
   "execution_count": 10,
   "metadata": {},
   "outputs": [
    {
     "name": "stdout",
     "output_type": "stream",
     "text": [
      "Alison: Amazing 😄🥰\n"
     ]
    }
   ],
   "source": [
    "alison_chat_bot.message('Yayyy')"
   ]
  },
  {
   "cell_type": "code",
   "execution_count": 11,
   "metadata": {},
   "outputs": [
    {
     "name": "stdout",
     "output_type": "stream",
     "text": [
      "Alison: Bonjour toi! :)\n"
     ]
    }
   ],
   "source": [
    "alison_chat_bot.message(\"How's it going?\")"
   ]
  },
  {
   "cell_type": "code",
   "execution_count": 12,
   "metadata": {},
   "outputs": [
    {
     "name": "stdout",
     "output_type": "stream",
     "text": [
      "Alison: I miss you too x\n"
     ]
    }
   ],
   "source": [
    "alison_chat_bot.message(\"I miss you\")"
   ]
  },
  {
   "cell_type": "markdown",
   "metadata": {},
   "source": [
    "### Completely new messages\n",
    "\n",
    "We wouldn't expect the chat bot to give particularly reasonable responses to these."
   ]
  },
  {
   "cell_type": "code",
   "execution_count": 13,
   "metadata": {},
   "outputs": [
    {
     "name": "stdout",
     "output_type": "stream",
     "text": [
      "Alison: Ah right! Hope it goes well :) did you know her already?\n"
     ]
    }
   ],
   "source": [
    "alison_chat_bot.message('What is the meaning of life?')"
   ]
  },
  {
   "cell_type": "code",
   "execution_count": 14,
   "metadata": {},
   "outputs": [
    {
     "name": "stdout",
     "output_type": "stream",
     "text": [
      "Alison: Yes 😄\n"
     ]
    }
   ],
   "source": [
    "alison_chat_bot.message('The quick brown fox jumps over the lazy dog.')"
   ]
  },
  {
   "cell_type": "code",
   "execution_count": 15,
   "metadata": {},
   "outputs": [
    {
     "name": "stdout",
     "output_type": "stream",
     "text": [
      "Alison: Basically I had left her gift (the frame) in my car so we would take it when she leaves to get the pizzas. Except she locked us inside, the door and the gate were closed 😆 so I had to climb out the window and stuff and then climb back in 🤣\n"
     ]
    }
   ],
   "source": [
    "alison_chat_bot.message('What are you going to do yesterday?')"
   ]
  },
  {
   "cell_type": "markdown",
   "metadata": {},
   "source": [
    "## Testing - 2"
   ]
  },
  {
   "cell_type": "code",
   "execution_count": 16,
   "metadata": {},
   "outputs": [],
   "source": [
    "jake_chat_bot = ChatBot(my_name='Guy', friend_name='Jake',\n",
    "                   chat_file_path='/Users/guybrett-robertson/Documents/data/whatsapp_chats/jake_chat.txt')"
   ]
  },
  {
   "cell_type": "code",
   "execution_count": 17,
   "metadata": {},
   "outputs": [
    {
     "name": "stdout",
     "output_type": "stream",
     "text": [
      "Iteration: 0 / 100\n",
      "Iteration: 10 / 100\n",
      "Iteration: 20 / 100\n",
      "Iteration: 30 / 100\n",
      "Iteration: 40 / 100\n",
      "Iteration: 50 / 100\n",
      "Iteration: 60 / 100\n",
      "Iteration: 70 / 100\n",
      "Iteration: 80 / 100\n",
      "Iteration: 90 / 100\n",
      "Iteration: 100 / 100\n",
      "Model Saved\n"
     ]
    }
   ],
   "source": [
    "jake_chat_bot.train(max_epochs=100, vec_size=20)"
   ]
  },
  {
   "cell_type": "markdown",
   "metadata": {},
   "source": [
    "### Input messages that are the same as messages present in the chat data set\n",
    "\n",
    "We would expect the chat bot to give the same response as the original response that was given in the chat data."
   ]
  },
  {
   "cell_type": "code",
   "execution_count": 21,
   "metadata": {},
   "outputs": [
    {
     "name": "stdout",
     "output_type": "stream",
     "text": [
      "Me: Dude so happy about this\n",
      "Jake: How great will it be , it'll also be hilarious because no one will be vegetarian anymore\n"
     ]
    }
   ],
   "source": [
    "print('Me: ' + jake_chat_bot.me_chat[0])\n",
    "print('Jake: ' + jake_chat_bot.friend_chat[0])"
   ]
  },
  {
   "cell_type": "code",
   "execution_count": 22,
   "metadata": {},
   "outputs": [
    {
     "name": "stdout",
     "output_type": "stream",
     "text": [
      "Jake: How great will it be , it'll also be hilarious because no one will be vegetarian anymore\n"
     ]
    }
   ],
   "source": [
    "jake_chat_bot.message('Dude so happy about this')"
   ]
  },
  {
   "cell_type": "code",
   "execution_count": 23,
   "metadata": {},
   "outputs": [
    {
     "name": "stdout",
     "output_type": "stream",
     "text": [
      "Me: This would be much simpler if you had made a facebook event\n",
      "Jake: Nah because people just forget about it\n"
     ]
    }
   ],
   "source": [
    "print('Me: ' + jake_chat_bot.me_chat[65])\n",
    "print('Jake: ' + jake_chat_bot.friend_chat[65])"
   ]
  },
  {
   "cell_type": "code",
   "execution_count": 24,
   "metadata": {},
   "outputs": [
    {
     "name": "stdout",
     "output_type": "stream",
     "text": [
      "Jake: Nah because people just forget about it\n"
     ]
    }
   ],
   "source": [
    "jake_chat_bot.message('This would be much simpler if you had made a facebook event')"
   ]
  },
  {
   "cell_type": "markdown",
   "metadata": {},
   "source": [
    "### Messages that are similar but not identical to messages present in the chat data set\n",
    "\n",
    "We would expect the chat bot to give some reasonable responses to these."
   ]
  },
  {
   "cell_type": "code",
   "execution_count": 25,
   "metadata": {},
   "outputs": [
    {
     "name": "stdout",
     "output_type": "stream",
     "text": [
      "Jake: Great fun\n"
     ]
    }
   ],
   "source": [
    "jake_chat_bot.message('How is it going?')"
   ]
  },
  {
   "cell_type": "code",
   "execution_count": 30,
   "metadata": {},
   "outputs": [
    {
     "name": "stdout",
     "output_type": "stream",
     "text": [
      "Jake: awesome, yeah ill come round\n"
     ]
    }
   ],
   "source": [
    "jake_chat_bot.message(\"What's up?\")"
   ]
  },
  {
   "cell_type": "code",
   "execution_count": 32,
   "metadata": {},
   "outputs": [
    {
     "name": "stdout",
     "output_type": "stream",
     "text": [
      "Jake: Cheers mate!!\n"
     ]
    }
   ],
   "source": [
    "jake_chat_bot.message(\"Nice one\")"
   ]
  },
  {
   "cell_type": "code",
   "execution_count": 33,
   "metadata": {},
   "outputs": [
    {
     "name": "stdout",
     "output_type": "stream",
     "text": [
      "Jake: Are you busy revising right now, or do you have time for breakfast\n"
     ]
    }
   ],
   "source": [
    "jake_chat_bot.message(\"See you soon\")"
   ]
  },
  {
   "cell_type": "markdown",
   "metadata": {},
   "source": [
    "### Completely new messages\n",
    "\n",
    "We wouldn't expect the chat bot to give particularly reasonable responses to these."
   ]
  },
  {
   "cell_type": "code",
   "execution_count": 34,
   "metadata": {},
   "outputs": [
    {
     "name": "stdout",
     "output_type": "stream",
     "text": [
      "Jake: Awesome\n"
     ]
    }
   ],
   "source": [
    "jake_chat_bot.message('What is the meaning of life?')"
   ]
  },
  {
   "cell_type": "code",
   "execution_count": 35,
   "metadata": {},
   "outputs": [
    {
     "name": "stdout",
     "output_type": "stream",
     "text": [
      "Jake: what you up to tonight?\n"
     ]
    }
   ],
   "source": [
    "jake_chat_bot.message('The quick brown fox jumps over the lazy dog.')"
   ]
  },
  {
   "cell_type": "code",
   "execution_count": 36,
   "metadata": {},
   "outputs": [
    {
     "name": "stdout",
     "output_type": "stream",
     "text": [
      "Jake: covent garden\n"
     ]
    }
   ],
   "source": [
    "jake_chat_bot.message('What are you going to do yesterday?')"
   ]
  }
 ],
 "metadata": {
  "kernelspec": {
   "display_name": "Python 3",
   "language": "python",
   "name": "python3"
  },
  "language_info": {
   "codemirror_mode": {
    "name": "ipython",
    "version": 3
   },
   "file_extension": ".py",
   "mimetype": "text/x-python",
   "name": "python",
   "nbconvert_exporter": "python",
   "pygments_lexer": "ipython3",
   "version": "3.7.6"
  }
 },
 "nbformat": 4,
 "nbformat_minor": 4
}
