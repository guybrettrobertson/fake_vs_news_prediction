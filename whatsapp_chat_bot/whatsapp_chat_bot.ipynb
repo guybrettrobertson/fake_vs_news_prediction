{
 "cells": [
  {
   "cell_type": "markdown",
   "metadata": {},
   "source": [
    "# Whatsapp chat bot"
   ]
  },
  {
   "cell_type": "code",
   "execution_count": 6,
   "metadata": {},
   "outputs": [],
   "source": [
    "def split_text(filename):\n",
    "  '''Split file contents by newline.'''\n",
    "\n",
    "  chat = open(filename)\n",
    "  chat_text = chat.read()\n",
    "  return chat_text.splitlines()"
   ]
  },
  {
   "cell_type": "code",
   "execution_count": 7,
   "metadata": {},
   "outputs": [],
   "source": [
    "# Raw chat data\n",
    "raw_chat = split_text('/Users/guybrett-robertson/Documents/data/whatsapp_chats/_chat.txt')\n",
    "print(raw_chat[0:10])"
   ]
  },
  {
   "cell_type": "code",
   "execution_count": 9,
   "metadata": {},
   "outputs": [
    {
     "name": "stdout",
     "output_type": "stream",
     "text": [
      "22719\n"
     ]
    }
   ],
   "source": [
    "n = len(raw_chat)\n",
    "print(n)"
   ]
  },
  {
   "cell_type": "code",
   "execution_count": 36,
   "metadata": {},
   "outputs": [],
   "source": [
    "# List of messages from me\n",
    "me_chat = []\n",
    "# Corresponding list of responses to my messages\n",
    "friend_chat = []\n",
    "\n",
    "previous_row = [None, None]\n",
    "\n",
    "# Iterate through all messages\n",
    "for i in range(n):\n",
    "    row = raw_chat[i]\n",
    "    # Check that the row is not empty\n",
    "    if len(row) != 0:\n",
    "        # Check that the row is valid, excludes picture messages, etc.\n",
    "        if row[0] == '[':\n",
    "            # Remove time stamp\n",
    "            row = row.split('] ')[1]\n",
    "            # Specifies who sent the message\n",
    "            row = row.split(': ')[0:2]\n",
    "            # Only keep last message in a string of message from me, and my friend's first response to this\n",
    "            if previous_row[0] == 'Guy' and row[0] != 'Guy':\n",
    "                me_chat.append(previous_row[1])\n",
    "                friend_chat.append(row[1])\n",
    "            previous_row = row"
   ]
  },
  {
   "cell_type": "code",
   "execution_count": 37,
   "metadata": {},
   "outputs": [
    {
     "data": {
      "text/plain": [
       "4771"
      ]
     },
     "execution_count": 37,
     "metadata": {},
     "output_type": "execute_result"
    }
   ],
   "source": [
    "len(me_chat)"
   ]
  },
  {
   "cell_type": "code",
   "execution_count": 81,
   "metadata": {},
   "outputs": [
    {
     "ename": "IndexError",
     "evalue": "string index out of range",
     "output_type": "error",
     "traceback": [
      "\u001b[0;31m---------------------------------------------------------------------------\u001b[0m",
      "\u001b[0;31mIndexError\u001b[0m                                Traceback (most recent call last)",
      "\u001b[0;32m<ipython-input-81-d529692a26e7>\u001b[0m in \u001b[0;36m<module>\u001b[0;34m\u001b[0m\n\u001b[1;32m      2\u001b[0m \u001b[0;32mfor\u001b[0m \u001b[0mi\u001b[0m \u001b[0;32min\u001b[0m \u001b[0mrange\u001b[0m\u001b[0;34m(\u001b[0m\u001b[0mn\u001b[0m\u001b[0;34m)\u001b[0m\u001b[0;34m:\u001b[0m\u001b[0;34m\u001b[0m\u001b[0;34m\u001b[0m\u001b[0m\n\u001b[1;32m      3\u001b[0m     \u001b[0mmessage\u001b[0m \u001b[0;34m=\u001b[0m \u001b[0mraw_chat\u001b[0m\u001b[0;34m[\u001b[0m\u001b[0mi\u001b[0m\u001b[0;34m]\u001b[0m\u001b[0;34m\u001b[0m\u001b[0;34m\u001b[0m\u001b[0m\n\u001b[0;32m----> 4\u001b[0;31m     \u001b[0;32mif\u001b[0m \u001b[0mmessage\u001b[0m\u001b[0;34m[\u001b[0m\u001b[0;36m0\u001b[0m\u001b[0;34m]\u001b[0m \u001b[0;34m==\u001b[0m \u001b[0;34m' '\u001b[0m\u001b[0;34m:\u001b[0m\u001b[0;34m\u001b[0m\u001b[0;34m\u001b[0m\u001b[0m\n\u001b[0m\u001b[1;32m      5\u001b[0m         \u001b[0mprint\u001b[0m\u001b[0;34m(\u001b[0m\u001b[0mmessage\u001b[0m\u001b[0;34m)\u001b[0m\u001b[0;34m\u001b[0m\u001b[0;34m\u001b[0m\u001b[0m\n",
      "\u001b[0;31mIndexError\u001b[0m: string index out of range"
     ]
    }
   ],
   "source": [
    "chat = []\n",
    "for i in range(n):\n",
    "    message = raw_chat[i]\n",
    "    if message[0] == ' ':\n",
    "        print(message)"
   ]
  },
  {
   "cell_type": "code",
   "execution_count": 29,
   "metadata": {},
   "outputs": [
    {
     "data": {
      "text/plain": [
       "'Mema Nackasha: Yeah maybs baby ! Sounds good!'"
      ]
     },
     "execution_count": 29,
     "metadata": {},
     "output_type": "execute_result"
    }
   ],
   "source": [
    "chat[11].split('] ')[1]"
   ]
  },
  {
   "cell_type": "code",
   "execution_count": 72,
   "metadata": {},
   "outputs": [
    {
     "name": "stdout",
     "output_type": "stream",
     "text": [
      "108 ‎[12/09/2016, 19:30:17] Guy: ‎image omitted\n",
      "112 ‎[12/09/2016, 19:32:09] Mema Nackasha: ‎image omitted\n",
      "115 ‎[12/09/2016, 19:39:40] Guy: ‎image omitted\n",
      "208 ‎[05/01/2017, 19:26:21] Guy: ‎image omitted\n",
      "253 ‎[15/01/2017, 19:12:23] Guy: ‎GIF omitted\n",
      "270 ‎[15/01/2017, 19:16:07] Mema Nackasha: ‎image omitted\n",
      "276 ‎[15/01/2017, 19:17:42] Guy: ‎image omitted\n",
      "284 ‎[15/01/2017, 19:29:57] Mema Nackasha: ‎image omitted\n",
      "287 ‎[15/01/2017, 19:42:42] Mema Nackasha: ‎image omitted\n",
      "288 ‎[15/01/2017, 19:42:50] Mema Nackasha: ‎image omitted\n",
      "289 ‎[15/01/2017, 19:42:53] Mema Nackasha: ‎image omitted\n",
      "292 ‎[15/01/2017, 19:45:30] Mema Nackasha: ‎image omitted\n",
      "293 ‎[15/01/2017, 19:46:11] Mema Nackasha: ‎image omitted\n",
      "296 ‎[15/01/2017, 19:47:18] Mema Nackasha: ‎image omitted\n",
      "303 ‎[15/01/2017, 20:15:39] Mema Nackasha: ‎image omitted\n",
      "314 ‎[15/01/2017, 20:43:05] Mema Nackasha: ‎image omitted\n",
      "360 ‎[15/01/2017, 20:57:39] Mema Nackasha: ‎image omitted\n",
      "361 ‎[15/01/2017, 20:57:43] Mema Nackasha: ‎image omitted\n",
      "382 ‎[15/01/2017, 21:11:11] Mema Nackasha: ‎image omitted\n",
      "384 ‎[15/01/2017, 21:11:20] Mema Nackasha: ‎image omitted\n",
      "439 ‎[15/01/2017, 21:29:29] Mema Nackasha: ‎image omitted\n",
      "680 ‎[15/01/2017, 22:29:45] Mema Nackasha: ‎image omitted\n",
      "723 ‎[15/01/2017, 22:48:26] Mema Nackasha: ‎image omitted\n",
      "724 ‎[15/01/2017, 22:48:35] Mema Nackasha: ‎image omitted\n",
      "810 \"I'd hate you if you weren't so bloody nice\"\n",
      "819 ‎[18/01/2017, 18:31:34] Mema Nackasha: ‎audio omitted\n",
      "909 ‎[22/01/2017, 10:15:27] Mema Nackasha: ‎image omitted\n",
      "941 ‎[23/01/2017, 16:50:01] Mema Nackasha: ‎image omitted\n",
      "1079 ‎[17/02/2017, 10:57:49] Mema Nackasha: ‎image omitted\n",
      "1099 ‎[17/02/2017, 11:10:24] Mema Nackasha: ‎image omitted\n",
      "1100 ‎[17/02/2017, 11:10:40] Mema Nackasha: ‎image omitted\n",
      "1330 ‎[13/03/2017, 09:17:39] Mema Nackasha: ‎image omitted\n",
      "1364 ‎[18/03/2017, 15:24:52] Mema Nackasha: ‎audio omitted\n",
      "1498 ‎[17/04/2017, 12:38:26] Mema Nackasha: ‎image omitted\n",
      "1502 ‎[17/04/2017, 12:42:22] Guy: ‎image omitted\n",
      "1589 ‎[27/05/2017, 13:31:09] Mema Nackasha: ‎image omitted\n",
      "1590 ‎[27/05/2017, 13:31:16] Mema Nackasha: ‎image omitted\n",
      "1591 ‎[27/05/2017, 13:31:26] Mema Nackasha: ‎image omitted\n",
      "1592 ‎[27/05/2017, 13:31:32] Mema Nackasha: ‎image omitted\n",
      "1593 ‎[27/05/2017, 13:31:38] Mema Nackasha: ‎image omitted\n",
      "1594 ‎[27/05/2017, 13:31:42] Mema Nackasha: ‎image omitted\n",
      "1595 ‎[27/05/2017, 13:31:46] Mema Nackasha: ‎image omitted\n",
      "1596 ‎[27/05/2017, 13:31:52] Mema Nackasha: ‎image omitted\n",
      "1597 ‎[27/05/2017, 13:32:02] Mema Nackasha: ‎image omitted\n",
      "1598 ‎[27/05/2017, 13:32:11] Mema Nackasha: ‎image omitted\n",
      "1599 ‎[27/05/2017, 13:32:21] Mema Nackasha: ‎image omitted\n",
      "1600 ‎[27/05/2017, 13:32:27] Mema Nackasha: ‎image omitted\n",
      "1601 ‎[27/05/2017, 13:32:31] Mema Nackasha: ‎image omitted\n",
      "1602 ‎[27/05/2017, 13:32:35] Mema Nackasha: ‎image omitted\n",
      "1603 ‎[27/05/2017, 13:32:39] Mema Nackasha: ‎image omitted\n",
      "1604 ‎[27/05/2017, 13:32:43] Mema Nackasha: ‎image omitted\n",
      "1605 ‎[27/05/2017, 13:32:47] Mema Nackasha: ‎image omitted\n",
      "1606 ‎[27/05/2017, 13:32:49] Mema Nackasha: ‎image omitted\n",
      "1607 ‎[27/05/2017, 13:32:52] Mema Nackasha: ‎image omitted\n",
      "1718 ‎[29/05/2017, 15:43:23] Mema Nackasha: ‎image omitted\n",
      "1745 ‎[02/06/2017, 00:12:01] Mema Nackasha: ‎image omitted\n",
      "1751 ‎[02/06/2017, 08:20:11] Mema Nackasha: ‎image omitted\n",
      "1752 ‎[02/06/2017, 08:26:52] Mema Nackasha: ‎image omitted\n",
      "1809 ‎[13/06/2017, 21:49:17] Mema Nackasha: ‎image omitted\n",
      "1826 ‎[17/06/2017, 16:41:23] Mema Nackasha: ‎image omitted\n",
      "1827 ‎[17/06/2017, 16:41:23] Mema Nackasha: ‎image omitted\n",
      "1831 ‎[17/06/2017, 20:21:18] Mema Nackasha: ‎image omitted\n",
      "1835 ‎[17/06/2017, 20:22:29] Mema Nackasha: ‎image omitted\n",
      "1836 ‎[17/06/2017, 20:22:29] Mema Nackasha: ‎image omitted\n",
      "1837 ‎[17/06/2017, 20:22:30] Mema Nackasha: ‎image omitted\n",
      "1838 ‎[17/06/2017, 20:22:31] Mema Nackasha: ‎image omitted\n",
      "1839 ‎[17/06/2017, 20:22:32] Mema Nackasha: ‎image omitted\n",
      "1840 ‎[17/06/2017, 20:22:32] Mema Nackasha: ‎image omitted\n",
      "1841 ‎[17/06/2017, 20:22:32] Mema Nackasha: ‎image omitted\n",
      "1852 ‎[18/06/2017, 10:07:40] Mema Nackasha: ‎image omitted\n",
      "1869 ‎[21/06/2017, 23:20:36] Mema Nackasha: ‎image omitted\n",
      "2131 ‎[09/07/2017, 17:26:29] Mema Nackasha: ‎image omitted\n",
      "2145 ‎[10/07/2017, 21:55:48] Guy: ‎image omitted\n",
      "2146 ‎[10/07/2017, 21:55:58] Guy: ‎image omitted\n",
      "2147 ‎[10/07/2017, 21:56:05] Guy: ‎image omitted\n",
      "2148 ‎[10/07/2017, 21:56:11] Guy: ‎image omitted\n",
      "2181 ‎[11/07/2017, 19:56:20] Mema Nackasha: ‎image omitted\n",
      "2186 ‎[11/07/2017, 20:09:37] Mema Nackasha: ‎image omitted\n"
     ]
    },
    {
     "ename": "IndexError",
     "evalue": "string index out of range",
     "output_type": "error",
     "traceback": [
      "\u001b[0;31m---------------------------------------------------------------------------\u001b[0m",
      "\u001b[0;31mIndexError\u001b[0m                                Traceback (most recent call last)",
      "\u001b[0;32m<ipython-input-72-862056ecdc8f>\u001b[0m in \u001b[0;36m<module>\u001b[0;34m\u001b[0m\n\u001b[1;32m      1\u001b[0m \u001b[0;32mfor\u001b[0m \u001b[0mi\u001b[0m \u001b[0;32min\u001b[0m \u001b[0mrange\u001b[0m\u001b[0;34m(\u001b[0m\u001b[0mn\u001b[0m\u001b[0;34m)\u001b[0m\u001b[0;34m:\u001b[0m\u001b[0;34m\u001b[0m\u001b[0;34m\u001b[0m\u001b[0m\n\u001b[0;32m----> 2\u001b[0;31m     \u001b[0;32mif\u001b[0m \u001b[0mchat\u001b[0m\u001b[0;34m[\u001b[0m\u001b[0mi\u001b[0m\u001b[0;34m]\u001b[0m\u001b[0;34m[\u001b[0m\u001b[0;36m0\u001b[0m\u001b[0;34m]\u001b[0m \u001b[0;34m!=\u001b[0m \u001b[0;34m'['\u001b[0m\u001b[0;34m:\u001b[0m\u001b[0;34m\u001b[0m\u001b[0;34m\u001b[0m\u001b[0m\n\u001b[0m\u001b[1;32m      3\u001b[0m         \u001b[0mprint\u001b[0m\u001b[0;34m(\u001b[0m\u001b[0mi\u001b[0m\u001b[0;34m,\u001b[0m \u001b[0mchat\u001b[0m\u001b[0;34m[\u001b[0m\u001b[0mi\u001b[0m\u001b[0;34m]\u001b[0m\u001b[0;34m)\u001b[0m\u001b[0;34m\u001b[0m\u001b[0;34m\u001b[0m\u001b[0m\n",
      "\u001b[0;31mIndexError\u001b[0m: string index out of range"
     ]
    }
   ],
   "source": [
    "for i in range(n):\n",
    "    if chat[i][0] != '[':\n",
    "        print(i, chat[i])"
   ]
  },
  {
   "cell_type": "code",
   "execution_count": null,
   "metadata": {},
   "outputs": [],
   "source": []
  }
 ],
 "metadata": {
  "kernelspec": {
   "display_name": "Python 3",
   "language": "python",
   "name": "python3"
  },
  "language_info": {
   "codemirror_mode": {
    "name": "ipython",
    "version": 3
   },
   "file_extension": ".py",
   "mimetype": "text/x-python",
   "name": "python",
   "nbconvert_exporter": "python",
   "pygments_lexer": "ipython3",
   "version": "3.7.6"
  }
 },
 "nbformat": 4,
 "nbformat_minor": 4
}
