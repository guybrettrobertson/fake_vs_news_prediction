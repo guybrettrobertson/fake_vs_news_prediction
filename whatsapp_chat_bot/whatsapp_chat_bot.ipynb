{
 "cells": [
  {
   "cell_type": "markdown",
   "metadata": {},
   "source": [
    "# Whatsapp chat bot"
   ]
  },
  {
   "cell_type": "markdown",
   "metadata": {},
   "source": [
    "## Import dependencies"
   ]
  },
  {
   "cell_type": "code",
   "execution_count": 142,
   "metadata": {},
   "outputs": [],
   "source": [
    "from nltk.corpus import stopwords\n",
    "from gensim.models.doc2vec import Doc2Vec, TaggedDocument\n",
    "from nltk.tokenize import word_tokenize\n",
    "from gensim.models.doc2vec import Doc2Vec"
   ]
  },
  {
   "cell_type": "code",
   "execution_count": 150,
   "metadata": {},
   "outputs": [],
   "source": [
    "class ChatBot:\n",
    "    \n",
    "    def __init__(self, my_name, friend_name, chat_file_path):\n",
    "        \n",
    "        self.my_name = my_name\n",
    "        self.friend_name = friend_name\n",
    "        \n",
    "        chat = open(chat_file_path)\n",
    "        chat_text = chat.read()\n",
    "        self.raw_chat = chat_text.splitlines()\n",
    "        \n",
    "        # List of messages from me\n",
    "        self.me_chat = []\n",
    "        # Corresponding list of responses to my messages\n",
    "        self.friend_chat = []\n",
    "\n",
    "        previous_row = [None, None]\n",
    "\n",
    "        # Iterate through all messages\n",
    "        for i in range(len(me_chat)):\n",
    "            row = self.raw_chat[i]\n",
    "            # Check that the row is not empty\n",
    "            if len(row) != 0:\n",
    "                # Check that the row is valid, excludes picture messages, etc.\n",
    "                if row[0] == '[':\n",
    "                    # Remove time stamp\n",
    "                    row = row.split('] ')[1]\n",
    "                    # Specifies who sent the message\n",
    "                    row = row.split(': ')[0:2]\n",
    "                    # Only keep last message in a string of message from me, and my friend's first response to this\n",
    "                    if previous_row[0] == my_name and row[0] != my_name:\n",
    "                        self.me_chat.append(previous_row[1])\n",
    "                        self.friend_chat.append(row[1])\n",
    "                    previous_row = row\n",
    "        \n",
    "        stop_words = stopwords.words('english')\n",
    "        stop_words = []\n",
    "        \n",
    "        self.tagged_data = []\n",
    "        for i in range(n):\n",
    "            message = word_tokenize(me_chat[i].lower())\n",
    "            tagged_message = [word for word in message if word not in stop_words]\n",
    "            self.tagged_data.append(TaggedDocument(words=tagged_message, tags = [i]))\n",
    "\n",
    "    def train(self, max_epochs=100, vec_size=100, alpha=0.025):\n",
    "        \n",
    "        model = Doc2Vec(vector_size=vec_size,\n",
    "                alpha=alpha, \n",
    "                min_alpha=0.00025,\n",
    "                min_count=1,\n",
    "                dm =1)\n",
    "        \n",
    "        model.build_vocab(tagged_data)\n",
    "        \n",
    "        for epoch in range(max_epochs):\n",
    "            if epoch % 10 == 0: print('iteration {0} / max_epochs'.format(epoch))\n",
    "            model.train(tagged_data,\n",
    "                        total_examples=model.corpus_count,\n",
    "                        epochs=model.epochs)\n",
    "            # decrease the learning rate\n",
    "            model.alpha -= 0.0002\n",
    "            # fix the learning rate, no decay\n",
    "            model.min_alpha = model.alpha\n",
    "\n",
    "        model.save(self.friend_name + \"_doc2vec.model\")\n",
    "        print(\"Model Saved\")\n",
    "        \n",
    "    def message(self, message):\n",
    "        \n",
    "        message = word_tokenize(message.lower())\n",
    "        message = [word for word in message if word not in stop_words]\n",
    "        message_vector = model.infer_vector(message, epochs=1000)\n",
    "        similar_doc = model.docvecs.most_similar([message_vector])[0][0]\n",
    "        print(friend_chat[similar_doc])"
   ]
  },
  {
   "cell_type": "code",
   "execution_count": 151,
   "metadata": {},
   "outputs": [],
   "source": [
    "chat_bot = ChatBot(my_name='Guy', friend_name='Alison',\n",
    "                   chat_file_path'/Users/guybrett-robertson/Documents/data/whatsapp_chats/alison_chat.txt')"
   ]
  },
  {
   "cell_type": "code",
   "execution_count": 152,
   "metadata": {},
   "outputs": [
    {
     "name": "stdout",
     "output_type": "stream",
     "text": [
      "iteration 0\n",
      "iteration 10\n",
      "iteration 20\n",
      "iteration 30\n",
      "iteration 40\n",
      "iteration 50\n",
      "iteration 60\n",
      "iteration 70\n",
      "iteration 80\n",
      "iteration 90\n",
      "Model Saved\n"
     ]
    }
   ],
   "source": [
    "chat_bot.train()"
   ]
  },
  {
   "cell_type": "code",
   "execution_count": 165,
   "metadata": {},
   "outputs": [
    {
     "name": "stdout",
     "output_type": "stream",
     "text": [
      "😆\n"
     ]
    }
   ],
   "source": [
    "chat_bot.message('Salut!')"
   ]
  },
  {
   "cell_type": "code",
   "execution_count": 65,
   "metadata": {},
   "outputs": [],
   "source": [
    "def split_text(filename):\n",
    "  '''Split file contents by newline.'''\n",
    "\n",
    "  chat = open(filename)\n",
    "  chat_text = chat.read()\n",
    "  return chat_text.splitlines()"
   ]
  },
  {
   "cell_type": "code",
   "execution_count": 66,
   "metadata": {},
   "outputs": [
    {
     "name": "stdout",
     "output_type": "stream",
     "text": [
      "['[04/05/2020, 11:51:07] Alison: \\u200eMessages and calls are end-to-end encrypted. No one outside of this chat, not even WhatsApp, can read or listen to them.', '[04/05/2020, 11:51:07] Alison: Hey! Happy Monday!', '[04/05/2020, 14:03:58] Guy: Salut!', '[04/05/2020, 14:04:06] Guy: Happy Monday to you 😁 x', '[04/05/2020, 14:09:20] Guy: How are you?', '[04/05/2020, 15:26:34] Alison: Fine :) how are you?', '[04/05/2020, 15:27:48] Alison: Btw I was wondering what was that quote about the bourgeoisie on your profile? Haha', '[04/05/2020, 17:25:06] Guy: I’m well thanks! Just finished work and about to work out. I’ve started watching tv whole exercising and it’s great 😄', '[04/05/2020, 17:25:11] Guy: while*', '[04/05/2020, 17:25:45] Guy: Haha overthrowing the bourgeoisie is phrase that’s kinda thrown around by particularly left-leaning people']\n"
     ]
    }
   ],
   "source": [
    "# Raw chat data\n",
    "raw_chat = split_text('/Users/guybrett-robertson/Documents/data/whatsapp_chats/alison_chat.txt')\n",
    "print(raw_chat[0:10])"
   ]
  },
  {
   "cell_type": "code",
   "execution_count": 67,
   "metadata": {},
   "outputs": [
    {
     "name": "stdout",
     "output_type": "stream",
     "text": [
      "26220\n"
     ]
    }
   ],
   "source": [
    "n = len(raw_chat)\n",
    "print(n)"
   ]
  },
  {
   "cell_type": "code",
   "execution_count": 68,
   "metadata": {},
   "outputs": [],
   "source": [
    "# List of messages from me\n",
    "me_chat = []\n",
    "# Corresponding list of responses to my messages\n",
    "friend_chat = []\n",
    "\n",
    "previous_row = [None, None]\n",
    "\n",
    "# Iterate through all messages\n",
    "for i in range(n):\n",
    "    row = raw_chat[i]\n",
    "    # Check that the row is not empty\n",
    "    if len(row) != 0:\n",
    "        # Check that the row is valid, excludes picture messages, etc.\n",
    "        if row[0] == '[':\n",
    "            # Remove time stamp\n",
    "            row = row.split('] ')[1]\n",
    "            # Specifies who sent the message\n",
    "            row = row.split(': ')[0:2]\n",
    "            # Only keep last message in a string of message from me, and my friend's first response to this\n",
    "            if previous_row[0] == 'Guy' and row[0] != 'Guy':\n",
    "                me_chat.append(previous_row[1])\n",
    "                friend_chat.append(row[1])\n",
    "            previous_row = row"
   ]
  },
  {
   "cell_type": "code",
   "execution_count": 69,
   "metadata": {},
   "outputs": [
    {
     "name": "stdout",
     "output_type": "stream",
     "text": [
      "5349\n"
     ]
    }
   ],
   "source": [
    "n = len(me_chat)\n",
    "print(n)"
   ]
  },
  {
   "cell_type": "code",
   "execution_count": 70,
   "metadata": {},
   "outputs": [
    {
     "name": "stdout",
     "output_type": "stream",
     "text": [
      "Me: How are you?\n",
      "Friend: Fine :) how are you?\n",
      "\n",
      "Me: But it lets you know where I stand\n",
      "Friend: What do you work in? I don't think I've asked 🙂\n",
      "\n",
      "Me: There isn’t much choice haha\n",
      "Friend: Oooo very interesting! How do you see the economy of the country going? The way I see it is quite pessimistic so I'd love to have your insights 😆\n",
      "\n",
      "Me: When you say “once I’m back home”, do you mean Avignon?\n",
      "Friend: Damnit 😅\n",
      "\n",
      "Me: Yeah bouldering is just like climbing except without the ropes and harnesses, so you don’t go nearly as high\n",
      "Friend: Ah so I've actually done that in London but called it the wrong way\n",
      "\n",
      "Me: It’s so fun isn’t it? I had only been doing it for about 6 months before the lockdown\n",
      "Friend: I know how hard it is so total respect haha it is really fun though\n",
      "\n",
      "Me: Yeah it’s super hard 😅 always amazing when someone half my size can climb things I can’t\n",
      "Friend: Haha 🤣 yeah it's very impressive!\n",
      "\n",
      "Me: For sure, and I was just starting to get good when I had to stop 😤\n",
      "Friend: Did you find a place that's not too expensive?\n",
      "\n",
      "Me: If you didn’t workout much until recently, how are you in such good shape??\n",
      "Friend: Mile end is quite far from my place now, shame I used to live around there 😆\n",
      "\n",
      "Me: That is a shame!\n",
      "Friend: I mean lol no it's still me it's just my haircut I guess 🤣\n",
      "\n"
     ]
    }
   ],
   "source": [
    "for i in range(10):\n",
    "    print('Me:', me_chat[i])\n",
    "    print('Friend:', friend_chat[i])\n",
    "    print()"
   ]
  },
  {
   "cell_type": "code",
   "execution_count": 71,
   "metadata": {},
   "outputs": [],
   "source": [
    "from nltk.corpus import stopwords\n",
    "from gensim.models.doc2vec import Doc2Vec, TaggedDocument\n",
    "from nltk.tokenize import word_tokenize\n",
    "from gensim.models.doc2vec import Doc2Vec"
   ]
  },
  {
   "cell_type": "code",
   "execution_count": 82,
   "metadata": {},
   "outputs": [],
   "source": [
    "stop_words = stopwords.words('english')\n",
    "stop_words = []"
   ]
  },
  {
   "cell_type": "code",
   "execution_count": 83,
   "metadata": {},
   "outputs": [],
   "source": [
    "tagged_data = []\n",
    "for i in range(n):\n",
    "    message = word_tokenize(me_chat[i].lower())\n",
    "    tagged_message = [word for word in message if word not in stop_words]\n",
    "    tagged_data.append(TaggedDocument(words=tagged_message, tags = [i]))"
   ]
  },
  {
   "cell_type": "code",
   "execution_count": 84,
   "metadata": {},
   "outputs": [
    {
     "name": "stdout",
     "output_type": "stream",
     "text": [
      "[TaggedDocument(words=['how', 'are', 'you', '?'], tags=[0]), TaggedDocument(words=['but', 'it', 'lets', 'you', 'know', 'where', 'i', 'stand'], tags=[1]), TaggedDocument(words=['there', 'isn', '’', 't', 'much', 'choice', 'haha'], tags=[2]), TaggedDocument(words=['when', 'you', 'say', '“', 'once', 'i', '’', 'm', 'back', 'home', '”', ',', 'do', 'you', 'mean', 'avignon', '?'], tags=[3]), TaggedDocument(words=['yeah', 'bouldering', 'is', 'just', 'like', 'climbing', 'except', 'without', 'the', 'ropes', 'and', 'harnesses', ',', 'so', 'you', 'don', '’', 't', 'go', 'nearly', 'as', 'high'], tags=[4])]\n"
     ]
    }
   ],
   "source": [
    "print(tagged_data[0:5])"
   ]
  },
  {
   "cell_type": "code",
   "execution_count": 85,
   "metadata": {},
   "outputs": [],
   "source": [
    "max_epochs = 100\n",
    "vec_size = 100\n",
    "alpha = 0.025"
   ]
  },
  {
   "cell_type": "code",
   "execution_count": 86,
   "metadata": {},
   "outputs": [],
   "source": [
    "model = Doc2Vec(vector_size=vec_size,\n",
    "                alpha=alpha, \n",
    "                min_alpha=0.00025,\n",
    "                min_count=1,\n",
    "                dm =1)"
   ]
  },
  {
   "cell_type": "code",
   "execution_count": 87,
   "metadata": {},
   "outputs": [],
   "source": [
    "model.build_vocab(tagged_data)"
   ]
  },
  {
   "cell_type": "code",
   "execution_count": 88,
   "metadata": {},
   "outputs": [
    {
     "name": "stdout",
     "output_type": "stream",
     "text": [
      "iteration 0\n",
      "iteration 1\n",
      "iteration 2\n",
      "iteration 3\n",
      "iteration 4\n",
      "iteration 5\n",
      "iteration 6\n",
      "iteration 7\n",
      "iteration 8\n",
      "iteration 9\n",
      "iteration 10\n",
      "iteration 11\n",
      "iteration 12\n",
      "iteration 13\n",
      "iteration 14\n",
      "iteration 15\n",
      "iteration 16\n",
      "iteration 17\n",
      "iteration 18\n",
      "iteration 19\n",
      "iteration 20\n",
      "iteration 21\n",
      "iteration 22\n",
      "iteration 23\n",
      "iteration 24\n",
      "iteration 25\n",
      "iteration 26\n",
      "iteration 27\n",
      "iteration 28\n",
      "iteration 29\n",
      "iteration 30\n",
      "iteration 31\n",
      "iteration 32\n",
      "iteration 33\n",
      "iteration 34\n",
      "iteration 35\n",
      "iteration 36\n",
      "iteration 37\n",
      "iteration 38\n",
      "iteration 39\n",
      "iteration 40\n",
      "iteration 41\n",
      "iteration 42\n",
      "iteration 43\n",
      "iteration 44\n",
      "iteration 45\n",
      "iteration 46\n",
      "iteration 47\n",
      "iteration 48\n",
      "iteration 49\n",
      "iteration 50\n",
      "iteration 51\n",
      "iteration 52\n",
      "iteration 53\n",
      "iteration 54\n",
      "iteration 55\n",
      "iteration 56\n",
      "iteration 57\n",
      "iteration 58\n",
      "iteration 59\n",
      "iteration 60\n",
      "iteration 61\n",
      "iteration 62\n",
      "iteration 63\n",
      "iteration 64\n",
      "iteration 65\n",
      "iteration 66\n",
      "iteration 67\n",
      "iteration 68\n",
      "iteration 69\n",
      "iteration 70\n",
      "iteration 71\n",
      "iteration 72\n",
      "iteration 73\n",
      "iteration 74\n",
      "iteration 75\n",
      "iteration 76\n",
      "iteration 77\n",
      "iteration 78\n",
      "iteration 79\n",
      "iteration 80\n",
      "iteration 81\n",
      "iteration 82\n",
      "iteration 83\n",
      "iteration 84\n",
      "iteration 85\n",
      "iteration 86\n",
      "iteration 87\n",
      "iteration 88\n",
      "iteration 89\n",
      "iteration 90\n",
      "iteration 91\n",
      "iteration 92\n",
      "iteration 93\n",
      "iteration 94\n",
      "iteration 95\n",
      "iteration 96\n",
      "iteration 97\n",
      "iteration 98\n",
      "iteration 99\n",
      "Model Saved\n"
     ]
    }
   ],
   "source": [
    "for epoch in range(max_epochs):\n",
    "    print('iteration {0}'.format(epoch))\n",
    "    model.train(tagged_data,\n",
    "                total_examples=model.corpus_count,\n",
    "                epochs=model.epochs)\n",
    "    # decrease the learning rate\n",
    "    model.alpha -= 0.0002\n",
    "    # fix the learning rate, no decay\n",
    "    model.min_alpha = model.alpha\n",
    "\n",
    "model.save(\"doc2vec.model\")\n",
    "print(\"Model Saved\")"
   ]
  },
  {
   "cell_type": "code",
   "execution_count": 55,
   "metadata": {},
   "outputs": [],
   "source": [
    "#model= Doc2Vec.load(\"doc2vec.model\")"
   ]
  },
  {
   "cell_type": "code",
   "execution_count": 140,
   "metadata": {},
   "outputs": [
    {
     "name": "stdout",
     "output_type": "stream",
     "text": [
      "3280\n",
      "Miss you\n",
      "I miss you too x\n"
     ]
    }
   ],
   "source": [
    "test_data = \"I miss you\"\n",
    "test_data = word_tokenize(test_data.lower())\n",
    "test_data = [word for word in test_data if word not in stop_words]\n",
    "test_vector = model.infer_vector(test_data, epochs=1000)\n",
    "similar_doc = model.docvecs.most_similar([test_vector])[0][0]\n",
    "print(similar_doc)\n",
    "print(me_chat[similar_doc])\n",
    "print(friend_chat[similar_doc])"
   ]
  }
 ],
 "metadata": {
  "kernelspec": {
   "display_name": "Python 3",
   "language": "python",
   "name": "python3"
  },
  "language_info": {
   "codemirror_mode": {
    "name": "ipython",
    "version": 3
   },
   "file_extension": ".py",
   "mimetype": "text/x-python",
   "name": "python",
   "nbconvert_exporter": "python",
   "pygments_lexer": "ipython3",
   "version": "3.7.6"
  }
 },
 "nbformat": 4,
 "nbformat_minor": 4
}
