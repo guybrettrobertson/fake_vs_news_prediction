{
 "cells": [
  {
   "cell_type": "markdown",
   "metadata": {},
   "source": [
    "# Audio data classification"
   ]
  },
  {
   "cell_type": "markdown",
   "metadata": {},
   "source": [
    "### Import packages"
   ]
  },
  {
   "cell_type": "code",
   "execution_count": 3,
   "metadata": {},
   "outputs": [],
   "source": [
    "import pandas as pd"
   ]
  },
  {
   "cell_type": "markdown",
   "metadata": {},
   "source": [
    "## 01 Prepare dataset"
   ]
  },
  {
   "cell_type": "code",
   "execution_count": 5,
   "metadata": {},
   "outputs": [
    {
     "name": "stdout",
     "output_type": "stream",
     "text": [
      "   track_id  acousticness  danceability    energy  instrumentalness  liveness  \\\n",
      "0         2      0.416675      0.675894  0.634476          0.010628  0.177647   \n",
      "1         3      0.374408      0.528643  0.817461          0.001851  0.105880   \n",
      "2       341      0.977282      0.468808  0.134975          0.687700  0.105381   \n",
      "3     46204      0.953349      0.498525  0.552503          0.924391  0.684914   \n",
      "4     46205      0.613229      0.500320  0.487992          0.936811  0.637750   \n",
      "\n",
      "   speechiness    tempo   valence genre_top  \n",
      "0     0.159310  165.922  0.576661   Hip-Hop  \n",
      "1     0.461818  126.957  0.269240   Hip-Hop  \n",
      "2     0.073124  119.646  0.430707      Rock  \n",
      "3     0.028885   78.958  0.430448      Rock  \n",
      "4     0.030327  112.667  0.824749      Rock  \n",
      "4802\n"
     ]
    }
   ],
   "source": [
    "# Read in track metadata with genre labels\n",
    "tracks = pd.read_csv('fma-rock-vs-hiphop.csv')\n",
    "\n",
    "# Read in track metrics with the features\n",
    "echonest_metrics = pd.read_json('echonest-metrics.json', precise_float=True)\n",
    "\n",
    "# Merge the relevant columns of tracks and echonest_metrics\n",
    "echo_tracks = echonest_metrics.merge(tracks[['track_id', 'genre_top']], on='track_id')\n",
    "\n",
    "# Inspect the resultant dataframe\n",
    "print(echo_tracks.head())"
   ]
  },
  {
   "cell_type": "code",
   "execution_count": 6,
   "metadata": {},
   "outputs": [
    {
     "name": "stdout",
     "output_type": "stream",
     "text": [
      "4802\n"
     ]
    }
   ],
   "source": [
    "print(len(echo_tracks))"
   ]
  },
  {
   "cell_type": "code",
   "execution_count": null,
   "metadata": {},
   "outputs": [],
   "source": []
  }
 ],
 "metadata": {
  "kernelspec": {
   "display_name": "Python 3",
   "language": "python",
   "name": "python3"
  },
  "language_info": {
   "codemirror_mode": {
    "name": "ipython",
    "version": 3
   },
   "file_extension": ".py",
   "mimetype": "text/x-python",
   "name": "python",
   "nbconvert_exporter": "python",
   "pygments_lexer": "ipython3",
   "version": "3.7.6"
  }
 },
 "nbformat": 4,
 "nbformat_minor": 4
}
