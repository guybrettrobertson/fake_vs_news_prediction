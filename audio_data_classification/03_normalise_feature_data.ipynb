{
 "cells": [
  {
   "cell_type": "markdown",
   "metadata": {},
   "source": [
    "# Audio data classification"
   ]
  },
  {
   "cell_type": "markdown",
   "metadata": {},
   "source": [
    "## Run prior notebooks\n",
    "\n",
    "%% capture hides the output of the prior notbooks."
   ]
  },
  {
   "cell_type": "code",
   "execution_count": 1,
   "metadata": {},
   "outputs": [],
   "source": [
    "%%capture\n",
    "%run 02_investigate_correlations.ipynb"
   ]
  },
  {
   "cell_type": "markdown",
   "metadata": {},
   "source": [
    "## 03 Normalise feature data"
   ]
  },
  {
   "cell_type": "code",
   "execution_count": 2,
   "metadata": {},
   "outputs": [],
   "source": [
    "# Define our features \n",
    "features = spotify.drop(['genre_top', 'track_id'], axis=1)\n",
    "\n",
    "# Define our labels\n",
    "labels = spotify['genre_top']\n",
    "\n",
    "# Import necessary package\n",
    "from sklearn.preprocessing import StandardScaler\n",
    "\n",
    "# Scale the features and set the values to a new variable\n",
    "scaler = StandardScaler()\n",
    "scaled_train_features = scaler.fit_transform(features)"
   ]
  },
  {
   "cell_type": "markdown",
   "metadata": {},
   "source": [
    "Show the first few rows of the newly normalised feature data."
   ]
  },
  {
   "cell_type": "code",
   "execution_count": 3,
   "metadata": {},
   "outputs": [
    {
     "name": "stdout",
     "output_type": "stream",
     "text": [
      "First few rows of normalised feature data:\n",
      "[[-0.19121034  1.30442004  0.03831594 -1.57649422 -0.06875487  0.37303429\n",
      "   1.15397908  0.46228696]\n",
      " [-0.30603598  0.50188641  0.78817624 -1.59980943 -0.54546309  2.44615517\n",
      "   0.00791367 -0.69081137]\n",
      " [ 1.33175726  0.17577737 -2.00860733  0.2220854  -0.54877906 -0.21760802\n",
      "  -0.2071225  -0.08516731]\n",
      " [ 1.26674186  0.33773737 -0.29760583  0.85083423  3.30076086 -0.52078608\n",
      "  -1.40386597 -0.08613905]\n",
      " [ 0.3427554   0.34752205 -0.56196579  0.88382763  2.98747501 -0.51090054\n",
      "  -0.41239365  1.39283633]]\n"
     ]
    }
   ],
   "source": [
    "print('First few rows of normalised feature data:')\n",
    "print(scaled_train_features[0:5])"
   ]
  }
 ],
 "metadata": {
  "kernelspec": {
   "display_name": "Python 3",
   "language": "python",
   "name": "python3"
  },
  "language_info": {
   "codemirror_mode": {
    "name": "ipython",
    "version": 3
   },
   "file_extension": ".py",
   "mimetype": "text/x-python",
   "name": "python",
   "nbconvert_exporter": "python",
   "pygments_lexer": "ipython3",
   "version": "3.7.6"
  }
 },
 "nbformat": 4,
 "nbformat_minor": 4
}
