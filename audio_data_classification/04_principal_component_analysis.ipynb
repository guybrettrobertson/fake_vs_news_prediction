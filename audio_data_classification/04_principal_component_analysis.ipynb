{
 "cells": [
  {
   "cell_type": "markdown",
   "metadata": {},
   "source": [
    "# Audio data classification"
   ]
  },
  {
   "cell_type": "markdown",
   "metadata": {},
   "source": [
    "## Run prior notebooks"
   ]
  },
  {
   "cell_type": "code",
   "execution_count": 2,
   "metadata": {},
   "outputs": [
    {
     "name": "stdout",
     "output_type": "stream",
     "text": [
      "First few rows\n",
      "   track_id  acousticness  danceability    energy  instrumentalness  liveness  \\\n",
      "0         2      0.416675      0.675894  0.634476          0.010628  0.177647   \n",
      "1         3      0.374408      0.528643  0.817461          0.001851  0.105880   \n",
      "2       341      0.977282      0.468808  0.134975          0.687700  0.105381   \n",
      "3     46204      0.953349      0.498525  0.552503          0.924391  0.684914   \n",
      "4     46205      0.613229      0.500320  0.487992          0.936811  0.637750   \n",
      "\n",
      "   speechiness    tempo   valence genre_top  \n",
      "0     0.159310  165.922  0.576661   Hip-Hop  \n",
      "1     0.461818  126.957  0.269240   Hip-Hop  \n",
      "2     0.073124  119.646  0.430707      Rock  \n",
      "3     0.028885   78.958  0.430448      Rock  \n",
      "4     0.030327  112.667  0.824749      Rock  \n",
      "Features summary statistics\n",
      "            track_id  acousticness  danceability       energy  \\\n",
      "count    4802.000000  4.802000e+03   4802.000000  4802.000000   \n",
      "mean    30164.871720  4.870600e-01      0.436556     0.625126   \n",
      "std     28592.013796  3.681396e-01      0.183502     0.244051   \n",
      "min         2.000000  9.491000e-07      0.051307     0.000279   \n",
      "25%      7494.250000  8.351236e-02      0.296047     0.450757   \n",
      "50%     20723.500000  5.156888e-01      0.419447     0.648374   \n",
      "75%     44240.750000  8.555765e-01      0.565339     0.837016   \n",
      "max    124722.000000  9.957965e-01      0.961871     0.999768   \n",
      "\n",
      "       instrumentalness     liveness  speechiness        tempo      valence  \n",
      "count       4802.000000  4802.000000  4802.000000  4802.000000  4802.000000  \n",
      "mean           0.604096     0.187997     0.104877   126.687944     0.453413  \n",
      "std            0.376487     0.150562     0.145934    34.002473     0.266632  \n",
      "min            0.000000     0.025297     0.023234    29.093000     0.014392  \n",
      "25%            0.164972     0.104052     0.036897    98.000750     0.224617  \n",
      "50%            0.808752     0.123080     0.049594   124.625500     0.446240  \n",
      "75%            0.915472     0.215151     0.088290   151.450000     0.666914  \n",
      "max            0.993134     0.971392     0.966177   250.059000     0.983649  \n",
      "Null or missing values\n",
      "track_id            0\n",
      "acousticness        0\n",
      "danceability        0\n",
      "energy              0\n",
      "instrumentalness    0\n",
      "liveness            0\n",
      "speechiness         0\n",
      "tempo               0\n",
      "valence             0\n",
      "genre_top           0\n",
      "dtype: int64\n",
      "Print first few rows of normalised feature data:\n",
      "[[-0.19121034  1.30442004  0.03831594 -1.57649422 -0.06875487  0.37303429\n",
      "   1.15397908  0.46228696]\n",
      " [-0.30603598  0.50188641  0.78817624 -1.59980943 -0.54546309  2.44615517\n",
      "   0.00791367 -0.69081137]\n",
      " [ 1.33175726  0.17577737 -2.00860733  0.2220854  -0.54877906 -0.21760802\n",
      "  -0.2071225  -0.08516731]\n",
      " [ 1.26674186  0.33773737 -0.29760583  0.85083423  3.30076086 -0.52078608\n",
      "  -1.40386597 -0.08613905]\n",
      " [ 0.3427554   0.34752205 -0.56196579  0.88382763  2.98747501 -0.51090054\n",
      "  -0.41239365  1.39283633]]\n"
     ]
    }
   ],
   "source": [
    "%run 03_normalise_feature_data.ipynb"
   ]
  },
  {
   "cell_type": "markdown",
   "metadata": {},
   "source": [
    "## 04 Principal Component Analysis\n",
    "\n",
    "We implement PCA on the normalised data in order to find which principal components are the most important, and which can be discarded. It will be helpful to discard the unimportant principal components in order to reduce the dimensionality of the problem."
   ]
  },
  {
   "cell_type": "code",
   "execution_count": 4,
   "metadata": {},
   "outputs": [
    {
     "data": {
      "image/png": "[encoded data removed]",
      "text/plain": [
       "<Figure size 432x288 with 1 Axes>"
      ]
     },
     "metadata": {
      "needs_background": "light"
     },
     "output_type": "display_data"
    }
   ],
   "source": [
    "# This is just to make plots appear in the notebook\n",
    "%matplotlib inline\n",
    "\n",
    "# Import our plotting module, and PCA class\n",
    "import matplotlib.pyplot as plt\n",
    "from sklearn.decomposition import PCA\n",
    "\n",
    "# Get our explained variance ratios from PCA using all features\n",
    "pca = PCA()\n",
    "pca.fit(scaled_train_features)\n",
    "exp_variance = pca.explained_variance_ratio_\n",
    "\n",
    "# Plot the explained variance using a barplot\n",
    "fig, ax = plt.subplots()\n",
    "ax.bar(range(pca.n_components_), exp_variance)\n",
    "ax.set_xlabel('Principal Component #')\n",
    "ax.set_ylabel('Explained variance ratio')\n",
    "plt.title('Scree plot')\n",
    "plt.show()"
   ]
  }
 ],
 "metadata": {
  "kernelspec": {
   "display_name": "Python 3",
   "language": "python",
   "name": "python3"
  },
  "language_info": {
   "codemirror_mode": {
    "name": "ipython",
    "version": 3
   },
   "file_extension": ".py",
   "mimetype": "text/x-python",
   "name": "python",
   "nbconvert_exporter": "python",
   "pygments_lexer": "ipython3",
   "version": "3.7.6"
  }
 },
 "nbformat": 4,
 "nbformat_minor": 4
}
