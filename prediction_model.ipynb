{
 "cells": [
  {
   "cell_type": "markdown",
   "metadata": {},
   "source": [
    "# Real vs fake news prediction model"
   ]
  },
  {
   "cell_type": "markdown",
   "metadata": {},
   "source": [
    "## Import packages"
   ]
  },
  {
   "cell_type": "code",
   "execution_count": 1,
   "metadata": {},
   "outputs": [],
   "source": [
    "import pandas as pd\n",
    "import numpy as np\n",
    "import matplotlib.pyplot as plt\n",
    "import seaborn as sns\n",
    "from sklearn.preprocessing import StandardScaler\n",
    "from sklearn.model_selection import train_test_split, cross_val_score, cross_val_predict\n",
    "from sklearn.metrics import confusion_matrix, accuracy_score\n",
    "import time\n",
    "from sklearn.neighbors import KNeighborsClassifier\n",
    "from sklearn import svm, tree\n",
    "from sklearn.linear_model import SGDClassifier, LogisticRegression"
   ]
  },
  {
   "cell_type": "markdown",
   "metadata": {},
   "source": [
    "## Read in datasets"
   ]
  },
  {
   "cell_type": "code",
   "execution_count": 2,
   "metadata": {},
   "outputs": [],
   "source": [
    "real_df = pd.read_csv('~/documents/Data/Fake vs Real News/real_eng.csv', index_col = 0)\n",
    "fake_df = pd.read_csv('~/documents/Data/Fake vs Real News/fake_eng.csv', index_col = 0)"
   ]
  },
  {
   "cell_type": "markdown",
   "metadata": {},
   "source": [
    "## Transform data to correct format for sklearn modelling"
   ]
  },
  {
   "cell_type": "markdown",
   "metadata": {},
   "source": [
    "#### Add a column to specify whether an article is real or fake"
   ]
  },
  {
   "cell_type": "code",
   "execution_count": 3,
   "metadata": {},
   "outputs": [],
   "source": [
    "real_df['real_or_fake'] = 'real'\n",
    "fake_df['real_or_fake'] = 'fake'"
   ]
  },
  {
   "cell_type": "markdown",
   "metadata": {},
   "source": [
    "#### Concatenate the two articles into a single dataframe"
   ]
  },
  {
   "cell_type": "code",
   "execution_count": 4,
   "metadata": {},
   "outputs": [],
   "source": [
    "news_df = pd.concat([real_df, fake_df])"
   ]
  },
  {
   "cell_type": "markdown",
   "metadata": {},
   "source": [
    "#### Shuffle the rows of the dataframe"
   ]
  },
  {
   "cell_type": "code",
   "execution_count": 5,
   "metadata": {},
   "outputs": [],
   "source": [
    "news_df = news_df.sample(frac=1)"
   ]
  },
  {
   "cell_type": "code",
   "execution_count": 6,
   "metadata": {},
   "outputs": [
    {
     "data": {
      "text/html": [
       "<div>\n",
       "<style scoped>\n",
       "    .dataframe tbody tr th:only-of-type {\n",
       "        vertical-align: middle;\n",
       "    }\n",
       "\n",
       "    .dataframe tbody tr th {\n",
       "        vertical-align: top;\n",
       "    }\n",
       "\n",
       "    .dataframe thead th {\n",
       "        text-align: right;\n",
       "    }\n",
       "</style>\n",
       "<table border=\"1\" class=\"dataframe\">\n",
       "  <thead>\n",
       "    <tr style=\"text-align: right;\">\n",
       "      <th></th>\n",
       "      <th>title</th>\n",
       "      <th>text</th>\n",
       "      <th>length_title</th>\n",
       "      <th>proportion_capitals_title</th>\n",
       "      <th>real_or_fake</th>\n",
       "    </tr>\n",
       "  </thead>\n",
       "  <tbody>\n",
       "    <tr>\n",
       "      <th>16367</th>\n",
       "      <td>Venezuelan anti-Maduro governor sacked, opposi...</td>\n",
       "      <td>MARACAIBO/CARACAS, Venezuela (Reuters) - The n...</td>\n",
       "      <td>59</td>\n",
       "      <td>0.033898</td>\n",
       "      <td>real</td>\n",
       "    </tr>\n",
       "    <tr>\n",
       "      <th>17265</th>\n",
       "      <td>New Jakarta governor faces backlash for racial...</td>\n",
       "      <td>JAKARTA (Reuters) - The new governor of Indone...</td>\n",
       "      <td>62</td>\n",
       "      <td>0.032258</td>\n",
       "      <td>real</td>\n",
       "    </tr>\n",
       "    <tr>\n",
       "      <th>4246</th>\n",
       "      <td>New York police arrest 25 at immigration prote...</td>\n",
       "      <td>NEW YORK (Reuters) - New York police on Thursd...</td>\n",
       "      <td>63</td>\n",
       "      <td>0.063492</td>\n",
       "      <td>real</td>\n",
       "    </tr>\n",
       "    <tr>\n",
       "      <th>5203</th>\n",
       "      <td>Tea Party Candidate Wants To Be Elected So Ba...</td>\n",
       "      <td>Art Halvorson, a Tea Partier with a major agen...</td>\n",
       "      <td>97</td>\n",
       "      <td>0.185567</td>\n",
       "      <td>fake</td>\n",
       "    </tr>\n",
       "    <tr>\n",
       "      <th>8233</th>\n",
       "      <td>Obama says Trump unfit for presidency, has 'ou...</td>\n",
       "      <td>VIENTIANE (Reuters) - U.S. President Barack Ob...</td>\n",
       "      <td>65</td>\n",
       "      <td>0.030769</td>\n",
       "      <td>real</td>\n",
       "    </tr>\n",
       "  </tbody>\n",
       "</table>\n",
       "</div>"
      ],
      "text/plain": [
       "                                                   title  \\\n",
       "16367  Venezuelan anti-Maduro governor sacked, opposi...   \n",
       "17265  New Jakarta governor faces backlash for racial...   \n",
       "4246   New York police arrest 25 at immigration prote...   \n",
       "5203    Tea Party Candidate Wants To Be Elected So Ba...   \n",
       "8233   Obama says Trump unfit for presidency, has 'ou...   \n",
       "\n",
       "                                                    text  length_title  \\\n",
       "16367  MARACAIBO/CARACAS, Venezuela (Reuters) - The n...            59   \n",
       "17265  JAKARTA (Reuters) - The new governor of Indone...            62   \n",
       "4246   NEW YORK (Reuters) - New York police on Thursd...            63   \n",
       "5203   Art Halvorson, a Tea Partier with a major agen...            97   \n",
       "8233   VIENTIANE (Reuters) - U.S. President Barack Ob...            65   \n",
       "\n",
       "       proportion_capitals_title real_or_fake  \n",
       "16367                   0.033898         real  \n",
       "17265                   0.032258         real  \n",
       "4246                    0.063492         real  \n",
       "5203                    0.185567         fake  \n",
       "8233                    0.030769         real  "
      ]
     },
     "execution_count": 6,
     "metadata": {},
     "output_type": "execute_result"
    }
   ],
   "source": [
    "news_df.sample(frac=1).head()"
   ]
  },
  {
   "cell_type": "markdown",
   "metadata": {},
   "source": [
    "#### Feature and target columns"
   ]
  },
  {
   "cell_type": "code",
   "execution_count": 7,
   "metadata": {},
   "outputs": [],
   "source": [
    "X = news_df[['length_title', 'proportion_capitals_title']]\n",
    "y = news_df['real_or_fake']"
   ]
  },
  {
   "cell_type": "markdown",
   "metadata": {},
   "source": [
    "#### Standardise the feature columns"
   ]
  },
  {
   "cell_type": "code",
   "execution_count": 8,
   "metadata": {},
   "outputs": [],
   "source": [
    "scaler = StandardScaler()\n",
    "scaler.fit(X)\n",
    "X = scaler.transform(X)"
   ]
  },
  {
   "cell_type": "markdown",
   "metadata": {},
   "source": [
    "#### Split the data into a training set and a testing set"
   ]
  },
  {
   "cell_type": "code",
   "execution_count": 9,
   "metadata": {},
   "outputs": [],
   "source": [
    "X_train, X_test, y_train, y_test = train_test_split(X, y, test_size = 0.1, random_state = 42)"
   ]
  },
  {
   "cell_type": "markdown",
   "metadata": {},
   "source": [
    "## Logistic Regression Classifier"
   ]
  },
  {
   "cell_type": "markdown",
   "metadata": {},
   "source": [
    "#### Fit the model to the dataset"
   ]
  },
  {
   "cell_type": "code",
   "execution_count": 10,
   "metadata": {},
   "outputs": [],
   "source": [
    "logreg = LogisticRegression()\n",
    "logreg.fit(X_train, y_train)\n",
    "y_pred = logreg.predict(X_test)"
   ]
  },
  {
   "cell_type": "markdown",
   "metadata": {},
   "source": [
    "#### Model accuracy"
   ]
  },
  {
   "cell_type": "code",
   "execution_count": 11,
   "metadata": {},
   "outputs": [
    {
     "name": "stdout",
     "output_type": "stream",
     "text": [
      "0.9874712349782664\n"
     ]
    }
   ],
   "source": [
    "score = accuracy_score(y_test, y_pred)\n",
    "print(score)"
   ]
  },
  {
   "cell_type": "markdown",
   "metadata": {},
   "source": [
    "#### Confusion matrix"
   ]
  },
  {
   "cell_type": "code",
   "execution_count": 12,
   "metadata": {},
   "outputs": [
    {
     "name": "stdout",
     "output_type": "stream",
     "text": [
      "[[1796   33]\n",
      " [  16 2066]]\n"
     ]
    }
   ],
   "source": [
    "conf_mat = confusion_matrix(y_test, y_pred)\n",
    "print(conf_mat)"
   ]
  },
  {
   "cell_type": "markdown",
   "metadata": {},
   "source": [
    "## K-Nearest Neighbours Classifier"
   ]
  },
  {
   "cell_type": "markdown",
   "metadata": {},
   "source": [
    "#### Set up the hyperparameter space for tuning"
   ]
  },
  {
   "cell_type": "code",
   "execution_count": 13,
   "metadata": {},
   "outputs": [],
   "source": [
    "k_space = np.arange(2, 20, 2)"
   ]
  },
  {
   "cell_type": "markdown",
   "metadata": {},
   "source": [
    "#### Initialise the cross-validation scores array"
   ]
  },
  {
   "cell_type": "code",
   "execution_count": 14,
   "metadata": {},
   "outputs": [],
   "source": [
    "cv_scores = []"
   ]
  },
  {
   "cell_type": "markdown",
   "metadata": {},
   "source": [
    "#### Fit the model to the dataset"
   ]
  },
  {
   "cell_type": "code",
   "execution_count": 15,
   "metadata": {},
   "outputs": [
    {
     "name": "stdout",
     "output_type": "stream",
     "text": [
      "10.0 seconds\n"
     ]
    }
   ],
   "source": [
    "tic = time.perf_counter()\n",
    "for k in k_space:\n",
    "    knn = KNeighborsClassifier(n_neighbors = k)\n",
    "    cv_score = np.mean(cross_val_score(knn, X_train, y_train, cv = 5))\n",
    "    cv_scores.append(cv_score)\n",
    "toc = time.perf_counter()\n",
    "print(round(toc - tic, 0), 'seconds')"
   ]
  },
  {
   "cell_type": "markdown",
   "metadata": {},
   "source": [
    "#### Model accuracy"
   ]
  },
  {
   "cell_type": "code",
   "execution_count": 16,
   "metadata": {},
   "outputs": [
    {
     "name": "stdout",
     "output_type": "stream",
     "text": [
      "    k  Cross-validation scores\n",
      "0   2                 0.981417\n",
      "1   4                 0.983804\n",
      "2   6                 0.984230\n",
      "3   8                 0.984656\n",
      "4  10                 0.984571\n",
      "5  12                 0.985025\n",
      "6  14                 0.985196\n",
      "7  16                 0.985423\n",
      "8  18                 0.985253\n"
     ]
    },
    {
     "data": {
      "image/png": "[encoded data removed]",
      "text/plain": [
       "<Figure size 432x288 with 1 Axes>"
      ]
     },
     "metadata": {
      "needs_background": "light"
     },
     "output_type": "display_data"
    }
   ],
   "source": [
    "print(pd.DataFrame({'k': k_space,\n",
    "                   'Cross-validation scores': cv_scores}))\n",
    "\n",
    "plt.plot(k_space, cv_scores, linewidth = 1)\n",
    "plt.suptitle('K-nearest neighbors classifier model on digits dataset', size = 14)\n",
    "plt.title('Cross-validation score against number of neighbours')\n",
    "plt.xlabel('Number of neighbours')\n",
    "plt.ylabel('Cross-validation score')\n",
    "plt.xticks(k_space)\n",
    "plt.show()"
   ]
  },
  {
   "cell_type": "markdown",
   "metadata": {},
   "source": [
    "#### Best model"
   ]
  },
  {
   "cell_type": "code",
   "execution_count": 44,
   "metadata": {},
   "outputs": [],
   "source": [
    "knn = KNeighborsClassifier(n_neighbors = 16)\n",
    "knn.fit(X_train, y_train)\n",
    "y_pred = knn.predict(X_test)"
   ]
  },
  {
   "cell_type": "markdown",
   "metadata": {},
   "source": [
    "#### Best model score"
   ]
  },
  {
   "cell_type": "code",
   "execution_count": 45,
   "metadata": {},
   "outputs": [
    {
     "name": "stdout",
     "output_type": "stream",
     "text": [
      "0.9861927895678855\n"
     ]
    }
   ],
   "source": [
    "score = accuracy_score(y_test, y_pred)\n",
    "print(score)"
   ]
  },
  {
   "cell_type": "markdown",
   "metadata": {},
   "source": [
    "#### Best model confusion matrix"
   ]
  },
  {
   "cell_type": "code",
   "execution_count": 46,
   "metadata": {
    "scrolled": false
   },
   "outputs": [
    {
     "name": "stdout",
     "output_type": "stream",
     "text": [
      "[[1805   24]\n",
      " [  30 2052]]\n"
     ]
    }
   ],
   "source": [
    "conf_mat = confusion_matrix(y_test, y_pred)\n",
    "print(conf_mat)"
   ]
  },
  {
   "cell_type": "markdown",
   "metadata": {},
   "source": [
    "## Support vector machine classifier"
   ]
  },
  {
   "cell_type": "markdown",
   "metadata": {},
   "source": [
    "#### Set up the hyperparameter space for tuning"
   ]
  },
  {
   "cell_type": "code",
   "execution_count": 51,
   "metadata": {},
   "outputs": [],
   "source": [
    "C_space = np.arange(0.01, 0.05, 0.005)"
   ]
  },
  {
   "cell_type": "markdown",
   "metadata": {},
   "source": [
    "#### Initialise the cross-validation scores array"
   ]
  },
  {
   "cell_type": "code",
   "execution_count": 52,
   "metadata": {},
   "outputs": [],
   "source": [
    "cv_scores = []"
   ]
  },
  {
   "cell_type": "markdown",
   "metadata": {},
   "source": [
    "#### Fit the model to the dataset"
   ]
  },
  {
   "cell_type": "code",
   "execution_count": 53,
   "metadata": {},
   "outputs": [
    {
     "name": "stdout",
     "output_type": "stream",
     "text": [
      "2.0 seconds\n"
     ]
    }
   ],
   "source": [
    "tic = time.perf_counter()\n",
    "for C in C_space:\n",
    "    svc = svm.LinearSVC(C = C, max_iter = 2000)\n",
    "    cv_score = np.mean(cross_val_score(svc, X_train, y_train, cv = 5))\n",
    "    cv_scores.append(cv_score)\n",
    "toc = time.perf_counter()\n",
    "print(round(toc - tic, 0), 'seconds')"
   ]
  },
  {
   "cell_type": "markdown",
   "metadata": {},
   "source": [
    "#### Model accuracy"
   ]
  },
  {
   "cell_type": "code",
   "execution_count": 54,
   "metadata": {},
   "outputs": [
    {
     "name": "stdout",
     "output_type": "stream",
     "text": [
      "       C  Cross-validation scores\n",
      "0  0.010                 0.985224\n",
      "1  0.015                 0.985338\n",
      "2  0.020                 0.985395\n",
      "3  0.025                 0.985452\n",
      "4  0.030                 0.985480\n",
      "5  0.035                 0.985480\n",
      "6  0.040                 0.985480\n",
      "7  0.045                 0.985452\n"
     ]
    },
    {
     "data": {
      "image/png": "[encoded data removed]",
      "text/plain": [
       "<Figure size 432x288 with 1 Axes>"
      ]
     },
     "metadata": {
      "needs_background": "light"
     },
     "output_type": "display_data"
    }
   ],
   "source": [
    "print(pd.DataFrame({'C': C_space,\n",
    "                   'Cross-validation scores': cv_scores}))\n",
    "\n",
    "plt.plot(C_space, cv_scores, linewidth = 1)\n",
    "plt.suptitle('Support vector machine classifier model on digits dataset', size = 14)\n",
    "plt.title('Cross-validation score against C parameter')\n",
    "plt.xlabel('C parameter')\n",
    "plt.ylabel('Cross-validation score')\n",
    "plt.show()"
   ]
  },
  {
   "cell_type": "markdown",
   "metadata": {},
   "source": [
    "#### Best model"
   ]
  },
  {
   "cell_type": "code",
   "execution_count": 55,
   "metadata": {},
   "outputs": [],
   "source": [
    "svc = svm.LinearSVC(C = 0.035, max_iter = 2000)\n",
    "svc.fit(X_train, y_train)\n",
    "y_pred = svc.predict(X_test)"
   ]
  },
  {
   "cell_type": "markdown",
   "metadata": {},
   "source": [
    "#### Best model score"
   ]
  },
  {
   "cell_type": "code",
   "execution_count": 56,
   "metadata": {},
   "outputs": [
    {
     "name": "stdout",
     "output_type": "stream",
     "text": [
      "0.986959856814114\n"
     ]
    }
   ],
   "source": [
    "score = accuracy_score(y_test, y_pred)\n",
    "print(score)"
   ]
  },
  {
   "cell_type": "markdown",
   "metadata": {},
   "source": [
    "#### Best model confusion matrix"
   ]
  },
  {
   "cell_type": "code",
   "execution_count": 57,
   "metadata": {
    "scrolled": false
   },
   "outputs": [
    {
     "name": "stdout",
     "output_type": "stream",
     "text": [
      "[[1794   35]\n",
      " [  16 2066]]\n"
     ]
    }
   ],
   "source": [
    "conf_mat = confusion_matrix(y_test, y_pred)\n",
    "print(conf_mat)"
   ]
  },
  {
   "cell_type": "markdown",
   "metadata": {},
   "source": [
    "# Stochastic gradient descent classifier"
   ]
  },
  {
   "cell_type": "markdown",
   "metadata": {},
   "source": [
    "#### Set up the hyperparameter space for tuning"
   ]
  },
  {
   "cell_type": "code",
   "execution_count": 58,
   "metadata": {},
   "outputs": [],
   "source": [
    "alpha_space = np.arange(5e-6, 2e-5, 1e-6)"
   ]
  },
  {
   "cell_type": "markdown",
   "metadata": {},
   "source": [
    "#### Initialise the cross-validation scores array"
   ]
  },
  {
   "cell_type": "code",
   "execution_count": 59,
   "metadata": {},
   "outputs": [],
   "source": [
    "cv_scores = []"
   ]
  },
  {
   "cell_type": "markdown",
   "metadata": {},
   "source": [
    "#### Fit the model to the dataset"
   ]
  },
  {
   "cell_type": "code",
   "execution_count": 60,
   "metadata": {},
   "outputs": [
    {
     "name": "stdout",
     "output_type": "stream",
     "text": [
      "4.0 seconds\n"
     ]
    }
   ],
   "source": [
    "tic = time.perf_counter()\n",
    "for a in alpha_space:\n",
    "    sgdc = SGDClassifier(alpha = a)\n",
    "    cv_score = np.mean(cross_val_score(sgdc, X_train, y_train, cv = 5))\n",
    "    cv_scores.append(cv_score)\n",
    "toc = time.perf_counter()\n",
    "print(round(toc - tic, 0), 'seconds')"
   ]
  },
  {
   "cell_type": "markdown",
   "metadata": {},
   "source": [
    "#### Model accuracy"
   ]
  },
  {
   "cell_type": "code",
   "execution_count": 61,
   "metadata": {},
   "outputs": [
    {
     "name": "stdout",
     "output_type": "stream",
     "text": [
      "       alpha  Cross-validation scores\n",
      "0   0.000005                 0.985452\n",
      "1   0.000006                 0.984230\n",
      "2   0.000007                 0.984003\n",
      "3   0.000008                 0.985253\n",
      "4   0.000009                 0.984826\n",
      "5   0.000010                 0.984656\n",
      "6   0.000011                 0.984684\n",
      "7   0.000012                 0.984002\n",
      "8   0.000013                 0.984827\n",
      "9   0.000014                 0.984457\n",
      "10  0.000015                 0.984571\n",
      "11  0.000016                 0.984059\n",
      "12  0.000017                 0.984514\n",
      "13  0.000018                 0.984315\n",
      "14  0.000019                 0.985679\n",
      "15  0.000020                 0.984741\n"
     ]
    },
    {
     "data": {
      "image/png": "[encoded data removed]",
      "text/plain": [
       "<Figure size 432x288 with 1 Axes>"
      ]
     },
     "metadata": {
      "needs_background": "light"
     },
     "output_type": "display_data"
    }
   ],
   "source": [
    "print(pd.DataFrame({'alpha': alpha_space,\n",
    "                   'Cross-validation scores': cv_scores}))\n",
    "\n",
    "plt.plot(alpha_space, cv_scores, linewidth = 1)\n",
    "plt.suptitle('Stochastic gradient descent classifier on iris dataset', size = 14)\n",
    "plt.title('Cross-validation score against alpha parameter')\n",
    "plt.xlabel('Alpha parameter')\n",
    "plt.ylabel('Cross-validation score')\n",
    "plt.show()"
   ]
  },
  {
   "cell_type": "markdown",
   "metadata": {},
   "source": [
    "#### Best model"
   ]
  },
  {
   "cell_type": "code",
   "execution_count": 31,
   "metadata": {},
   "outputs": [],
   "source": [
    "sgdc = SGDClassifier(alpha = 1.1e-5)\n",
    "sgdc.fit(X_train, y_train)\n",
    "y_pred = sgdc.predict(X_test)"
   ]
  },
  {
   "cell_type": "markdown",
   "metadata": {},
   "source": [
    "#### Best model score"
   ]
  },
  {
   "cell_type": "code",
   "execution_count": 32,
   "metadata": {},
   "outputs": [
    {
     "name": "stdout",
     "output_type": "stream",
     "text": [
      "0.9856814114037331\n"
     ]
    }
   ],
   "source": [
    "score = accuracy_score(y_test, y_pred)\n",
    "print(score)"
   ]
  },
  {
   "cell_type": "markdown",
   "metadata": {},
   "source": [
    "#### Best model confusion matrix"
   ]
  },
  {
   "cell_type": "code",
   "execution_count": 33,
   "metadata": {
    "scrolled": false
   },
   "outputs": [
    {
     "name": "stdout",
     "output_type": "stream",
     "text": [
      "[[1785   44]\n",
      " [  12 2070]]\n"
     ]
    }
   ],
   "source": [
    "conf_mat = confusion_matrix(y_test, y_pred)\n",
    "print(conf_mat)"
   ]
  },
  {
   "cell_type": "markdown",
   "metadata": {},
   "source": [
    "## Decision tree classifier"
   ]
  },
  {
   "cell_type": "markdown",
   "metadata": {},
   "source": [
    "#### Set up the parameter space"
   ]
  },
  {
   "cell_type": "code",
   "execution_count": 34,
   "metadata": {},
   "outputs": [],
   "source": [
    "max_depth_space = np.arange(1, 12, 1)"
   ]
  },
  {
   "cell_type": "markdown",
   "metadata": {},
   "source": [
    "#### Initialise the cross-validation scores array"
   ]
  },
  {
   "cell_type": "code",
   "execution_count": 35,
   "metadata": {},
   "outputs": [],
   "source": [
    "cv_scores = []"
   ]
  },
  {
   "cell_type": "markdown",
   "metadata": {},
   "source": [
    "#### Fit the model to the dataset"
   ]
  },
  {
   "cell_type": "code",
   "execution_count": 36,
   "metadata": {},
   "outputs": [
    {
     "name": "stdout",
     "output_type": "stream",
     "text": [
      "3.0 seconds\n"
     ]
    }
   ],
   "source": [
    "tic = time.perf_counter()\n",
    "for d in max_depth_space:\n",
    "    dec_tree = tree.DecisionTreeClassifier(max_depth = d)\n",
    "    cv_score = np.mean(cross_val_score(dec_tree, X_train, y_train, cv = 5))\n",
    "    cv_scores.append(cv_score)\n",
    "toc = time.perf_counter()\n",
    "print(round(toc - tic, 0), 'seconds')"
   ]
  },
  {
   "cell_type": "markdown",
   "metadata": {},
   "source": [
    "#### Model accuracy"
   ]
  },
  {
   "cell_type": "code",
   "execution_count": 37,
   "metadata": {},
   "outputs": [
    {
     "name": "stdout",
     "output_type": "stream",
     "text": [
      "    max_depth  Cross-validation scores\n",
      "0           1                 0.982411\n",
      "1           2                 0.982411\n",
      "2           3                 0.984855\n",
      "3           4                 0.984770\n",
      "4           5                 0.985167\n",
      "5           6                 0.985167\n",
      "6           7                 0.984969\n",
      "7           8                 0.984684\n",
      "8           9                 0.984542\n",
      "9          10                 0.984088\n",
      "10         11                 0.984059\n"
     ]
    },
    {
     "data": {
      "image/png": "[encoded data removed]",
      "text/plain": [
       "<Figure size 432x288 with 1 Axes>"
      ]
     },
     "metadata": {
      "needs_background": "light"
     },
     "output_type": "display_data"
    }
   ],
   "source": [
    "print(pd.DataFrame({'max_depth': max_depth_space,\n",
    "                   'Cross-validation scores': cv_scores}))\n",
    "\n",
    "plt.plot(max_depth_space, cv_scores, linewidth = 1)\n",
    "plt.suptitle('Decision tree classifier on iris dataset', size = 14)\n",
    "plt.title('Cross-validation score against max depth parameter')\n",
    "plt.xlabel('Max depth parameter')\n",
    "plt.ylabel('Cross-validation score')\n",
    "plt.show()"
   ]
  },
  {
   "cell_type": "markdown",
   "metadata": {},
   "source": [
    "#### Best model"
   ]
  },
  {
   "cell_type": "code",
   "execution_count": 41,
   "metadata": {},
   "outputs": [],
   "source": [
    "dec_tree = tree.DecisionTreeClassifier(max_depth = 5)\n",
    "dec_tree.fit(X_train, y_train)\n",
    "y_pred = dec_tree.predict(X_test)"
   ]
  },
  {
   "cell_type": "markdown",
   "metadata": {},
   "source": [
    "#### Best model score"
   ]
  },
  {
   "cell_type": "code",
   "execution_count": 42,
   "metadata": {},
   "outputs": [
    {
     "name": "stdout",
     "output_type": "stream",
     "text": [
      "0.9864484786499617\n"
     ]
    }
   ],
   "source": [
    "score = accuracy_score(y_test, y_pred)\n",
    "print(score)"
   ]
  },
  {
   "cell_type": "markdown",
   "metadata": {},
   "source": [
    "#### Best model confusion matrix"
   ]
  },
  {
   "cell_type": "code",
   "execution_count": 43,
   "metadata": {
    "scrolled": false
   },
   "outputs": [
    {
     "name": "stdout",
     "output_type": "stream",
     "text": [
      "[[1801   28]\n",
      " [  25 2057]]\n"
     ]
    }
   ],
   "source": [
    "conf_mat = confusion_matrix(y_test, y_pred)\n",
    "print(conf_mat)"
   ]
  }
 ],
 "metadata": {
  "kernelspec": {
   "display_name": "Python 3",
   "language": "python",
   "name": "python3"
  },
  "language_info": {
   "codemirror_mode": {
    "name": "ipython",
    "version": 3
   },
   "file_extension": ".py",
   "mimetype": "text/x-python",
   "name": "python",
   "nbconvert_exporter": "python",
   "pygments_lexer": "ipython3",
   "version": "3.7.6"
  }
 },
 "nbformat": 4,
 "nbformat_minor": 4
}
