{
 "cells": [
  {
   "cell_type": "markdown",
   "metadata": {},
   "source": [
    "# Real vs fake news prediction model"
   ]
  },
  {
   "cell_type": "markdown",
   "metadata": {},
   "source": [
    "## Import packages"
   ]
  },
  {
   "cell_type": "code",
   "execution_count": 63,
   "metadata": {},
   "outputs": [],
   "source": [
    "import pandas as pd\n",
    "import numpy as np\n",
    "import matplotlib.pyplot as plt\n",
    "import seaborn as sns\n",
    "from sklearn.preprocessing import StandardScaler\n",
    "from sklearn.model_selection import train_test_split, cross_val_score, cross_val_predict\n",
    "from sklearn.metrics import confusion_matrix\n",
    "import time\n",
    "from sklearn.neighbors import KNeighborsClassifier\n",
    "from sklearn import svm, tree\n",
    "from sklearn.linear_model import SGDClassifier"
   ]
  },
  {
   "cell_type": "markdown",
   "metadata": {},
   "source": [
    "## Read in datasets"
   ]
  },
  {
   "cell_type": "code",
   "execution_count": 2,
   "metadata": {},
   "outputs": [],
   "source": [
    "real_df = pd.read_csv('~/documents/Data/Fake vs Real News/real_eng.csv', index_col = 0)\n",
    "fake_df = pd.read_csv('~/documents/Data/Fake vs Real News/fake_eng.csv', index_col = 0)"
   ]
  },
  {
   "cell_type": "markdown",
   "metadata": {},
   "source": [
    "## Transform data to correct format for sklearn modelling"
   ]
  },
  {
   "cell_type": "markdown",
   "metadata": {},
   "source": [
    "#### Add a column to specify whether an article is real or fake"
   ]
  },
  {
   "cell_type": "code",
   "execution_count": 3,
   "metadata": {},
   "outputs": [],
   "source": [
    "real_df['real_or_fake'] = 'real'\n",
    "fake_df['real_or_fake'] = 'fake'"
   ]
  },
  {
   "cell_type": "markdown",
   "metadata": {},
   "source": [
    "#### Concatenate the two articles into a single dataframe"
   ]
  },
  {
   "cell_type": "code",
   "execution_count": 4,
   "metadata": {},
   "outputs": [],
   "source": [
    "news_df = pd.concat([real_df, fake_df])"
   ]
  },
  {
   "cell_type": "markdown",
   "metadata": {},
   "source": [
    "#### Shuffle the rows of the dataframe"
   ]
  },
  {
   "cell_type": "code",
   "execution_count": 5,
   "metadata": {},
   "outputs": [],
   "source": [
    "news_df = news_df.sample(frac=1)"
   ]
  },
  {
   "cell_type": "code",
   "execution_count": 6,
   "metadata": {},
   "outputs": [
    {
     "data": {
      "text/html": [
       "<div>\n",
       "<style scoped>\n",
       "    .dataframe tbody tr th:only-of-type {\n",
       "        vertical-align: middle;\n",
       "    }\n",
       "\n",
       "    .dataframe tbody tr th {\n",
       "        vertical-align: top;\n",
       "    }\n",
       "\n",
       "    .dataframe thead th {\n",
       "        text-align: right;\n",
       "    }\n",
       "</style>\n",
       "<table border=\"1\" class=\"dataframe\">\n",
       "  <thead>\n",
       "    <tr style=\"text-align: right;\">\n",
       "      <th></th>\n",
       "      <th>title</th>\n",
       "      <th>text</th>\n",
       "      <th>length_title</th>\n",
       "      <th>proportion_capitals_title</th>\n",
       "      <th>real_or_fake</th>\n",
       "    </tr>\n",
       "  </thead>\n",
       "  <tbody>\n",
       "    <tr>\n",
       "      <th>14895</th>\n",
       "      <td>Nepal scraps $2.5 billion hydropower plant dea...</td>\n",
       "      <td>KATHMANDU (Reuters) - Nepal has scrapped a $2....</td>\n",
       "      <td>68</td>\n",
       "      <td>0.029412</td>\n",
       "      <td>real</td>\n",
       "    </tr>\n",
       "    <tr>\n",
       "      <th>4201</th>\n",
       "      <td>Trump Supporter Threatens Montel Williams So ...</td>\n",
       "      <td>Montel Williams is an outspoken opponent of Do...</td>\n",
       "      <td>86</td>\n",
       "      <td>0.139535</td>\n",
       "      <td>fake</td>\n",
       "    </tr>\n",
       "    <tr>\n",
       "      <th>15861</th>\n",
       "      <td>Manila to focus on terrorism at Southeast Asia...</td>\n",
       "      <td>MANILA (Reuters) - Two weeks ahead of a region...</td>\n",
       "      <td>80</td>\n",
       "      <td>0.037500</td>\n",
       "      <td>real</td>\n",
       "    </tr>\n",
       "    <tr>\n",
       "      <th>512</th>\n",
       "      <td>Trump Told More Than A Thousand Documented Li...</td>\n",
       "      <td>What would you do if someone kept track of eve...</td>\n",
       "      <td>79</td>\n",
       "      <td>0.240506</td>\n",
       "      <td>fake</td>\n",
       "    </tr>\n",
       "    <tr>\n",
       "      <th>12291</th>\n",
       "      <td>LEFTISTS CALL FOR Ivanka Trump Brand Boycott…T...</td>\n",
       "      <td>Unhinged leftists are calling for a boycott of...</td>\n",
       "      <td>84</td>\n",
       "      <td>0.309524</td>\n",
       "      <td>fake</td>\n",
       "    </tr>\n",
       "  </tbody>\n",
       "</table>\n",
       "</div>"
      ],
      "text/plain": [
       "                                                   title  \\\n",
       "14895  Nepal scraps $2.5 billion hydropower plant dea...   \n",
       "4201    Trump Supporter Threatens Montel Williams So ...   \n",
       "15861  Manila to focus on terrorism at Southeast Asia...   \n",
       "512     Trump Told More Than A Thousand Documented Li...   \n",
       "12291  LEFTISTS CALL FOR Ivanka Trump Brand Boycott…T...   \n",
       "\n",
       "                                                    text  length_title  \\\n",
       "14895  KATHMANDU (Reuters) - Nepal has scrapped a $2....            68   \n",
       "4201   Montel Williams is an outspoken opponent of Do...            86   \n",
       "15861  MANILA (Reuters) - Two weeks ahead of a region...            80   \n",
       "512    What would you do if someone kept track of eve...            79   \n",
       "12291  Unhinged leftists are calling for a boycott of...            84   \n",
       "\n",
       "       proportion_capitals_title real_or_fake  \n",
       "14895                   0.029412         real  \n",
       "4201                    0.139535         fake  \n",
       "15861                   0.037500         real  \n",
       "512                     0.240506         fake  \n",
       "12291                   0.309524         fake  "
      ]
     },
     "execution_count": 6,
     "metadata": {},
     "output_type": "execute_result"
    }
   ],
   "source": [
    "news_df.sample(frac=1).head()"
   ]
  },
  {
   "cell_type": "markdown",
   "metadata": {},
   "source": [
    "#### Feature and target columns"
   ]
  },
  {
   "cell_type": "code",
   "execution_count": 8,
   "metadata": {},
   "outputs": [],
   "source": [
    "X = news_df[['length_title', 'proportion_capitals_title']]\n",
    "y = news_df['real_or_fake']"
   ]
  },
  {
   "cell_type": "markdown",
   "metadata": {},
   "source": [
    "#### Standardise the feature columns"
   ]
  },
  {
   "cell_type": "code",
   "execution_count": 9,
   "metadata": {},
   "outputs": [],
   "source": [
    "scaler = StandardScaler()\n",
    "scaler.fit(X)\n",
    "X = scaler.transform(X)"
   ]
  },
  {
   "cell_type": "markdown",
   "metadata": {},
   "source": [
    "#### Split the data into a training set and a testing set"
   ]
  },
  {
   "cell_type": "code",
   "execution_count": 10,
   "metadata": {},
   "outputs": [],
   "source": [
    "X_train, X_test, y_train, y_test = train_test_split(X, y, test_size = 0.1, random_state = 42)"
   ]
  },
  {
   "cell_type": "markdown",
   "metadata": {},
   "source": [
    "## K-Nearest Neighbours Classifier"
   ]
  },
  {
   "cell_type": "markdown",
   "metadata": {},
   "source": [
    "#### Set up the hyperparameter space for tuning"
   ]
  },
  {
   "cell_type": "code",
   "execution_count": 19,
   "metadata": {},
   "outputs": [],
   "source": [
    "k_space = np.arange(2, 20, 2)"
   ]
  },
  {
   "cell_type": "markdown",
   "metadata": {},
   "source": [
    "#### Initialise the cross-validation scores array"
   ]
  },
  {
   "cell_type": "code",
   "execution_count": 20,
   "metadata": {},
   "outputs": [],
   "source": [
    "cv_scores = []"
   ]
  },
  {
   "cell_type": "markdown",
   "metadata": {},
   "source": [
    "#### Fit the model to the dataset"
   ]
  },
  {
   "cell_type": "code",
   "execution_count": 55,
   "metadata": {},
   "outputs": [
    {
     "name": "stdout",
     "output_type": "stream",
     "text": [
      "10.06840699099996\n"
     ]
    }
   ],
   "source": [
    "tic = time.perf_counter()\n",
    "for k in k_space:\n",
    "    knn = KNeighborsClassifier(n_neighbors = k)\n",
    "    cv_score = np.mean(cross_val_score(knn, X_train, y_train, cv = 5))\n",
    "    cv_scores.append(cv_score)\n",
    "toc = time.perf_counter()\n",
    "print(round(toc - tic, 0), 'seconds')"
   ]
  },
  {
   "cell_type": "markdown",
   "metadata": {},
   "source": [
    "#### Model accuracy"
   ]
  },
  {
   "cell_type": "code",
   "execution_count": 22,
   "metadata": {},
   "outputs": [
    {
     "name": "stdout",
     "output_type": "stream",
     "text": [
      "    k  Cross-validation scores\n",
      "0   2                 0.980422\n",
      "1   4                 0.983775\n",
      "2   6                 0.984230\n",
      "3   8                 0.984940\n",
      "4  10                 0.984969\n",
      "5  12                 0.985395\n",
      "6  14                 0.985139\n",
      "7  16                 0.985224\n",
      "8  18                 0.985508\n"
     ]
    },
    {
     "data": {
      "image/png": "[encoded data removed]",
      "text/plain": [
       "<Figure size 432x288 with 1 Axes>"
      ]
     },
     "metadata": {
      "needs_background": "light"
     },
     "output_type": "display_data"
    }
   ],
   "source": [
    "print(pd.DataFrame({'k': k_space,\n",
    "                   'Cross-validation scores': cv_scores}))\n",
    "\n",
    "plt.plot(k_space, cv_scores, linewidth = 1)\n",
    "plt.suptitle('K-nearest neighbors classifier model on digits dataset', size = 14)\n",
    "plt.title('Cross-validation score against number of neighbours')\n",
    "plt.xlabel('Number of neighbours')\n",
    "plt.ylabel('Cross-validation score')\n",
    "plt.xticks(k_space)\n",
    "plt.show()"
   ]
  },
  {
   "cell_type": "markdown",
   "metadata": {},
   "source": [
    "#### Confusion matrix"
   ]
  },
  {
   "cell_type": "code",
   "execution_count": 67,
   "metadata": {},
   "outputs": [
    {
     "name": "stdout",
     "output_type": "stream",
     "text": [
      "[[1763    9]\n",
      " [  36 2103]]\n"
     ]
    }
   ],
   "source": [
    "knn = KNeighborsClassifier(n_neighbors = 12)\n",
    "knn.fit(X_train, y_train)\n",
    "y_pred = knn.predict(X_test)\n",
    "conf_mat = confusion_matrix(y_test, y_pred)\n",
    "print(conf_mat)"
   ]
  },
  {
   "cell_type": "markdown",
   "metadata": {},
   "source": [
    "## Support vector machine classifier"
   ]
  },
  {
   "cell_type": "markdown",
   "metadata": {},
   "source": [
    "#### Set up the hyperparameter space for tuning"
   ]
  },
  {
   "cell_type": "code",
   "execution_count": 36,
   "metadata": {},
   "outputs": [],
   "source": [
    "C_space = np.arange(0.2, 3, 0.2)"
   ]
  },
  {
   "cell_type": "markdown",
   "metadata": {},
   "source": [
    "#### Initialise the cross-validation scores array"
   ]
  },
  {
   "cell_type": "code",
   "execution_count": 38,
   "metadata": {},
   "outputs": [],
   "source": [
    "cv_scores = []"
   ]
  },
  {
   "cell_type": "markdown",
   "metadata": {},
   "source": [
    "#### Fit the model to the dataset"
   ]
  },
  {
   "cell_type": "code",
   "execution_count": 40,
   "metadata": {},
   "outputs": [],
   "source": [
    "tic = time.perf_counter()\n",
    "for C in C_space:\n",
    "    svc = svm.LinearSVC(C = C, max_iter = 2000)\n",
    "    cv_score = np.mean(cross_val_score(svc, X_train, y_train, cv = 5))\n",
    "    cv_scores.append(cv_score)\n",
    "toc = time.perf_counter()\n",
    "print(round(toc - tic, 0), 'seconds')"
   ]
  },
  {
   "cell_type": "markdown",
   "metadata": {},
   "source": [
    "#### Model accuracy"
   ]
  },
  {
   "cell_type": "code",
   "execution_count": 42,
   "metadata": {},
   "outputs": [
    {
     "name": "stdout",
     "output_type": "stream",
     "text": [
      "      C  Cross-validation scores\n",
      "0   0.2                 0.985082\n",
      "1   0.4                 0.985167\n",
      "2   0.6                 0.985224\n",
      "3   0.8                 0.985224\n",
      "4   1.0                 0.985224\n",
      "5   1.2                 0.985224\n",
      "6   1.4                 0.985224\n",
      "7   1.6                 0.985224\n",
      "8   1.8                 0.985224\n",
      "9   2.0                 0.985224\n",
      "10  2.2                 0.985224\n",
      "11  2.4                 0.985224\n",
      "12  2.6                 0.985224\n",
      "13  2.8                 0.985224\n"
     ]
    },
    {
     "data": {
      "image/png": "[encoded data removed]",
      "text/plain": [
       "<Figure size 432x288 with 1 Axes>"
      ]
     },
     "metadata": {
      "needs_background": "light"
     },
     "output_type": "display_data"
    }
   ],
   "source": [
    "print(pd.DataFrame({'C': C_space,\n",
    "                   'Cross-validation scores': cv_scores}))\n",
    "\n",
    "plt.plot(C_space, cv_scores, linewidth = 1)\n",
    "plt.suptitle('Support vector machine classifier model on digits dataset', size = 14)\n",
    "plt.title('Cross-validation score against C parameter')\n",
    "plt.xlabel('C parameter')\n",
    "plt.ylabel('Cross-validation score')\n",
    "plt.show()"
   ]
  },
  {
   "cell_type": "markdown",
   "metadata": {},
   "source": [
    "#### Confusion matrix"
   ]
  },
  {
   "cell_type": "code",
   "execution_count": 68,
   "metadata": {},
   "outputs": [
    {
     "name": "stdout",
     "output_type": "stream",
     "text": [
      "[[1760   12]\n",
      " [  24 2115]]\n"
     ]
    }
   ],
   "source": [
    "svc = svm.LinearSVC(C = 0.6, max_iter = 2000)\n",
    "svc.fit(X_train, y_train)\n",
    "y_pred = svc.predict(X_test)\n",
    "conf_mat = confusion_matrix(y_test, y_pred)\n",
    "print(conf_mat)"
   ]
  },
  {
   "cell_type": "markdown",
   "metadata": {},
   "source": [
    "# Stochastic gradient descent classifier"
   ]
  },
  {
   "cell_type": "markdown",
   "metadata": {},
   "source": [
    "#### Set up the hyperparameter space for tuning"
   ]
  },
  {
   "cell_type": "code",
   "execution_count": 49,
   "metadata": {},
   "outputs": [],
   "source": [
    "alpha_space = np.arange(5e-6, 2e-5, 1e-6)"
   ]
  },
  {
   "cell_type": "markdown",
   "metadata": {},
   "source": [
    "#### Initialise the cross-validation scores array"
   ]
  },
  {
   "cell_type": "code",
   "execution_count": 50,
   "metadata": {},
   "outputs": [],
   "source": [
    "cv_scores = []"
   ]
  },
  {
   "cell_type": "markdown",
   "metadata": {},
   "source": [
    "#### Fit the model to the dataset"
   ]
  },
  {
   "cell_type": "code",
   "execution_count": 51,
   "metadata": {},
   "outputs": [],
   "source": [
    "tic = time.perf_counter()\n",
    "for a in alpha_space:\n",
    "    sgdc = SGDClassifier(alpha = a)\n",
    "    cv_score = np.mean(cross_val_score(sgdc, X_train, y_train, cv = 5))\n",
    "    cv_scores.append(cv_score)\n",
    "toc = time.perf_counter()\n",
    "print(round(toc - tic, 0), 'seconds')"
   ]
  },
  {
   "cell_type": "markdown",
   "metadata": {},
   "source": [
    "#### Model accuracy"
   ]
  },
  {
   "cell_type": "code",
   "execution_count": 52,
   "metadata": {},
   "outputs": [
    {
     "name": "stdout",
     "output_type": "stream",
     "text": [
      "       alpha  Cross-validation scores\n",
      "0   0.000005                 0.982951\n",
      "1   0.000006                 0.984372\n",
      "2   0.000007                 0.984258\n",
      "3   0.000008                 0.983491\n",
      "4   0.000009                 0.984287\n",
      "5   0.000010                 0.984599\n",
      "6   0.000011                 0.985196\n",
      "7   0.000012                 0.984315\n",
      "8   0.000013                 0.984400\n",
      "9   0.000014                 0.984002\n",
      "10  0.000015                 0.984429\n",
      "11  0.000016                 0.983917\n",
      "12  0.000017                 0.984628\n",
      "13  0.000018                 0.984770\n",
      "14  0.000019                 0.984173\n",
      "15  0.000020                 0.984486\n"
     ]
    },
    {
     "data": {
      "image/png": "[encoded data removed]",
      "text/plain": [
       "<Figure size 432x288 with 1 Axes>"
      ]
     },
     "metadata": {
      "needs_background": "light"
     },
     "output_type": "display_data"
    }
   ],
   "source": [
    "print(pd.DataFrame({'alpha': alpha_space,\n",
    "                   'Cross-validation scores': cv_scores}))\n",
    "\n",
    "plt.plot(alpha_space, cv_scores, linewidth = 1)\n",
    "plt.suptitle('Stochastic gradient descent classifier on iris dataset', size = 14)\n",
    "plt.title('Cross-validation score against alpha parameter')\n",
    "plt.xlabel('Alpha parameter')\n",
    "plt.ylabel('Cross-validation score')\n",
    "plt.show()"
   ]
  },
  {
   "cell_type": "markdown",
   "metadata": {},
   "source": [
    "#### Confusion matrix"
   ]
  },
  {
   "cell_type": "code",
   "execution_count": 69,
   "metadata": {},
   "outputs": [
    {
     "name": "stdout",
     "output_type": "stream",
     "text": [
      "[[1760   12]\n",
      " [  24 2115]]\n"
     ]
    }
   ],
   "source": [
    "sgdc = SGDClassifier(alpha = 1.1e-5)\n",
    "sgdc.fit(X_train, y_train)\n",
    "y_pred = svc.predict(X_test)\n",
    "conf_mat = confusion_matrix(y_test, y_pred)\n",
    "print(conf_mat)"
   ]
  },
  {
   "cell_type": "markdown",
   "metadata": {},
   "source": [
    "## Decision tree classifier"
   ]
  },
  {
   "cell_type": "markdown",
   "metadata": {},
   "source": [
    "#### Set up the parameter space"
   ]
  },
  {
   "cell_type": "code",
   "execution_count": 57,
   "metadata": {},
   "outputs": [],
   "source": [
    "max_depth_space = np.arange(1, 12, 1)"
   ]
  },
  {
   "cell_type": "markdown",
   "metadata": {},
   "source": [
    "#### Initialise the cross-validation scores array"
   ]
  },
  {
   "cell_type": "code",
   "execution_count": 58,
   "metadata": {},
   "outputs": [],
   "source": [
    "cv_scores = []"
   ]
  },
  {
   "cell_type": "markdown",
   "metadata": {},
   "source": [
    "#### Fit the model to the dataset"
   ]
  },
  {
   "cell_type": "code",
   "execution_count": 60,
   "metadata": {},
   "outputs": [
    {
     "name": "stdout",
     "output_type": "stream",
     "text": [
      "3.0 seconds\n"
     ]
    }
   ],
   "source": [
    "tic = time.perf_counter()\n",
    "for d in max_depth_space:\n",
    "    dec_tree = tree.DecisionTreeClassifier(max_depth = d)\n",
    "    cv_score = np.mean(cross_val_score(dec_tree, X_train, y_train, cv = 5))\n",
    "    cv_scores.append(cv_score)\n",
    "toc = time.perf_counter()\n",
    "print(round(toc - tic, 0), 'seconds')"
   ]
  },
  {
   "cell_type": "markdown",
   "metadata": {},
   "source": [
    "#### Model accuracy"
   ]
  },
  {
   "cell_type": "code",
   "execution_count": 61,
   "metadata": {},
   "outputs": [
    {
     "name": "stdout",
     "output_type": "stream",
     "text": [
      "    max_depth  Cross-validation scores\n",
      "0           1                 0.982241\n",
      "1           2                 0.982241\n",
      "2           3                 0.984372\n",
      "3           4                 0.984997\n",
      "4           5                 0.984599\n",
      "5           6                 0.984201\n",
      "6           7                 0.984798\n",
      "7           8                 0.984770\n",
      "8           9                 0.984429\n",
      "9          10                 0.984315\n",
      "10         11                 0.984230\n"
     ]
    },
    {
     "data": {
      "image/png": "[encoded data removed]",
      "text/plain": [
       "<Figure size 432x288 with 1 Axes>"
      ]
     },
     "metadata": {
      "needs_background": "light"
     },
     "output_type": "display_data"
    }
   ],
   "source": [
    "print(pd.DataFrame({'max_depth': max_depth_space,\n",
    "                   'Cross-validation scores': cv_scores}))\n",
    "\n",
    "plt.plot(max_depth_space, cv_scores, linewidth = 1)\n",
    "plt.suptitle('Decision tree classifier on iris dataset', size = 14)\n",
    "plt.title('Cross-validation score against max depth parameter')\n",
    "plt.xlabel('Max depth parameter')\n",
    "plt.ylabel('Cross-validation score')\n",
    "plt.show()"
   ]
  },
  {
   "cell_type": "markdown",
   "metadata": {},
   "source": [
    "#### Confusion matrix"
   ]
  },
  {
   "cell_type": "code",
   "execution_count": 71,
   "metadata": {},
   "outputs": [
    {
     "name": "stdout",
     "output_type": "stream",
     "text": [
      "[[1760   12]\n",
      " [  24 2115]]\n"
     ]
    }
   ],
   "source": [
    "dec_tree = tree.DecisionTreeClassifier(max_depth = 4)\n",
    "sgdc.fit(X_train, y_train)\n",
    "y_pred = svc.predict(X_test)\n",
    "conf_mat = confusion_matrix(y_test, y_pred)\n",
    "print(conf_mat)"
   ]
  }
 ],
 "metadata": {
  "kernelspec": {
   "display_name": "Python 3",
   "language": "python",
   "name": "python3"
  },
  "language_info": {
   "codemirror_mode": {
    "name": "ipython",
    "version": 3
   },
   "file_extension": ".py",
   "mimetype": "text/x-python",
   "name": "python",
   "nbconvert_exporter": "python",
   "pygments_lexer": "ipython3",
   "version": "3.7.6"
  }
 },
 "nbformat": 4,
 "nbformat_minor": 4
}
